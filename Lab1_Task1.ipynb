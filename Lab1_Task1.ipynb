{
 "cells": [
  {
   "cell_type": "markdown",
   "id": "aff5d6a7",
   "metadata": {},
   "source": [
    "### Imports"
   ]
  },
  {
   "cell_type": "code",
   "execution_count": 49,
   "id": "0fe4b652",
   "metadata": {},
   "outputs": [],
   "source": [
    "import pandas as pd\n",
    "from pyvis.network import Network"
   ]
  },
  {
   "cell_type": "markdown",
   "id": "dadc6aa3",
   "metadata": {},
   "source": [
    "### Load CSV Data"
   ]
  },
  {
   "cell_type": "code",
   "execution_count": 50,
   "id": "d614a53e",
   "metadata": {},
   "outputs": [
    {
     "data": {
      "text/html": [
       "<div>\n",
       "<style scoped>\n",
       "    .dataframe tbody tr th:only-of-type {\n",
       "        vertical-align: middle;\n",
       "    }\n",
       "\n",
       "    .dataframe tbody tr th {\n",
       "        vertical-align: top;\n",
       "    }\n",
       "\n",
       "    .dataframe thead th {\n",
       "        text-align: right;\n",
       "    }\n",
       "</style>\n",
       "<table border=\"1\" class=\"dataframe\">\n",
       "  <thead>\n",
       "    <tr style=\"text-align: right;\">\n",
       "      <th></th>\n",
       "      <th>name</th>\n",
       "      <th>year</th>\n",
       "      <th>battle_number</th>\n",
       "      <th>attacker_king</th>\n",
       "      <th>defender_king</th>\n",
       "      <th>attacker_1</th>\n",
       "      <th>attacker_2</th>\n",
       "      <th>attacker_3</th>\n",
       "      <th>attacker_4</th>\n",
       "      <th>defender_1</th>\n",
       "      <th>...</th>\n",
       "      <th>major_death</th>\n",
       "      <th>major_capture</th>\n",
       "      <th>attacker_size</th>\n",
       "      <th>defender_size</th>\n",
       "      <th>attacker_commander</th>\n",
       "      <th>defender_commander</th>\n",
       "      <th>summer</th>\n",
       "      <th>location</th>\n",
       "      <th>region</th>\n",
       "      <th>note</th>\n",
       "    </tr>\n",
       "  </thead>\n",
       "  <tbody>\n",
       "    <tr>\n",
       "      <th>0</th>\n",
       "      <td>Battle of the Golden Tooth</td>\n",
       "      <td>298</td>\n",
       "      <td>1</td>\n",
       "      <td>Joffrey/Tommen Baratheon</td>\n",
       "      <td>Robb Stark</td>\n",
       "      <td>Lannister</td>\n",
       "      <td>NaN</td>\n",
       "      <td>NaN</td>\n",
       "      <td>NaN</td>\n",
       "      <td>Tully</td>\n",
       "      <td>...</td>\n",
       "      <td>1.0</td>\n",
       "      <td>0.0</td>\n",
       "      <td>15000.0</td>\n",
       "      <td>4000.0</td>\n",
       "      <td>Jaime Lannister</td>\n",
       "      <td>Clement Piper, Vance</td>\n",
       "      <td>1.0</td>\n",
       "      <td>Golden Tooth</td>\n",
       "      <td>The Westerlands</td>\n",
       "      <td>NaN</td>\n",
       "    </tr>\n",
       "    <tr>\n",
       "      <th>1</th>\n",
       "      <td>Battle at the Mummer's Ford</td>\n",
       "      <td>298</td>\n",
       "      <td>2</td>\n",
       "      <td>Joffrey/Tommen Baratheon</td>\n",
       "      <td>Robb Stark</td>\n",
       "      <td>Lannister</td>\n",
       "      <td>NaN</td>\n",
       "      <td>NaN</td>\n",
       "      <td>NaN</td>\n",
       "      <td>Baratheon</td>\n",
       "      <td>...</td>\n",
       "      <td>1.0</td>\n",
       "      <td>0.0</td>\n",
       "      <td>NaN</td>\n",
       "      <td>120.0</td>\n",
       "      <td>Gregor Clegane</td>\n",
       "      <td>Beric Dondarrion</td>\n",
       "      <td>1.0</td>\n",
       "      <td>Mummer's Ford</td>\n",
       "      <td>The Riverlands</td>\n",
       "      <td>NaN</td>\n",
       "    </tr>\n",
       "    <tr>\n",
       "      <th>2</th>\n",
       "      <td>Battle of Riverrun</td>\n",
       "      <td>298</td>\n",
       "      <td>3</td>\n",
       "      <td>Joffrey/Tommen Baratheon</td>\n",
       "      <td>Robb Stark</td>\n",
       "      <td>Lannister</td>\n",
       "      <td>NaN</td>\n",
       "      <td>NaN</td>\n",
       "      <td>NaN</td>\n",
       "      <td>Tully</td>\n",
       "      <td>...</td>\n",
       "      <td>0.0</td>\n",
       "      <td>1.0</td>\n",
       "      <td>15000.0</td>\n",
       "      <td>10000.0</td>\n",
       "      <td>Jaime Lannister, Andros Brax</td>\n",
       "      <td>Edmure Tully, Tytos Blackwood</td>\n",
       "      <td>1.0</td>\n",
       "      <td>Riverrun</td>\n",
       "      <td>The Riverlands</td>\n",
       "      <td>NaN</td>\n",
       "    </tr>\n",
       "    <tr>\n",
       "      <th>3</th>\n",
       "      <td>Battle of the Green Fork</td>\n",
       "      <td>298</td>\n",
       "      <td>4</td>\n",
       "      <td>Robb Stark</td>\n",
       "      <td>Joffrey/Tommen Baratheon</td>\n",
       "      <td>Stark</td>\n",
       "      <td>NaN</td>\n",
       "      <td>NaN</td>\n",
       "      <td>NaN</td>\n",
       "      <td>Lannister</td>\n",
       "      <td>...</td>\n",
       "      <td>1.0</td>\n",
       "      <td>1.0</td>\n",
       "      <td>18000.0</td>\n",
       "      <td>20000.0</td>\n",
       "      <td>Roose Bolton, Wylis Manderly, Medger Cerwyn, H...</td>\n",
       "      <td>Tywin Lannister, Gregor Clegane, Kevan Lannist...</td>\n",
       "      <td>1.0</td>\n",
       "      <td>Green Fork</td>\n",
       "      <td>The Riverlands</td>\n",
       "      <td>NaN</td>\n",
       "    </tr>\n",
       "    <tr>\n",
       "      <th>4</th>\n",
       "      <td>Battle of the Whispering Wood</td>\n",
       "      <td>298</td>\n",
       "      <td>5</td>\n",
       "      <td>Robb Stark</td>\n",
       "      <td>Joffrey/Tommen Baratheon</td>\n",
       "      <td>Stark</td>\n",
       "      <td>Tully</td>\n",
       "      <td>NaN</td>\n",
       "      <td>NaN</td>\n",
       "      <td>Lannister</td>\n",
       "      <td>...</td>\n",
       "      <td>1.0</td>\n",
       "      <td>1.0</td>\n",
       "      <td>1875.0</td>\n",
       "      <td>6000.0</td>\n",
       "      <td>Robb Stark, Brynden Tully</td>\n",
       "      <td>Jaime Lannister</td>\n",
       "      <td>1.0</td>\n",
       "      <td>Whispering Wood</td>\n",
       "      <td>The Riverlands</td>\n",
       "      <td>NaN</td>\n",
       "    </tr>\n",
       "  </tbody>\n",
       "</table>\n",
       "<p>5 rows × 25 columns</p>\n",
       "</div>"
      ],
      "text/plain": [
       "                            name  year  battle_number  \\\n",
       "0     Battle of the Golden Tooth   298              1   \n",
       "1    Battle at the Mummer's Ford   298              2   \n",
       "2             Battle of Riverrun   298              3   \n",
       "3       Battle of the Green Fork   298              4   \n",
       "4  Battle of the Whispering Wood   298              5   \n",
       "\n",
       "              attacker_king             defender_king attacker_1 attacker_2  \\\n",
       "0  Joffrey/Tommen Baratheon                Robb Stark  Lannister        NaN   \n",
       "1  Joffrey/Tommen Baratheon                Robb Stark  Lannister        NaN   \n",
       "2  Joffrey/Tommen Baratheon                Robb Stark  Lannister        NaN   \n",
       "3                Robb Stark  Joffrey/Tommen Baratheon      Stark        NaN   \n",
       "4                Robb Stark  Joffrey/Tommen Baratheon      Stark      Tully   \n",
       "\n",
       "  attacker_3 attacker_4 defender_1  ... major_death  major_capture  \\\n",
       "0        NaN        NaN      Tully  ...         1.0            0.0   \n",
       "1        NaN        NaN  Baratheon  ...         1.0            0.0   \n",
       "2        NaN        NaN      Tully  ...         0.0            1.0   \n",
       "3        NaN        NaN  Lannister  ...         1.0            1.0   \n",
       "4        NaN        NaN  Lannister  ...         1.0            1.0   \n",
       "\n",
       "   attacker_size defender_size  \\\n",
       "0        15000.0        4000.0   \n",
       "1            NaN         120.0   \n",
       "2        15000.0       10000.0   \n",
       "3        18000.0       20000.0   \n",
       "4         1875.0        6000.0   \n",
       "\n",
       "                                  attacker_commander  \\\n",
       "0                                    Jaime Lannister   \n",
       "1                                     Gregor Clegane   \n",
       "2                       Jaime Lannister, Andros Brax   \n",
       "3  Roose Bolton, Wylis Manderly, Medger Cerwyn, H...   \n",
       "4                          Robb Stark, Brynden Tully   \n",
       "\n",
       "                                  defender_commander  summer         location  \\\n",
       "0                               Clement Piper, Vance     1.0     Golden Tooth   \n",
       "1                                   Beric Dondarrion     1.0    Mummer's Ford   \n",
       "2                      Edmure Tully, Tytos Blackwood     1.0         Riverrun   \n",
       "3  Tywin Lannister, Gregor Clegane, Kevan Lannist...     1.0       Green Fork   \n",
       "4                                    Jaime Lannister     1.0  Whispering Wood   \n",
       "\n",
       "            region note  \n",
       "0  The Westerlands  NaN  \n",
       "1   The Riverlands  NaN  \n",
       "2   The Riverlands  NaN  \n",
       "3   The Riverlands  NaN  \n",
       "4   The Riverlands  NaN  \n",
       "\n",
       "[5 rows x 25 columns]"
      ]
     },
     "execution_count": 50,
     "metadata": {},
     "output_type": "execute_result"
    }
   ],
   "source": [
    "data = pd.read_csv(\"data/game-of-thrones-battles.csv\")\n",
    "data.head(5)"
   ]
  },
  {
   "cell_type": "code",
   "execution_count": 51,
   "id": "dd37fb18",
   "metadata": {},
   "outputs": [
    {
     "name": "stdout",
     "output_type": "stream",
     "text": [
      "<class 'pandas.core.frame.DataFrame'>\n",
      "RangeIndex: 38 entries, 0 to 37\n",
      "Data columns (total 25 columns):\n",
      " #   Column              Non-Null Count  Dtype  \n",
      "---  ------              --------------  -----  \n",
      " 0   name                38 non-null     object \n",
      " 1   year                38 non-null     int64  \n",
      " 2   battle_number       38 non-null     int64  \n",
      " 3   attacker_king       36 non-null     object \n",
      " 4   defender_king       35 non-null     object \n",
      " 5   attacker_1          38 non-null     object \n",
      " 6   attacker_2          10 non-null     object \n",
      " 7   attacker_3          3 non-null      object \n",
      " 8   attacker_4          2 non-null      object \n",
      " 9   defender_1          37 non-null     object \n",
      " 10  defender_2          2 non-null      object \n",
      " 11  defender_3          0 non-null      float64\n",
      " 12  defender_4          0 non-null      float64\n",
      " 13  attacker_outcome    37 non-null     object \n",
      " 14  battle_type         37 non-null     object \n",
      " 15  major_death         37 non-null     float64\n",
      " 16  major_capture       37 non-null     float64\n",
      " 17  attacker_size       24 non-null     float64\n",
      " 18  defender_size       19 non-null     float64\n",
      " 19  attacker_commander  37 non-null     object \n",
      " 20  defender_commander  28 non-null     object \n",
      " 21  summer              37 non-null     float64\n",
      " 22  location            37 non-null     object \n",
      " 23  region              38 non-null     object \n",
      " 24  note                5 non-null      object \n",
      "dtypes: float64(7), int64(2), object(16)\n",
      "memory usage: 7.6+ KB\n"
     ]
    }
   ],
   "source": [
    "data.info()"
   ]
  },
  {
   "cell_type": "markdown",
   "id": "73ecb81e",
   "metadata": {},
   "source": [
    "### Select Columns:\n",
    "- *name*, *attacker_king*, *defender_king*, *attacker_size*, *defender_size*"
   ]
  },
  {
   "cell_type": "code",
   "execution_count": 52,
   "id": "b5e47c13",
   "metadata": {},
   "outputs": [
    {
     "data": {
      "text/html": [
       "<div>\n",
       "<style scoped>\n",
       "    .dataframe tbody tr th:only-of-type {\n",
       "        vertical-align: middle;\n",
       "    }\n",
       "\n",
       "    .dataframe tbody tr th {\n",
       "        vertical-align: top;\n",
       "    }\n",
       "\n",
       "    .dataframe thead th {\n",
       "        text-align: right;\n",
       "    }\n",
       "</style>\n",
       "<table border=\"1\" class=\"dataframe\">\n",
       "  <thead>\n",
       "    <tr style=\"text-align: right;\">\n",
       "      <th></th>\n",
       "      <th>name</th>\n",
       "      <th>attacker_king</th>\n",
       "      <th>defender_king</th>\n",
       "      <th>attacker_size</th>\n",
       "      <th>defender_size</th>\n",
       "    </tr>\n",
       "  </thead>\n",
       "  <tbody>\n",
       "    <tr>\n",
       "      <th>0</th>\n",
       "      <td>Battle of the Golden Tooth</td>\n",
       "      <td>Joffrey/Tommen Baratheon</td>\n",
       "      <td>Robb Stark</td>\n",
       "      <td>15000.0</td>\n",
       "      <td>4000.0</td>\n",
       "    </tr>\n",
       "    <tr>\n",
       "      <th>1</th>\n",
       "      <td>Battle at the Mummer's Ford</td>\n",
       "      <td>Joffrey/Tommen Baratheon</td>\n",
       "      <td>Robb Stark</td>\n",
       "      <td>NaN</td>\n",
       "      <td>120.0</td>\n",
       "    </tr>\n",
       "    <tr>\n",
       "      <th>2</th>\n",
       "      <td>Battle of Riverrun</td>\n",
       "      <td>Joffrey/Tommen Baratheon</td>\n",
       "      <td>Robb Stark</td>\n",
       "      <td>15000.0</td>\n",
       "      <td>10000.0</td>\n",
       "    </tr>\n",
       "    <tr>\n",
       "      <th>3</th>\n",
       "      <td>Battle of the Green Fork</td>\n",
       "      <td>Robb Stark</td>\n",
       "      <td>Joffrey/Tommen Baratheon</td>\n",
       "      <td>18000.0</td>\n",
       "      <td>20000.0</td>\n",
       "    </tr>\n",
       "    <tr>\n",
       "      <th>4</th>\n",
       "      <td>Battle of the Whispering Wood</td>\n",
       "      <td>Robb Stark</td>\n",
       "      <td>Joffrey/Tommen Baratheon</td>\n",
       "      <td>1875.0</td>\n",
       "      <td>6000.0</td>\n",
       "    </tr>\n",
       "  </tbody>\n",
       "</table>\n",
       "</div>"
      ],
      "text/plain": [
       "                            name             attacker_king  \\\n",
       "0     Battle of the Golden Tooth  Joffrey/Tommen Baratheon   \n",
       "1    Battle at the Mummer's Ford  Joffrey/Tommen Baratheon   \n",
       "2             Battle of Riverrun  Joffrey/Tommen Baratheon   \n",
       "3       Battle of the Green Fork                Robb Stark   \n",
       "4  Battle of the Whispering Wood                Robb Stark   \n",
       "\n",
       "              defender_king  attacker_size  defender_size  \n",
       "0                Robb Stark        15000.0         4000.0  \n",
       "1                Robb Stark            NaN          120.0  \n",
       "2                Robb Stark        15000.0        10000.0  \n",
       "3  Joffrey/Tommen Baratheon        18000.0        20000.0  \n",
       "4  Joffrey/Tommen Baratheon         1875.0         6000.0  "
      ]
     },
     "execution_count": 52,
     "metadata": {},
     "output_type": "execute_result"
    }
   ],
   "source": [
    "battles_df=data.loc[:,['name','attacker_king','defender_king','attacker_size','defender_size']]\n",
    "battles_df.head()"
   ]
  },
  {
   "cell_type": "code",
   "execution_count": 53,
   "id": "0b3c11ef",
   "metadata": {},
   "outputs": [
    {
     "name": "stdout",
     "output_type": "stream",
     "text": [
      "<class 'pandas.core.frame.DataFrame'>\n",
      "RangeIndex: 38 entries, 0 to 37\n",
      "Data columns (total 5 columns):\n",
      " #   Column         Non-Null Count  Dtype  \n",
      "---  ------         --------------  -----  \n",
      " 0   name           38 non-null     object \n",
      " 1   attacker_king  36 non-null     object \n",
      " 2   defender_king  35 non-null     object \n",
      " 3   attacker_size  24 non-null     float64\n",
      " 4   defender_size  19 non-null     float64\n",
      "dtypes: float64(2), object(3)\n",
      "memory usage: 1.6+ KB\n"
     ]
    }
   ],
   "source": [
    "battles_df.info()"
   ]
  },
  {
   "cell_type": "markdown",
   "id": "d83996cb",
   "metadata": {},
   "source": [
    "### Remove rows with any missing values (NaN)"
   ]
  },
  {
   "cell_type": "code",
   "execution_count": 54,
   "id": "bd32cf01",
   "metadata": {},
   "outputs": [
    {
     "name": "stdout",
     "output_type": "stream",
     "text": [
      "<class 'pandas.core.frame.DataFrame'>\n",
      "Index: 16 entries, 0 to 37\n",
      "Data columns (total 5 columns):\n",
      " #   Column         Non-Null Count  Dtype  \n",
      "---  ------         --------------  -----  \n",
      " 0   name           16 non-null     object \n",
      " 1   attacker_king  16 non-null     object \n",
      " 2   defender_king  16 non-null     object \n",
      " 3   attacker_size  16 non-null     float64\n",
      " 4   defender_size  16 non-null     float64\n",
      "dtypes: float64(2), object(3)\n",
      "memory usage: 768.0+ bytes\n"
     ]
    }
   ],
   "source": [
    "battles_df_cleaned=battles_df.dropna()\n",
    "battles_df_cleaned.info()"
   ]
  },
  {
   "cell_type": "code",
   "execution_count": 55,
   "id": "05feb889",
   "metadata": {},
   "outputs": [
    {
     "data": {
      "text/html": [
       "<div>\n",
       "<style scoped>\n",
       "    .dataframe tbody tr th:only-of-type {\n",
       "        vertical-align: middle;\n",
       "    }\n",
       "\n",
       "    .dataframe tbody tr th {\n",
       "        vertical-align: top;\n",
       "    }\n",
       "\n",
       "    .dataframe thead th {\n",
       "        text-align: right;\n",
       "    }\n",
       "</style>\n",
       "<table border=\"1\" class=\"dataframe\">\n",
       "  <thead>\n",
       "    <tr style=\"text-align: right;\">\n",
       "      <th></th>\n",
       "      <th>name</th>\n",
       "      <th>attacker_king</th>\n",
       "      <th>defender_king</th>\n",
       "      <th>attacker_size</th>\n",
       "      <th>defender_size</th>\n",
       "    </tr>\n",
       "  </thead>\n",
       "  <tbody>\n",
       "    <tr>\n",
       "      <th>0</th>\n",
       "      <td>Battle of the Golden Tooth</td>\n",
       "      <td>Joffrey/Tommen Baratheon</td>\n",
       "      <td>Robb Stark</td>\n",
       "      <td>15000.0</td>\n",
       "      <td>4000.0</td>\n",
       "    </tr>\n",
       "    <tr>\n",
       "      <th>2</th>\n",
       "      <td>Battle of Riverrun</td>\n",
       "      <td>Joffrey/Tommen Baratheon</td>\n",
       "      <td>Robb Stark</td>\n",
       "      <td>15000.0</td>\n",
       "      <td>10000.0</td>\n",
       "    </tr>\n",
       "    <tr>\n",
       "      <th>3</th>\n",
       "      <td>Battle of the Green Fork</td>\n",
       "      <td>Robb Stark</td>\n",
       "      <td>Joffrey/Tommen Baratheon</td>\n",
       "      <td>18000.0</td>\n",
       "      <td>20000.0</td>\n",
       "    </tr>\n",
       "  </tbody>\n",
       "</table>\n",
       "</div>"
      ],
      "text/plain": [
       "                         name             attacker_king  \\\n",
       "0  Battle of the Golden Tooth  Joffrey/Tommen Baratheon   \n",
       "2          Battle of Riverrun  Joffrey/Tommen Baratheon   \n",
       "3    Battle of the Green Fork                Robb Stark   \n",
       "\n",
       "              defender_king  attacker_size  defender_size  \n",
       "0                Robb Stark        15000.0         4000.0  \n",
       "2                Robb Stark        15000.0        10000.0  \n",
       "3  Joffrey/Tommen Baratheon        18000.0        20000.0  "
      ]
     },
     "execution_count": 55,
     "metadata": {},
     "output_type": "execute_result"
    }
   ],
   "source": [
    "battles_df_cleaned.head(3)"
   ]
  },
  {
   "cell_type": "markdown",
   "id": "abacc136",
   "metadata": {},
   "source": [
    "### Output names of attacking kings (without repetitions):"
   ]
  },
  {
   "cell_type": "code",
   "execution_count": 56,
   "id": "df9cbca5",
   "metadata": {},
   "outputs": [
    {
     "name": "stdout",
     "output_type": "stream",
     "text": [
      "Attacking kings: ['Joffrey/Tommen Baratheon' 'Robb Stark' 'Stannis Baratheon']\n"
     ]
    }
   ],
   "source": [
    "attackers = battles_df_cleaned.attacker_king.unique()\n",
    "print(f\"Attacking kings: {attackers}\")"
   ]
  },
  {
   "cell_type": "markdown",
   "id": "6517af8f",
   "metadata": {},
   "source": [
    "### Output names of defending kings (without repetitions):"
   ]
  },
  {
   "cell_type": "code",
   "execution_count": 57,
   "id": "045e4248",
   "metadata": {},
   "outputs": [
    {
     "name": "stdout",
     "output_type": "stream",
     "text": [
      "Defending kings: ['Robb Stark' 'Joffrey/Tommen Baratheon' 'Balon/Euron Greyjoy'\n",
      " 'Renly Baratheon' 'Mance Rayder']\n"
     ]
    }
   ],
   "source": [
    "defenders = battles_df_cleaned.defender_king.unique()\n",
    "print(f\"Defending kings: {defenders}\")"
   ]
  },
  {
   "cell_type": "markdown",
   "id": "b7ae81f7",
   "metadata": {},
   "source": [
    "### Instantiate Pyvis Network Object"
   ]
  },
  {
   "cell_type": "code",
   "execution_count": 58,
   "id": "923aa187",
   "metadata": {},
   "outputs": [],
   "source": [
    "net5kings = Network(heading=\"Task1. Building Interactive Network of battles of the War of 5 Kings\",\n",
    "    bgcolor =\"#242020\",\n",
    "    font_color = \"white\",\n",
    "    height = \"1000px\",\n",
    "    width = \"100%\",\n",
    "    directed = True, # Since attacks are directed\n",
    "    notebook = True,\n",
    "    cdn_resources = \"remote\"\n",
    ")"
   ]
  },
  {
   "cell_type": "markdown",
   "id": "ad1e1df8",
   "metadata": {},
   "source": [
    "### Define nodes - list of unique king names."
   ]
  },
  {
   "cell_type": "code",
   "execution_count": 59,
   "id": "4738615b",
   "metadata": {},
   "outputs": [
    {
     "name": "stdout",
     "output_type": "stream",
     "text": [
      "Kings list (node names): {'Mance Rayder', 'Joffrey/Tommen Baratheon', 'Stannis Baratheon', 'Renly Baratheon', 'Robb Stark', 'Balon/Euron Greyjoy'}\n"
     ]
    }
   ],
   "source": [
    "kings = set(list(attackers) + list(defenders))\n",
    "print(f\"Kings list (node names): {kings}\")"
   ]
  },
  {
   "cell_type": "markdown",
   "id": "37d0d27a",
   "metadata": {},
   "source": [
    "### Add nodes to graph"
   ]
  },
  {
   "cell_type": "code",
   "execution_count": 60,
   "id": "a1dc22e0",
   "metadata": {},
   "outputs": [
    {
     "data": {
      "text/plain": [
       "[{'color': '#97c2fc',\n",
       "  'id': 'Mance Rayder',\n",
       "  'label': 'Mance Rayder',\n",
       "  'shape': 'dot',\n",
       "  'font': {'color': 'white'}},\n",
       " {'color': '#97c2fc',\n",
       "  'id': 'Joffrey/Tommen Baratheon',\n",
       "  'label': 'Joffrey/Tommen Baratheon',\n",
       "  'shape': 'dot',\n",
       "  'font': {'color': 'white'}},\n",
       " {'color': '#97c2fc',\n",
       "  'id': 'Stannis Baratheon',\n",
       "  'label': 'Stannis Baratheon',\n",
       "  'shape': 'dot',\n",
       "  'font': {'color': 'white'}},\n",
       " {'color': '#97c2fc',\n",
       "  'id': 'Renly Baratheon',\n",
       "  'label': 'Renly Baratheon',\n",
       "  'shape': 'dot',\n",
       "  'font': {'color': 'white'}},\n",
       " {'color': '#97c2fc',\n",
       "  'id': 'Robb Stark',\n",
       "  'label': 'Robb Stark',\n",
       "  'shape': 'dot',\n",
       "  'font': {'color': 'white'}},\n",
       " {'color': '#97c2fc',\n",
       "  'id': 'Balon/Euron Greyjoy',\n",
       "  'label': 'Balon/Euron Greyjoy',\n",
       "  'shape': 'dot',\n",
       "  'font': {'color': 'white'}}]"
      ]
     },
     "execution_count": 60,
     "metadata": {},
     "output_type": "execute_result"
    }
   ],
   "source": [
    "net5kings.add_nodes(kings)\n",
    "net5kings.nodes"
   ]
  },
  {
   "cell_type": "markdown",
   "id": "cadab632",
   "metadata": {},
   "source": [
    "### Define potential edges"
   ]
  },
  {
   "cell_type": "code",
   "execution_count": 61,
   "id": "e87fc551",
   "metadata": {},
   "outputs": [
    {
     "name": "stdout",
     "output_type": "stream",
     "text": [
      "Potential Edges of net5kings:\n",
      "['Joffrey/Tommen Baratheon', 'Robb Stark']\n",
      "['Joffrey/Tommen Baratheon', 'Robb Stark']\n",
      "['Robb Stark', 'Joffrey/Tommen Baratheon']\n",
      "['Robb Stark', 'Joffrey/Tommen Baratheon']\n",
      "['Robb Stark', 'Joffrey/Tommen Baratheon']\n",
      "['Robb Stark', 'Balon/Euron Greyjoy']\n",
      "['Joffrey/Tommen Baratheon', 'Robb Stark']\n",
      "['Robb Stark', 'Joffrey/Tommen Baratheon']\n",
      "['Stannis Baratheon', 'Renly Baratheon']\n",
      "['Joffrey/Tommen Baratheon', 'Robb Stark']\n",
      "['Robb Stark', 'Joffrey/Tommen Baratheon']\n",
      "['Stannis Baratheon', 'Joffrey/Tommen Baratheon']\n",
      "['Joffrey/Tommen Baratheon', 'Robb Stark']\n",
      "['Stannis Baratheon', 'Mance Rayder']\n",
      "['Stannis Baratheon', 'Balon/Euron Greyjoy']\n",
      "['Stannis Baratheon', 'Joffrey/Tommen Baratheon']\n"
     ]
    }
   ],
   "source": [
    "potential_edges = battles_df_cleaned.loc[:, ['attacker_king', 'defender_king']].to_numpy().tolist()\n",
    "print('Potential Edges of net5kings:')\n",
    "for edge in potential_edges:\n",
    "    print(edge)"
   ]
  },
  {
   "cell_type": "markdown",
   "id": "99eab58b",
   "metadata": {},
   "source": [
    "### Define real edges (no repitions)"
   ]
  },
  {
   "cell_type": "code",
   "execution_count": 62,
   "id": "c105819a",
   "metadata": {},
   "outputs": [
    {
     "data": {
      "text/plain": [
       "[['Joffrey/Tommen Baratheon', 'Robb Stark'],\n",
       " ['Robb Stark', 'Joffrey/Tommen Baratheon'],\n",
       " ['Robb Stark', 'Balon/Euron Greyjoy'],\n",
       " ['Stannis Baratheon', 'Renly Baratheon'],\n",
       " ['Stannis Baratheon', 'Joffrey/Tommen Baratheon'],\n",
       " ['Stannis Baratheon', 'Mance Rayder'],\n",
       " ['Stannis Baratheon', 'Balon/Euron Greyjoy']]"
      ]
     },
     "execution_count": 62,
     "metadata": {},
     "output_type": "execute_result"
    }
   ],
   "source": [
    "edges = []\n",
    "for edge in potential_edges:\n",
    "    if edge not in edges:\n",
    "        edges.append(edge)\n",
    "\n",
    "edges"
   ]
  },
  {
   "cell_type": "markdown",
   "id": "25f8b8cf",
   "metadata": {},
   "source": [
    "### Calculate edge weights\n",
    "as total number of battles between king1 and king2, where (king1, king2) is an edge."
   ]
  },
  {
   "cell_type": "code",
   "execution_count": 63,
   "id": "02849d89",
   "metadata": {},
   "outputs": [
    {
     "data": {
      "text/plain": [
       "attacker_king             defender_king           \n",
       "Joffrey/Tommen Baratheon  Robb Stark                  5\n",
       "Robb Stark                Balon/Euron Greyjoy         1\n",
       "                          Joffrey/Tommen Baratheon    5\n",
       "Stannis Baratheon         Balon/Euron Greyjoy         1\n",
       "                          Joffrey/Tommen Baratheon    2\n",
       "                          Mance Rayder                1\n",
       "                          Renly Baratheon             1\n",
       "Name: name, dtype: int64"
      ]
     },
     "execution_count": 63,
     "metadata": {},
     "output_type": "execute_result"
    }
   ],
   "source": [
    "battle_counts = battles_df_cleaned.groupby(['attacker_king', 'defender_king']).count()['name']\n",
    "battle_counts"
   ]
  },
  {
   "cell_type": "markdown",
   "id": "eb780875",
   "metadata": {},
   "source": [
    "### Define titles for edges\n",
    "using data from battles_df_cleaned about battles' name, attacker_size, and defender_size."
   ]
  },
  {
   "cell_type": "code",
   "execution_count": 64,
   "id": "9873aea4",
   "metadata": {},
   "outputs": [
    {
     "data": {
      "text/plain": [
       "attacker_king             defender_king           \n",
       "Joffrey/Tommen Baratheon  Robb Stark                  Battle of the Golden Tooth, Battle of Riverrun...\n",
       "Robb Stark                Balon/Euron Greyjoy                                Battle of Torrhen's Square\n",
       "                          Joffrey/Tommen Baratheon    Battle of the Green Fork, Battle of the Whispe...\n",
       "Stannis Baratheon         Balon/Euron Greyjoy                                Retaking of Deepwood Motte\n",
       "                          Joffrey/Tommen Baratheon        Battle of the Blackwater, Siege of Winterfell\n",
       "                          Mance Rayder                                           Battle of Castle Black\n",
       "                          Renly Baratheon                                          Siege of Storm's End\n",
       "Name: name, dtype: object"
      ]
     },
     "execution_count": 64,
     "metadata": {},
     "output_type": "execute_result"
    }
   ],
   "source": [
    "battle_names = battles_df_cleaned.groupby(['attacker_king', 'defender_king'])['name'].aggregate(', '.join)\n",
    "battle_names"
   ]
  },
  {
   "cell_type": "markdown",
   "id": "7508fae3",
   "metadata": {},
   "source": [
    "### Add weight and titles to each edge"
   ]
  },
  {
   "cell_type": "code",
   "execution_count": 65,
   "id": "6e61bea4",
   "metadata": {},
   "outputs": [
    {
     "name": "stdout",
     "output_type": "stream",
     "text": [
      "Attacking king: Joffrey/Tommen Baratheon, Defending king: Robb Stark, N of battles: 5, battles: Battle of the Golden Tooth, Battle of Riverrun, Sack of Winterfell, Battle of the Fords, The Red Wedding\n",
      "Attacking king: Robb Stark, Defending king: Joffrey/Tommen Baratheon, N of battles: 5, battles: Battle of the Green Fork, Battle of the Whispering Wood, Battle of the Camps, Battle of Oxcross, Sack of Harrenhal\n",
      "Attacking king: Robb Stark, Defending king: Balon/Euron Greyjoy, N of battles: 1, battles: Battle of Torrhen's Square\n",
      "Attacking king: Stannis Baratheon, Defending king: Renly Baratheon, N of battles: 1, battles: Siege of Storm's End\n",
      "Attacking king: Stannis Baratheon, Defending king: Joffrey/Tommen Baratheon, N of battles: 2, battles: Battle of the Blackwater, Siege of Winterfell\n",
      "Attacking king: Stannis Baratheon, Defending king: Mance Rayder, N of battles: 1, battles: Battle of Castle Black\n",
      "Attacking king: Stannis Baratheon, Defending king: Balon/Euron Greyjoy, N of battles: 1, battles: Retaking of Deepwood Motte\n",
      "edge_weights: [5, 5, 1, 1, 2, 1, 1]\n"
     ]
    }
   ],
   "source": [
    "full_edges = [] # Will contain dicts that have a src, dst, weight, and title\n",
    "\n",
    "for edge in edges:\n",
    "    attacker, defender = edge\n",
    "    weight = battle_counts.get((attacker, defender))\n",
    "    title = battle_names.get((attacker, defender))\n",
    "\n",
    "    full_edges.append({\n",
    "        'src': attacker,\n",
    "        'dst': defender,\n",
    "        'weight': weight,\n",
    "        'title': title\n",
    "    })\n",
    "\n",
    "for edge in full_edges:\n",
    "    print(f\"Attacking king: {edge['src']}, Defending king: {edge['dst']}, N of battles: {edge['weight']}, battles: {edge['title']}\")\n",
    "\n",
    "weights = map(lambda edge: str(edge['weight']), full_edges)\n",
    "print(f\"edge_weights: [{', '.join(weights)}]\")"
   ]
  },
  {
   "cell_type": "markdown",
   "id": "6cd043b6",
   "metadata": {},
   "source": [
    "###  Add edges with weigths to network"
   ]
  },
  {
   "cell_type": "code",
   "execution_count": 66,
   "id": "c1eb253b",
   "metadata": {},
   "outputs": [
    {
     "name": "stdout",
     "output_type": "stream",
     "text": [
      "The edge from Joffrey/Tommen Baratheon to Robb Stark with weight 5, title: 'Battle of the Golden Tooth, Battle of Riverrun, Sack of Winterfell, Battle of the Fords, The Red Wedding'\n",
      "The edge from Robb Stark to Joffrey/Tommen Baratheon with weight 5, title: 'Battle of the Green Fork, Battle of the Whispering Wood, Battle of the Camps, Battle of Oxcross, Sack of Harrenhal'\n",
      "The edge from Robb Stark to Balon/Euron Greyjoy with weight 1, title: 'Battle of Torrhen's Square'\n",
      "The edge from Stannis Baratheon to Renly Baratheon with weight 1, title: 'Siege of Storm's End'\n",
      "The edge from Stannis Baratheon to Joffrey/Tommen Baratheon with weight 2, title: 'Battle of the Blackwater, Siege of Winterfell'\n",
      "The edge from Stannis Baratheon to Mance Rayder with weight 1, title: 'Battle of Castle Black'\n",
      "The edge from Stannis Baratheon to Balon/Euron Greyjoy with weight 1, title: 'Retaking of Deepwood Motte'\n"
     ]
    }
   ],
   "source": [
    "# Convert edges to format suitable for function\n",
    "def format_edge(full_edge): \n",
    "    return {\n",
    "        \"value\": int(full_edge[\"weight\"]),\n",
    "        \"title\": full_edge[\"title\"],\n",
    "        \"arrows\": \"to\",\n",
    "        \"from\": full_edge[\"src\"],\n",
    "        \"to\": full_edge[\"dst\"],\n",
    "    }\n",
    "\n",
    "formatted_edges = map(format_edge, full_edges)\n",
    "\n",
    "for edge in formatted_edges:\n",
    "    net5kings.add_edge(\n",
    "        edge[\"from\"],\n",
    "        edge[\"to\"],\n",
    "        value = edge['value'],\n",
    "        title = edge['title'],\n",
    "        arrows = edge['arrows']\n",
    "    )\n",
    "\n",
    "# Display edges in required format\n",
    "for edge in full_edges:\n",
    "    print(f\"The edge from {edge['src']} to {edge['dst']} with weight {edge['weight']}, title: '{edge['title']}'\")"
   ]
  },
  {
   "cell_type": "code",
   "execution_count": 67,
   "id": "529022c8",
   "metadata": {},
   "outputs": [
    {
     "data": {
      "text/plain": [
       "[{'value': 5,\n",
       "  'title': 'Battle of the Golden Tooth, Battle of Riverrun, Sack of Winterfell, Battle of the Fords, The Red Wedding',\n",
       "  'arrows': 'to',\n",
       "  'from': 'Joffrey/Tommen Baratheon',\n",
       "  'to': 'Robb Stark'},\n",
       " {'value': 5,\n",
       "  'title': 'Battle of the Green Fork, Battle of the Whispering Wood, Battle of the Camps, Battle of Oxcross, Sack of Harrenhal',\n",
       "  'arrows': 'to',\n",
       "  'from': 'Robb Stark',\n",
       "  'to': 'Joffrey/Tommen Baratheon'},\n",
       " {'value': 1,\n",
       "  'title': \"Battle of Torrhen's Square\",\n",
       "  'arrows': 'to',\n",
       "  'from': 'Robb Stark',\n",
       "  'to': 'Balon/Euron Greyjoy'},\n",
       " {'value': 1,\n",
       "  'title': \"Siege of Storm's End\",\n",
       "  'arrows': 'to',\n",
       "  'from': 'Stannis Baratheon',\n",
       "  'to': 'Renly Baratheon'},\n",
       " {'value': 2,\n",
       "  'title': 'Battle of the Blackwater, Siege of Winterfell',\n",
       "  'arrows': 'to',\n",
       "  'from': 'Stannis Baratheon',\n",
       "  'to': 'Joffrey/Tommen Baratheon'},\n",
       " {'value': 1,\n",
       "  'title': 'Battle of Castle Black',\n",
       "  'arrows': 'to',\n",
       "  'from': 'Stannis Baratheon',\n",
       "  'to': 'Mance Rayder'},\n",
       " {'value': 1,\n",
       "  'title': 'Retaking of Deepwood Motte',\n",
       "  'arrows': 'to',\n",
       "  'from': 'Stannis Baratheon',\n",
       "  'to': 'Balon/Euron Greyjoy'}]"
      ]
     },
     "execution_count": 67,
     "metadata": {},
     "output_type": "execute_result"
    }
   ],
   "source": [
    "net5kings.edges"
   ]
  },
  {
   "cell_type": "markdown",
   "id": "a236bbcb",
   "metadata": {},
   "source": [
    "### Assign values to nodes\n",
    "As number of kings they have attacked"
   ]
  },
  {
   "cell_type": "code",
   "execution_count": 68,
   "id": "637ef949",
   "metadata": {},
   "outputs": [
    {
     "data": {
      "text/plain": [
       "{'Mance Rayder': set(),\n",
       " 'Joffrey/Tommen Baratheon': {'Robb Stark'},\n",
       " 'Stannis Baratheon': {'Balon/Euron Greyjoy',\n",
       "  'Joffrey/Tommen Baratheon',\n",
       "  'Mance Rayder',\n",
       "  'Renly Baratheon'},\n",
       " 'Renly Baratheon': set(),\n",
       " 'Robb Stark': {'Balon/Euron Greyjoy', 'Joffrey/Tommen Baratheon'},\n",
       " 'Balon/Euron Greyjoy': set()}"
      ]
     },
     "execution_count": 68,
     "metadata": {},
     "output_type": "execute_result"
    }
   ],
   "source": [
    "enemies_map = net5kings.get_adj_list()\n",
    "enemies_map"
   ]
  },
  {
   "cell_type": "code",
   "execution_count": 69,
   "id": "3c0bcf56",
   "metadata": {},
   "outputs": [
    {
     "name": "stdout",
     "output_type": "stream",
     "text": [
      "King: Mance Rayder has attacked: set(), N of enemies: 0, node's value: 1\n",
      "King: Joffrey/Tommen Baratheon has attacked: {'Robb Stark'}, N of enemies: 1, node's value: 2\n",
      "King: Stannis Baratheon has attacked: {'Mance Rayder', 'Renly Baratheon', 'Balon/Euron Greyjoy', 'Joffrey/Tommen Baratheon'}, N of enemies: 4, node's value: 5\n",
      "King: Renly Baratheon has attacked: set(), N of enemies: 0, node's value: 1\n",
      "King: Robb Stark has attacked: {'Balon/Euron Greyjoy', 'Joffrey/Tommen Baratheon'}, N of enemies: 2, node's value: 3\n",
      "King: Balon/Euron Greyjoy has attacked: set(), N of enemies: 0, node's value: 1\n"
     ]
    }
   ],
   "source": [
    "value_map = {} # Maps king name to value\n",
    "\n",
    "for king in enemies_map:\n",
    "    enemies = enemies_map[king]\n",
    "    value_map[king] = len(enemies) + 1\n",
    "    print(f\"King: {king} has attacked: {enemies}, N of enemies: {len(enemies)}, node's value: {value_map[king]}\")"
   ]
  },
  {
   "cell_type": "markdown",
   "id": "415e770a",
   "metadata": {},
   "source": [
    "### Create color map"
   ]
  },
  {
   "cell_type": "code",
   "execution_count": 70,
   "id": "784879b9",
   "metadata": {},
   "outputs": [],
   "source": [
    "color_map={\n",
    "    0: \"blue\",\n",
    "    1: \"green\",\n",
    "    2: \"orange\",\n",
    "    3: \"purple\",\n",
    "    4: \"gold\",\n",
    "    5: \"red\"\n",
    "}"
   ]
  },
  {
   "cell_type": "markdown",
   "id": "4be0a42e",
   "metadata": {},
   "source": [
    "### Assign values and colors to nodes"
   ]
  },
  {
   "cell_type": "code",
   "execution_count": 71,
   "id": "8f87c423",
   "metadata": {},
   "outputs": [
    {
     "data": {
      "text/plain": [
       "[{'color': 'green',\n",
       "  'id': 'Mance Rayder',\n",
       "  'label': 'Mance Rayder',\n",
       "  'shape': 'dot',\n",
       "  'font': {'color': 'white'},\n",
       "  'value': 1},\n",
       " {'color': 'orange',\n",
       "  'id': 'Joffrey/Tommen Baratheon',\n",
       "  'label': 'Joffrey/Tommen Baratheon',\n",
       "  'shape': 'dot',\n",
       "  'font': {'color': 'white'},\n",
       "  'value': 2},\n",
       " {'color': 'red',\n",
       "  'id': 'Stannis Baratheon',\n",
       "  'label': 'Stannis Baratheon',\n",
       "  'shape': 'dot',\n",
       "  'font': {'color': 'white'},\n",
       "  'value': 5},\n",
       " {'color': 'green',\n",
       "  'id': 'Renly Baratheon',\n",
       "  'label': 'Renly Baratheon',\n",
       "  'shape': 'dot',\n",
       "  'font': {'color': 'white'},\n",
       "  'value': 1},\n",
       " {'color': 'purple',\n",
       "  'id': 'Robb Stark',\n",
       "  'label': 'Robb Stark',\n",
       "  'shape': 'dot',\n",
       "  'font': {'color': 'white'},\n",
       "  'value': 3},\n",
       " {'color': 'green',\n",
       "  'id': 'Balon/Euron Greyjoy',\n",
       "  'label': 'Balon/Euron Greyjoy',\n",
       "  'shape': 'dot',\n",
       "  'font': {'color': 'white'},\n",
       "  'value': 1}]"
      ]
     },
     "execution_count": 71,
     "metadata": {},
     "output_type": "execute_result"
    }
   ],
   "source": [
    "for node in net5kings.nodes:\n",
    "    node['value'] = value_map[node['id']]\n",
    "    node['color'] = color_map[node['value']]\n",
    "\n",
    "net5kings.nodes"
   ]
  },
  {
   "cell_type": "markdown",
   "id": "dc8bb434",
   "metadata": {},
   "source": [
    "### Display Graph"
   ]
  },
  {
   "cell_type": "code",
   "execution_count": 72,
   "id": "01825790",
   "metadata": {},
   "outputs": [
    {
     "name": "stdout",
     "output_type": "stream",
     "text": [
      "Lab1-task1-net5kings.html\n"
     ]
    }
   ],
   "source": [
    "net5kings.show(\"Lab1-task1-net5kings.html\", notebook=False)"
   ]
  }
 ],
 "metadata": {
  "kernelspec": {
   "display_name": ".venv",
   "language": "python",
   "name": "python3"
  },
  "language_info": {
   "codemirror_mode": {
    "name": "ipython",
    "version": 3
   },
   "file_extension": ".py",
   "mimetype": "text/x-python",
   "name": "python",
   "nbconvert_exporter": "python",
   "pygments_lexer": "ipython3",
   "version": "3.13.2"
  }
 },
 "nbformat": 4,
 "nbformat_minor": 5
}

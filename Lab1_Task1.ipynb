{
 "cells": [
  {
   "cell_type": "markdown",
   "id": "aff5d6a7",
   "metadata": {},
   "source": [
    "### Imports"
   ]
  },
  {
   "cell_type": "code",
   "execution_count": 1,
   "id": "0fe4b652",
   "metadata": {},
   "outputs": [],
   "source": [
    "import pandas as pd\n",
    "from pyvis.network import Network"
   ]
  },
  {
   "cell_type": "markdown",
   "id": "dadc6aa3",
   "metadata": {},
   "source": [
    "### Load CSV Data"
   ]
  },
  {
   "cell_type": "code",
   "execution_count": 6,
   "id": "d614a53e",
   "metadata": {},
   "outputs": [
    {
     "data": {
      "text/html": [
       "<div>\n",
       "<style scoped>\n",
       "    .dataframe tbody tr th:only-of-type {\n",
       "        vertical-align: middle;\n",
       "    }\n",
       "\n",
       "    .dataframe tbody tr th {\n",
       "        vertical-align: top;\n",
       "    }\n",
       "\n",
       "    .dataframe thead th {\n",
       "        text-align: right;\n",
       "    }\n",
       "</style>\n",
       "<table border=\"1\" class=\"dataframe\">\n",
       "  <thead>\n",
       "    <tr style=\"text-align: right;\">\n",
       "      <th></th>\n",
       "      <th>name</th>\n",
       "      <th>year</th>\n",
       "      <th>battle_number</th>\n",
       "      <th>attacker_king</th>\n",
       "      <th>defender_king</th>\n",
       "      <th>attacker_1</th>\n",
       "      <th>attacker_2</th>\n",
       "      <th>attacker_3</th>\n",
       "      <th>attacker_4</th>\n",
       "      <th>defender_1</th>\n",
       "      <th>...</th>\n",
       "      <th>major_death</th>\n",
       "      <th>major_capture</th>\n",
       "      <th>attacker_size</th>\n",
       "      <th>defender_size</th>\n",
       "      <th>attacker_commander</th>\n",
       "      <th>defender_commander</th>\n",
       "      <th>summer</th>\n",
       "      <th>location</th>\n",
       "      <th>region</th>\n",
       "      <th>note</th>\n",
       "    </tr>\n",
       "  </thead>\n",
       "  <tbody>\n",
       "    <tr>\n",
       "      <th>0</th>\n",
       "      <td>Battle of the Golden Tooth</td>\n",
       "      <td>298</td>\n",
       "      <td>1</td>\n",
       "      <td>Joffrey/Tommen Baratheon</td>\n",
       "      <td>Robb Stark</td>\n",
       "      <td>Lannister</td>\n",
       "      <td>NaN</td>\n",
       "      <td>NaN</td>\n",
       "      <td>NaN</td>\n",
       "      <td>Tully</td>\n",
       "      <td>...</td>\n",
       "      <td>1.0</td>\n",
       "      <td>0.0</td>\n",
       "      <td>15000.0</td>\n",
       "      <td>4000.0</td>\n",
       "      <td>Jaime Lannister</td>\n",
       "      <td>Clement Piper, Vance</td>\n",
       "      <td>1.0</td>\n",
       "      <td>Golden Tooth</td>\n",
       "      <td>The Westerlands</td>\n",
       "      <td>NaN</td>\n",
       "    </tr>\n",
       "    <tr>\n",
       "      <th>1</th>\n",
       "      <td>Battle at the Mummer's Ford</td>\n",
       "      <td>298</td>\n",
       "      <td>2</td>\n",
       "      <td>Joffrey/Tommen Baratheon</td>\n",
       "      <td>Robb Stark</td>\n",
       "      <td>Lannister</td>\n",
       "      <td>NaN</td>\n",
       "      <td>NaN</td>\n",
       "      <td>NaN</td>\n",
       "      <td>Baratheon</td>\n",
       "      <td>...</td>\n",
       "      <td>1.0</td>\n",
       "      <td>0.0</td>\n",
       "      <td>NaN</td>\n",
       "      <td>120.0</td>\n",
       "      <td>Gregor Clegane</td>\n",
       "      <td>Beric Dondarrion</td>\n",
       "      <td>1.0</td>\n",
       "      <td>Mummer's Ford</td>\n",
       "      <td>The Riverlands</td>\n",
       "      <td>NaN</td>\n",
       "    </tr>\n",
       "    <tr>\n",
       "      <th>2</th>\n",
       "      <td>Battle of Riverrun</td>\n",
       "      <td>298</td>\n",
       "      <td>3</td>\n",
       "      <td>Joffrey/Tommen Baratheon</td>\n",
       "      <td>Robb Stark</td>\n",
       "      <td>Lannister</td>\n",
       "      <td>NaN</td>\n",
       "      <td>NaN</td>\n",
       "      <td>NaN</td>\n",
       "      <td>Tully</td>\n",
       "      <td>...</td>\n",
       "      <td>0.0</td>\n",
       "      <td>1.0</td>\n",
       "      <td>15000.0</td>\n",
       "      <td>10000.0</td>\n",
       "      <td>Jaime Lannister, Andros Brax</td>\n",
       "      <td>Edmure Tully, Tytos Blackwood</td>\n",
       "      <td>1.0</td>\n",
       "      <td>Riverrun</td>\n",
       "      <td>The Riverlands</td>\n",
       "      <td>NaN</td>\n",
       "    </tr>\n",
       "    <tr>\n",
       "      <th>3</th>\n",
       "      <td>Battle of the Green Fork</td>\n",
       "      <td>298</td>\n",
       "      <td>4</td>\n",
       "      <td>Robb Stark</td>\n",
       "      <td>Joffrey/Tommen Baratheon</td>\n",
       "      <td>Stark</td>\n",
       "      <td>NaN</td>\n",
       "      <td>NaN</td>\n",
       "      <td>NaN</td>\n",
       "      <td>Lannister</td>\n",
       "      <td>...</td>\n",
       "      <td>1.0</td>\n",
       "      <td>1.0</td>\n",
       "      <td>18000.0</td>\n",
       "      <td>20000.0</td>\n",
       "      <td>Roose Bolton, Wylis Manderly, Medger Cerwyn, H...</td>\n",
       "      <td>Tywin Lannister, Gregor Clegane, Kevan Lannist...</td>\n",
       "      <td>1.0</td>\n",
       "      <td>Green Fork</td>\n",
       "      <td>The Riverlands</td>\n",
       "      <td>NaN</td>\n",
       "    </tr>\n",
       "    <tr>\n",
       "      <th>4</th>\n",
       "      <td>Battle of the Whispering Wood</td>\n",
       "      <td>298</td>\n",
       "      <td>5</td>\n",
       "      <td>Robb Stark</td>\n",
       "      <td>Joffrey/Tommen Baratheon</td>\n",
       "      <td>Stark</td>\n",
       "      <td>Tully</td>\n",
       "      <td>NaN</td>\n",
       "      <td>NaN</td>\n",
       "      <td>Lannister</td>\n",
       "      <td>...</td>\n",
       "      <td>1.0</td>\n",
       "      <td>1.0</td>\n",
       "      <td>1875.0</td>\n",
       "      <td>6000.0</td>\n",
       "      <td>Robb Stark, Brynden Tully</td>\n",
       "      <td>Jaime Lannister</td>\n",
       "      <td>1.0</td>\n",
       "      <td>Whispering Wood</td>\n",
       "      <td>The Riverlands</td>\n",
       "      <td>NaN</td>\n",
       "    </tr>\n",
       "  </tbody>\n",
       "</table>\n",
       "<p>5 rows × 25 columns</p>\n",
       "</div>"
      ],
      "text/plain": [
       "                            name  year  battle_number  \\\n",
       "0     Battle of the Golden Tooth   298              1   \n",
       "1    Battle at the Mummer's Ford   298              2   \n",
       "2             Battle of Riverrun   298              3   \n",
       "3       Battle of the Green Fork   298              4   \n",
       "4  Battle of the Whispering Wood   298              5   \n",
       "\n",
       "              attacker_king             defender_king attacker_1 attacker_2  \\\n",
       "0  Joffrey/Tommen Baratheon                Robb Stark  Lannister        NaN   \n",
       "1  Joffrey/Tommen Baratheon                Robb Stark  Lannister        NaN   \n",
       "2  Joffrey/Tommen Baratheon                Robb Stark  Lannister        NaN   \n",
       "3                Robb Stark  Joffrey/Tommen Baratheon      Stark        NaN   \n",
       "4                Robb Stark  Joffrey/Tommen Baratheon      Stark      Tully   \n",
       "\n",
       "  attacker_3 attacker_4 defender_1  ... major_death  major_capture  \\\n",
       "0        NaN        NaN      Tully  ...         1.0            0.0   \n",
       "1        NaN        NaN  Baratheon  ...         1.0            0.0   \n",
       "2        NaN        NaN      Tully  ...         0.0            1.0   \n",
       "3        NaN        NaN  Lannister  ...         1.0            1.0   \n",
       "4        NaN        NaN  Lannister  ...         1.0            1.0   \n",
       "\n",
       "   attacker_size defender_size  \\\n",
       "0        15000.0        4000.0   \n",
       "1            NaN         120.0   \n",
       "2        15000.0       10000.0   \n",
       "3        18000.0       20000.0   \n",
       "4         1875.0        6000.0   \n",
       "\n",
       "                                  attacker_commander  \\\n",
       "0                                    Jaime Lannister   \n",
       "1                                     Gregor Clegane   \n",
       "2                       Jaime Lannister, Andros Brax   \n",
       "3  Roose Bolton, Wylis Manderly, Medger Cerwyn, H...   \n",
       "4                          Robb Stark, Brynden Tully   \n",
       "\n",
       "                                  defender_commander  summer         location  \\\n",
       "0                               Clement Piper, Vance     1.0     Golden Tooth   \n",
       "1                                   Beric Dondarrion     1.0    Mummer's Ford   \n",
       "2                      Edmure Tully, Tytos Blackwood     1.0         Riverrun   \n",
       "3  Tywin Lannister, Gregor Clegane, Kevan Lannist...     1.0       Green Fork   \n",
       "4                                    Jaime Lannister     1.0  Whispering Wood   \n",
       "\n",
       "            region note  \n",
       "0  The Westerlands  NaN  \n",
       "1   The Riverlands  NaN  \n",
       "2   The Riverlands  NaN  \n",
       "3   The Riverlands  NaN  \n",
       "4   The Riverlands  NaN  \n",
       "\n",
       "[5 rows x 25 columns]"
      ]
     },
     "execution_count": 6,
     "metadata": {},
     "output_type": "execute_result"
    }
   ],
   "source": [
    "data = pd.read_csv(\"data/game-of-thrones-battles.csv\")\n",
    "data.head(5)"
   ]
  },
  {
   "cell_type": "code",
   "execution_count": 3,
   "id": "dd37fb18",
   "metadata": {},
   "outputs": [
    {
     "name": "stdout",
     "output_type": "stream",
     "text": [
      "<class 'pandas.core.frame.DataFrame'>\n",
      "RangeIndex: 38 entries, 0 to 37\n",
      "Data columns (total 25 columns):\n",
      " #   Column              Non-Null Count  Dtype  \n",
      "---  ------              --------------  -----  \n",
      " 0   name                38 non-null     object \n",
      " 1   year                38 non-null     int64  \n",
      " 2   battle_number       38 non-null     int64  \n",
      " 3   attacker_king       36 non-null     object \n",
      " 4   defender_king       35 non-null     object \n",
      " 5   attacker_1          38 non-null     object \n",
      " 6   attacker_2          10 non-null     object \n",
      " 7   attacker_3          3 non-null      object \n",
      " 8   attacker_4          2 non-null      object \n",
      " 9   defender_1          37 non-null     object \n",
      " 10  defender_2          2 non-null      object \n",
      " 11  defender_3          0 non-null      float64\n",
      " 12  defender_4          0 non-null      float64\n",
      " 13  attacker_outcome    37 non-null     object \n",
      " 14  battle_type         37 non-null     object \n",
      " 15  major_death         37 non-null     float64\n",
      " 16  major_capture       37 non-null     float64\n",
      " 17  attacker_size       24 non-null     float64\n",
      " 18  defender_size       19 non-null     float64\n",
      " 19  attacker_commander  37 non-null     object \n",
      " 20  defender_commander  28 non-null     object \n",
      " 21  summer              37 non-null     float64\n",
      " 22  location            37 non-null     object \n",
      " 23  region              38 non-null     object \n",
      " 24  note                5 non-null      object \n",
      "dtypes: float64(7), int64(2), object(16)\n",
      "memory usage: 7.6+ KB\n"
     ]
    }
   ],
   "source": [
    "data.info()"
   ]
  },
  {
   "cell_type": "markdown",
   "id": "73ecb81e",
   "metadata": {},
   "source": [
    "### Select Columns:\n",
    "- *name*, *attacker_king*, *defender_king*, *attacker_size*, *defender_size*"
   ]
  },
  {
   "cell_type": "code",
   "execution_count": 7,
   "id": "b5e47c13",
   "metadata": {},
   "outputs": [
    {
     "data": {
      "text/html": [
       "<div>\n",
       "<style scoped>\n",
       "    .dataframe tbody tr th:only-of-type {\n",
       "        vertical-align: middle;\n",
       "    }\n",
       "\n",
       "    .dataframe tbody tr th {\n",
       "        vertical-align: top;\n",
       "    }\n",
       "\n",
       "    .dataframe thead th {\n",
       "        text-align: right;\n",
       "    }\n",
       "</style>\n",
       "<table border=\"1\" class=\"dataframe\">\n",
       "  <thead>\n",
       "    <tr style=\"text-align: right;\">\n",
       "      <th></th>\n",
       "      <th>name</th>\n",
       "      <th>attacker_king</th>\n",
       "      <th>defender_king</th>\n",
       "      <th>attacker_size</th>\n",
       "      <th>defender_size</th>\n",
       "    </tr>\n",
       "  </thead>\n",
       "  <tbody>\n",
       "    <tr>\n",
       "      <th>0</th>\n",
       "      <td>Battle of the Golden Tooth</td>\n",
       "      <td>Joffrey/Tommen Baratheon</td>\n",
       "      <td>Robb Stark</td>\n",
       "      <td>15000.0</td>\n",
       "      <td>4000.0</td>\n",
       "    </tr>\n",
       "    <tr>\n",
       "      <th>1</th>\n",
       "      <td>Battle at the Mummer's Ford</td>\n",
       "      <td>Joffrey/Tommen Baratheon</td>\n",
       "      <td>Robb Stark</td>\n",
       "      <td>NaN</td>\n",
       "      <td>120.0</td>\n",
       "    </tr>\n",
       "    <tr>\n",
       "      <th>2</th>\n",
       "      <td>Battle of Riverrun</td>\n",
       "      <td>Joffrey/Tommen Baratheon</td>\n",
       "      <td>Robb Stark</td>\n",
       "      <td>15000.0</td>\n",
       "      <td>10000.0</td>\n",
       "    </tr>\n",
       "    <tr>\n",
       "      <th>3</th>\n",
       "      <td>Battle of the Green Fork</td>\n",
       "      <td>Robb Stark</td>\n",
       "      <td>Joffrey/Tommen Baratheon</td>\n",
       "      <td>18000.0</td>\n",
       "      <td>20000.0</td>\n",
       "    </tr>\n",
       "    <tr>\n",
       "      <th>4</th>\n",
       "      <td>Battle of the Whispering Wood</td>\n",
       "      <td>Robb Stark</td>\n",
       "      <td>Joffrey/Tommen Baratheon</td>\n",
       "      <td>1875.0</td>\n",
       "      <td>6000.0</td>\n",
       "    </tr>\n",
       "  </tbody>\n",
       "</table>\n",
       "</div>"
      ],
      "text/plain": [
       "                            name             attacker_king  \\\n",
       "0     Battle of the Golden Tooth  Joffrey/Tommen Baratheon   \n",
       "1    Battle at the Mummer's Ford  Joffrey/Tommen Baratheon   \n",
       "2             Battle of Riverrun  Joffrey/Tommen Baratheon   \n",
       "3       Battle of the Green Fork                Robb Stark   \n",
       "4  Battle of the Whispering Wood                Robb Stark   \n",
       "\n",
       "              defender_king  attacker_size  defender_size  \n",
       "0                Robb Stark        15000.0         4000.0  \n",
       "1                Robb Stark            NaN          120.0  \n",
       "2                Robb Stark        15000.0        10000.0  \n",
       "3  Joffrey/Tommen Baratheon        18000.0        20000.0  \n",
       "4  Joffrey/Tommen Baratheon         1875.0         6000.0  "
      ]
     },
     "execution_count": 7,
     "metadata": {},
     "output_type": "execute_result"
    }
   ],
   "source": [
    "battles_df=data.loc[:,['name','attacker_king','defender_king','attacker_size','defender_size']]\n",
    "battles_df.head()"
   ]
  },
  {
   "cell_type": "code",
   "execution_count": 8,
   "id": "0b3c11ef",
   "metadata": {},
   "outputs": [
    {
     "name": "stdout",
     "output_type": "stream",
     "text": [
      "<class 'pandas.core.frame.DataFrame'>\n",
      "RangeIndex: 38 entries, 0 to 37\n",
      "Data columns (total 5 columns):\n",
      " #   Column         Non-Null Count  Dtype  \n",
      "---  ------         --------------  -----  \n",
      " 0   name           38 non-null     object \n",
      " 1   attacker_king  36 non-null     object \n",
      " 2   defender_king  35 non-null     object \n",
      " 3   attacker_size  24 non-null     float64\n",
      " 4   defender_size  19 non-null     float64\n",
      "dtypes: float64(2), object(3)\n",
      "memory usage: 1.6+ KB\n"
     ]
    }
   ],
   "source": [
    "battles_df.info()"
   ]
  },
  {
   "cell_type": "markdown",
   "id": "d83996cb",
   "metadata": {},
   "source": [
    "### Remove rows with any missing values (NaN)"
   ]
  },
  {
   "cell_type": "code",
   "execution_count": 9,
   "id": "bd32cf01",
   "metadata": {},
   "outputs": [
    {
     "name": "stdout",
     "output_type": "stream",
     "text": [
      "<class 'pandas.core.frame.DataFrame'>\n",
      "Index: 16 entries, 0 to 37\n",
      "Data columns (total 5 columns):\n",
      " #   Column         Non-Null Count  Dtype  \n",
      "---  ------         --------------  -----  \n",
      " 0   name           16 non-null     object \n",
      " 1   attacker_king  16 non-null     object \n",
      " 2   defender_king  16 non-null     object \n",
      " 3   attacker_size  16 non-null     float64\n",
      " 4   defender_size  16 non-null     float64\n",
      "dtypes: float64(2), object(3)\n",
      "memory usage: 768.0+ bytes\n"
     ]
    }
   ],
   "source": [
    "battles_df_cleaned=battles_df.dropna()\n",
    "battles_df_cleaned.info()"
   ]
  },
  {
   "cell_type": "code",
   "execution_count": 14,
   "id": "05feb889",
   "metadata": {},
   "outputs": [
    {
     "data": {
      "text/html": [
       "<div>\n",
       "<style scoped>\n",
       "    .dataframe tbody tr th:only-of-type {\n",
       "        vertical-align: middle;\n",
       "    }\n",
       "\n",
       "    .dataframe tbody tr th {\n",
       "        vertical-align: top;\n",
       "    }\n",
       "\n",
       "    .dataframe thead th {\n",
       "        text-align: right;\n",
       "    }\n",
       "</style>\n",
       "<table border=\"1\" class=\"dataframe\">\n",
       "  <thead>\n",
       "    <tr style=\"text-align: right;\">\n",
       "      <th></th>\n",
       "      <th>name</th>\n",
       "      <th>attacker_king</th>\n",
       "      <th>defender_king</th>\n",
       "      <th>attacker_size</th>\n",
       "      <th>defender_size</th>\n",
       "    </tr>\n",
       "  </thead>\n",
       "  <tbody>\n",
       "    <tr>\n",
       "      <th>0</th>\n",
       "      <td>Battle of the Golden Tooth</td>\n",
       "      <td>Joffrey/Tommen Baratheon</td>\n",
       "      <td>Robb Stark</td>\n",
       "      <td>15000.0</td>\n",
       "      <td>4000.0</td>\n",
       "    </tr>\n",
       "    <tr>\n",
       "      <th>2</th>\n",
       "      <td>Battle of Riverrun</td>\n",
       "      <td>Joffrey/Tommen Baratheon</td>\n",
       "      <td>Robb Stark</td>\n",
       "      <td>15000.0</td>\n",
       "      <td>10000.0</td>\n",
       "    </tr>\n",
       "    <tr>\n",
       "      <th>3</th>\n",
       "      <td>Battle of the Green Fork</td>\n",
       "      <td>Robb Stark</td>\n",
       "      <td>Joffrey/Tommen Baratheon</td>\n",
       "      <td>18000.0</td>\n",
       "      <td>20000.0</td>\n",
       "    </tr>\n",
       "  </tbody>\n",
       "</table>\n",
       "</div>"
      ],
      "text/plain": [
       "                         name             attacker_king  \\\n",
       "0  Battle of the Golden Tooth  Joffrey/Tommen Baratheon   \n",
       "2          Battle of Riverrun  Joffrey/Tommen Baratheon   \n",
       "3    Battle of the Green Fork                Robb Stark   \n",
       "\n",
       "              defender_king  attacker_size  defender_size  \n",
       "0                Robb Stark        15000.0         4000.0  \n",
       "2                Robb Stark        15000.0        10000.0  \n",
       "3  Joffrey/Tommen Baratheon        18000.0        20000.0  "
      ]
     },
     "execution_count": 14,
     "metadata": {},
     "output_type": "execute_result"
    }
   ],
   "source": [
    "battles_df_cleaned.head(3)"
   ]
  },
  {
   "cell_type": "markdown",
   "id": "abacc136",
   "metadata": {},
   "source": [
    "### Output names of attacking kings (without repetitions):"
   ]
  },
  {
   "cell_type": "code",
   "execution_count": 16,
   "id": "df9cbca5",
   "metadata": {},
   "outputs": [
    {
     "name": "stdout",
     "output_type": "stream",
     "text": [
      "Attacking kings: ['Joffrey/Tommen Baratheon' 'Robb Stark' 'Stannis Baratheon']\n"
     ]
    }
   ],
   "source": [
    "attackers = battles_df_cleaned.attacker_king.unique()\n",
    "print(f\"Attacking kings: {attackers}\")"
   ]
  },
  {
   "cell_type": "markdown",
   "id": "6517af8f",
   "metadata": {},
   "source": [
    "### Output names of defending kings (without repetitions):"
   ]
  },
  {
   "cell_type": "code",
   "execution_count": 17,
   "id": "045e4248",
   "metadata": {},
   "outputs": [
    {
     "name": "stdout",
     "output_type": "stream",
     "text": [
      "Defending kings: ['Robb Stark' 'Joffrey/Tommen Baratheon' 'Balon/Euron Greyjoy'\n",
      " 'Renly Baratheon' 'Mance Rayder']\n"
     ]
    }
   ],
   "source": [
    "defenders = battles_df_cleaned.defender_king.unique()\n",
    "print(f\"Defending kings: {defenders}\")"
   ]
  },
  {
   "cell_type": "markdown",
   "id": "b7ae81f7",
   "metadata": {},
   "source": [
    "### Instantiate Pyvis Network Object"
   ]
  },
  {
   "cell_type": "code",
   "execution_count": 15,
   "id": "923aa187",
   "metadata": {},
   "outputs": [],
   "source": [
    "net5kings = Network(heading=\"Task1. Building Interactive Network of battles of the War of 5\",\n",
    "    bgcolor =\"#242020\",\n",
    "    font_color = \"white\",\n",
    "    height = \"1000px\",\n",
    "    width = \"100%\",\n",
    "    directed = True, # Since attacks are directed\n",
    "    notebook = True,\n",
    "    cdn_resources = \"remote\"\n",
    ")"
   ]
  },
  {
   "cell_type": "markdown",
   "id": "ad1e1df8",
   "metadata": {},
   "source": [
    "### Define nodes - list of unique king names."
   ]
  },
  {
   "cell_type": "code",
   "execution_count": 25,
   "id": "4738615b",
   "metadata": {},
   "outputs": [
    {
     "name": "stdout",
     "output_type": "stream",
     "text": [
      "Kings list (node names): {'Robb Stark', 'Mance Rayder', 'Balon/Euron Greyjoy', 'Stannis Baratheon', 'Renly Baratheon', 'Joffrey/Tommen Baratheon'}\n"
     ]
    }
   ],
   "source": [
    "kings = set(list(attackers) + list(defenders))\n",
    "print(f\"Kings list (node names): {kings}\")"
   ]
  },
  {
   "cell_type": "markdown",
   "id": "37d0d27a",
   "metadata": {},
   "source": [
    "### Add nodes to graph"
   ]
  },
  {
   "cell_type": "code",
   "execution_count": 26,
   "id": "a1dc22e0",
   "metadata": {},
   "outputs": [
    {
     "data": {
      "text/plain": [
       "[{'color': '#97c2fc',\n",
       "  'id': 'Robb Stark',\n",
       "  'label': 'Robb Stark',\n",
       "  'shape': 'dot',\n",
       "  'font': {'color': 'white'}},\n",
       " {'color': '#97c2fc',\n",
       "  'id': 'Mance Rayder',\n",
       "  'label': 'Mance Rayder',\n",
       "  'shape': 'dot',\n",
       "  'font': {'color': 'white'}},\n",
       " {'color': '#97c2fc',\n",
       "  'id': 'Balon/Euron Greyjoy',\n",
       "  'label': 'Balon/Euron Greyjoy',\n",
       "  'shape': 'dot',\n",
       "  'font': {'color': 'white'}},\n",
       " {'color': '#97c2fc',\n",
       "  'id': 'Stannis Baratheon',\n",
       "  'label': 'Stannis Baratheon',\n",
       "  'shape': 'dot',\n",
       "  'font': {'color': 'white'}},\n",
       " {'color': '#97c2fc',\n",
       "  'id': 'Renly Baratheon',\n",
       "  'label': 'Renly Baratheon',\n",
       "  'shape': 'dot',\n",
       "  'font': {'color': 'white'}},\n",
       " {'color': '#97c2fc',\n",
       "  'id': 'Joffrey/Tommen Baratheon',\n",
       "  'label': 'Joffrey/Tommen Baratheon',\n",
       "  'shape': 'dot',\n",
       "  'font': {'color': 'white'}}]"
      ]
     },
     "execution_count": 26,
     "metadata": {},
     "output_type": "execute_result"
    }
   ],
   "source": [
    "net5kings.add_nodes(kings)\n",
    "net5kings.nodes"
   ]
  },
  {
   "cell_type": "markdown",
   "id": "cadab632",
   "metadata": {},
   "source": [
    "### Define potential edges"
   ]
  },
  {
   "cell_type": "code",
   "execution_count": 49,
   "id": "e87fc551",
   "metadata": {},
   "outputs": [
    {
     "name": "stdout",
     "output_type": "stream",
     "text": [
      "Potential Edges of net5kings:\n",
      "['Joffrey/Tommen Baratheon', 'Robb Stark']\n",
      "['Joffrey/Tommen Baratheon', 'Robb Stark']\n",
      "['Robb Stark', 'Joffrey/Tommen Baratheon']\n",
      "['Robb Stark', 'Joffrey/Tommen Baratheon']\n",
      "['Robb Stark', 'Joffrey/Tommen Baratheon']\n",
      "['Robb Stark', 'Balon/Euron Greyjoy']\n",
      "['Joffrey/Tommen Baratheon', 'Robb Stark']\n",
      "['Robb Stark', 'Joffrey/Tommen Baratheon']\n",
      "['Stannis Baratheon', 'Renly Baratheon']\n",
      "['Joffrey/Tommen Baratheon', 'Robb Stark']\n",
      "['Robb Stark', 'Joffrey/Tommen Baratheon']\n",
      "['Stannis Baratheon', 'Joffrey/Tommen Baratheon']\n",
      "['Joffrey/Tommen Baratheon', 'Robb Stark']\n",
      "['Stannis Baratheon', 'Mance Rayder']\n",
      "['Stannis Baratheon', 'Balon/Euron Greyjoy']\n",
      "['Stannis Baratheon', 'Joffrey/Tommen Baratheon']\n"
     ]
    }
   ],
   "source": [
    "potential_edges = battles_df_cleaned.loc[:, ['attacker_king', 'defender_king']].to_numpy().tolist()\n",
    "print('Potential Edges of net5kings:')\n",
    "for edge in potential_edges:\n",
    "    print(edge)"
   ]
  },
  {
   "cell_type": "markdown",
   "id": "99eab58b",
   "metadata": {},
   "source": [
    "### Define real edges (no repitions)"
   ]
  },
  {
   "cell_type": "code",
   "execution_count": null,
   "id": "c105819a",
   "metadata": {},
   "outputs": [
    {
     "data": {
      "text/plain": [
       "[['Joffrey/Tommen Baratheon', 'Robb Stark'],\n",
       " ['Robb Stark', 'Joffrey/Tommen Baratheon'],\n",
       " ['Robb Stark', 'Balon/Euron Greyjoy'],\n",
       " ['Stannis Baratheon', 'Renly Baratheon'],\n",
       " ['Stannis Baratheon', 'Joffrey/Tommen Baratheon'],\n",
       " ['Stannis Baratheon', 'Mance Rayder'],\n",
       " ['Stannis Baratheon', 'Balon/Euron Greyjoy']]"
      ]
     },
     "execution_count": 50,
     "metadata": {},
     "output_type": "execute_result"
    }
   ],
   "source": [
    "edges = []\n",
    "for edge in potential_edges:\n",
    "    if edge not in edges:\n",
    "        edges.append(edge)\n",
    "\n",
    "edges"
   ]
  },
  {
   "cell_type": "markdown",
   "id": "25f8b8cf",
   "metadata": {},
   "source": [
    "### Calculate edge weights\n",
    "as total number of battles between king1 and king2, where (king1, king2) is an edge."
   ]
  },
  {
   "cell_type": "code",
   "execution_count": 61,
   "id": "02849d89",
   "metadata": {},
   "outputs": [
    {
     "data": {
      "text/plain": [
       "attacker_king             defender_king           \n",
       "Joffrey/Tommen Baratheon  Robb Stark                  5\n",
       "Robb Stark                Balon/Euron Greyjoy         1\n",
       "                          Joffrey/Tommen Baratheon    5\n",
       "Stannis Baratheon         Balon/Euron Greyjoy         1\n",
       "                          Joffrey/Tommen Baratheon    2\n",
       "                          Mance Rayder                1\n",
       "                          Renly Baratheon             1\n",
       "Name: name, dtype: int64"
      ]
     },
     "execution_count": 61,
     "metadata": {},
     "output_type": "execute_result"
    }
   ],
   "source": [
    "battle_counts = battles_df_cleaned.groupby(['attacker_king', 'defender_king']).count()['name']\n",
    "battle_counts"
   ]
  },
  {
   "cell_type": "markdown",
   "id": "eb780875",
   "metadata": {},
   "source": [
    "### Define titles for edges\n",
    "using data from battles_df_cleaned about battles' name, attacker_size, and defender_size."
   ]
  },
  {
   "cell_type": "code",
   "execution_count": 101,
   "id": "9873aea4",
   "metadata": {},
   "outputs": [
    {
     "data": {
      "text/plain": [
       "attacker_king             defender_king           \n",
       "Joffrey/Tommen Baratheon  Robb Stark                  Battle of the Golden Tooth, Battle of Riverrun...\n",
       "Robb Stark                Balon/Euron Greyjoy                                Battle of Torrhen's Square\n",
       "                          Joffrey/Tommen Baratheon    Battle of the Green Fork, Battle of the Whispe...\n",
       "Stannis Baratheon         Balon/Euron Greyjoy                                Retaking of Deepwood Motte\n",
       "                          Joffrey/Tommen Baratheon        Battle of the Blackwater, Siege of Winterfell\n",
       "                          Mance Rayder                                           Battle of Castle Black\n",
       "                          Renly Baratheon                                          Siege of Storm's End\n",
       "Name: name, dtype: object"
      ]
     },
     "execution_count": 101,
     "metadata": {},
     "output_type": "execute_result"
    }
   ],
   "source": [
    "battle_names = battles_df_cleaned.groupby(['attacker_king', 'defender_king'])['name'].aggregate(', '.join)\n",
    "battle_names"
   ]
  },
  {
   "cell_type": "markdown",
   "id": "7508fae3",
   "metadata": {},
   "source": [
    "### Add weight and titles to each edge"
   ]
  },
  {
   "cell_type": "code",
   "execution_count": 117,
   "id": "6e61bea4",
   "metadata": {},
   "outputs": [
    {
     "name": "stdout",
     "output_type": "stream",
     "text": [
      "Attacking king: Joffrey/Tommen Baratheon, Defending king: Robb Stark, N of battles: 5, battles: Battle of the Golden Tooth, Battle of Riverrun, Sack of Winterfell, Battle of the Fords, The Red Wedding\n",
      "Attacking king: Robb Stark, Defending king: Joffrey/Tommen Baratheon, N of battles: 5, battles: Battle of the Green Fork, Battle of the Whispering Wood, Battle of the Camps, Battle of Oxcross, Sack of Harrenhal\n",
      "Attacking king: Robb Stark, Defending king: Balon/Euron Greyjoy, N of battles: 1, battles: Battle of Torrhen's Square\n",
      "Attacking king: Stannis Baratheon, Defending king: Renly Baratheon, N of battles: 1, battles: Siege of Storm's End\n",
      "Attacking king: Stannis Baratheon, Defending king: Joffrey/Tommen Baratheon, N of battles: 2, battles: Battle of the Blackwater, Siege of Winterfell\n",
      "Attacking king: Stannis Baratheon, Defending king: Mance Rayder, N of battles: 1, battles: Battle of Castle Black\n",
      "Attacking king: Stannis Baratheon, Defending king: Balon/Euron Greyjoy, N of battles: 1, battles: Retaking of Deepwood Motte\n",
      "edge_weights: [5, 5, 1, 1, 2, 1, 1]\n"
     ]
    }
   ],
   "source": [
    "full_edges = [] # Will contain dicts that have an edge, weight, and title\n",
    "\n",
    "for edge in edges:\n",
    "    attacker, defender = edge\n",
    "    weight = battle_counts.get((attacker, defender))\n",
    "    title = battle_names.get((attacker, defender))\n",
    "\n",
    "    full_edges.append({\n",
    "        'edge': edge,\n",
    "        'weight': weight,\n",
    "        'title': title\n",
    "    })\n",
    "\n",
    "for edge in full_edges:\n",
    "    print(f'Attacking king: {edge['edge'][0]}, Defending king: {edge['edge'][1]}, N of battles: {edge['weight']}, battles: {edge['title']}')\n",
    "\n",
    "weights = map(lambda edge: str(edge['weight']), full_edges)\n",
    "print(f'edge_weights: [{', '.join(weights)}]')"
   ]
  }
 ],
 "metadata": {
  "kernelspec": {
   "display_name": ".venv",
   "language": "python",
   "name": "python3"
  },
  "language_info": {
   "codemirror_mode": {
    "name": "ipython",
    "version": 3
   },
   "file_extension": ".py",
   "mimetype": "text/x-python",
   "name": "python",
   "nbconvert_exporter": "python",
   "pygments_lexer": "ipython3",
   "version": "3.13.2"
  }
 },
 "nbformat": 4,
 "nbformat_minor": 5
}

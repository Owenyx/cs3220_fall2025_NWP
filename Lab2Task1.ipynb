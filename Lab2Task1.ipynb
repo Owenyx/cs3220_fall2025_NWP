{
 "cells": [
  {
   "cell_type": "markdown",
   "id": "223b8aa1",
   "metadata": {},
   "source": [
    "# Lab 2 Task 1 - Random Cat Agent"
   ]
  },
  {
   "cell_type": "markdown",
   "id": "876ae4f3",
   "metadata": {},
   "source": [
    "### Create cat agent"
   ]
  },
  {
   "cell_type": "code",
   "execution_count": 43,
   "id": "3b159023",
   "metadata": {},
   "outputs": [],
   "source": [
    "from src.agentClass import Agent\n",
    "from src.rules import cat_actions\n",
    "from src.agentPrograms import RandomAgentProgram\n",
    "\n",
    "cat_program = RandomAgentProgram(cat_actions)\n",
    "\n",
    "cat_agent = Agent(cat_program)"
   ]
  },
  {
   "cell_type": "markdown",
   "id": "2093adfb",
   "metadata": {},
   "source": [
    "### Create house environment"
   ]
  },
  {
   "cell_type": "code",
   "execution_count": 44,
   "id": "a9b7dc04",
   "metadata": {},
   "outputs": [],
   "source": [
    "from src.task1.HouseEnvironment import HouseEnvironment\n",
    "\n",
    "house = HouseEnvironment()"
   ]
  },
  {
   "cell_type": "markdown",
   "id": "60dece3c",
   "metadata": {},
   "source": [
    "### Create other things"
   ]
  },
  {
   "cell_type": "code",
   "execution_count": 45,
   "id": "2b52355e",
   "metadata": {},
   "outputs": [],
   "source": [
    "from src.task1.Task1Classes import *\n",
    "\n",
    "dog = Dog()\n",
    "mouse = Mouse()\n",
    "milk = Milk()"
   ]
  },
  {
   "cell_type": "markdown",
   "id": "0d3ada4c",
   "metadata": {},
   "source": [
    "### Add Everything to house environment"
   ]
  },
  {
   "cell_type": "code",
   "execution_count": 46,
   "id": "88605d9f",
   "metadata": {},
   "outputs": [
    {
     "name": "stdout",
     "output_type": "stream",
     "text": [
      "Placed <Agent> in room 1\n",
      "Placed <Dog> in room 3\n",
      "Placed <Mouse> in room 5\n",
      "Placed <Milk> in room 2\n"
     ]
    }
   ],
   "source": [
    "house.add_thing(cat_agent)\n",
    "house.add_thing(dog)\n",
    "house.add_thing(mouse)\n",
    "house.add_thing(milk)"
   ]
  },
  {
   "cell_type": "code",
   "execution_count": 47,
   "id": "64009750",
   "metadata": {},
   "outputs": [
    {
     "name": "stdout",
     "output_type": "stream",
     "text": [
      "Cat is in room 1\n",
      "Dog: \n",
      "My location is 3, woof woof\n",
      "Mouse: \n",
      "My location is 5, squeak squeak\n",
      "Milk: \n",
      "My location is 2, swish swosh\n",
      "[<Dog>, <Mouse>, <Milk>]\n"
     ]
    }
   ],
   "source": [
    "print(f\"Cat is in room {cat_agent.location}\")\n",
    "print('Dog: ')\n",
    "dog.show_state()\n",
    "print('Mouse: ')\n",
    "mouse.show_state()\n",
    "print('Milk: ')\n",
    "milk.show_state()\n",
    "\n",
    "print(house.things)"
   ]
  },
  {
   "cell_type": "code",
   "execution_count": 48,
   "id": "ea2d3727",
   "metadata": {},
   "outputs": [
    {
     "name": "stdout",
     "output_type": "stream",
     "text": [
      "| 1. [<Agent>] | 2. [<Milk>] | 3. [<Dog>] | 4. [] | 5. [<Mouse>] |\n"
     ]
    }
   ],
   "source": [
    "print(house.get_status())"
   ]
  },
  {
   "cell_type": "markdown",
   "id": "a7669df7",
   "metadata": {},
   "source": [
    "### Run the agent\n",
    "Agent will stop once it dies or it \n",
    "- eats the mouse,\n",
    "- drinks the milk, \n",
    "- and wins a fight against the dog\n",
    "\n",
    "This will remove all 3 from the house"
   ]
  },
  {
   "cell_type": "code",
   "execution_count": 49,
   "id": "9d0368de",
   "metadata": {},
   "outputs": [
    {
     "name": "stdout",
     "output_type": "stream",
     "text": [
      "Initial cat performace = 2\n",
      "\n",
      "Step 1\n",
      "State: | 1. [<Agent>] | 2. [<Milk>] | 3. [<Dog>] | 4. [] | 5. [<Mouse>] |\n",
      "Agent percepted [].\n",
      "Agent decided to do Right.\n",
      "Cat performace = 1\n",
      "\n",
      "Step 2\n",
      "State: | 1. [] | 2. [<Agent>, <Milk>] | 3. [<Dog>] | 4. [] | 5. [<Mouse>] |\n",
      "Agent percepted [<Milk>].\n",
      "Agent decided to do Drink.\n",
      "<Milk> was removed from the house\n",
      "Cat performace = 6\n",
      "\n",
      "Step 3\n",
      "State: | 1. [] | 2. [<Agent>] | 3. [<Dog>] | 4. [] | 5. [<Mouse>] |\n",
      "Agent percepted [].\n",
      "Agent decided to do Eat.\n",
      "Cat performace = 6\n",
      "\n",
      "Step 4\n",
      "State: | 1. [] | 2. [<Agent>] | 3. [<Dog>] | 4. [] | 5. [<Mouse>] |\n",
      "Agent percepted [].\n",
      "Agent decided to do Eat.\n",
      "Cat performace = 6\n",
      "\n",
      "Step 5\n",
      "State: | 1. [] | 2. [<Agent>] | 3. [<Dog>] | 4. [] | 5. [<Mouse>] |\n",
      "Agent percepted [].\n",
      "Agent decided to do Drink.\n",
      "Cat performace = 6\n",
      "\n",
      "Step 6\n",
      "State: | 1. [] | 2. [<Agent>] | 3. [<Dog>] | 4. [] | 5. [<Mouse>] |\n",
      "Agent percepted [].\n",
      "Agent decided to do Right.\n",
      "Cat performace = 5\n",
      "\n",
      "Step 7\n",
      "State: | 1. [] | 2. [] | 3. [<Agent>, <Dog>] | 4. [] | 5. [<Mouse>] |\n",
      "Agent percepted [<Dog>].\n",
      "Agent decided to do Left.\n",
      "Cat performace = 4\n",
      "\n",
      "Step 8\n",
      "State: | 1. [] | 2. [<Agent>] | 3. [<Dog>] | 4. [] | 5. [<Mouse>] |\n",
      "Agent percepted [].\n",
      "Agent decided to do Fight.\n",
      "Cat performace = 4\n",
      "\n",
      "Step 9\n",
      "State: | 1. [] | 2. [<Agent>] | 3. [<Dog>] | 4. [] | 5. [<Mouse>] |\n",
      "Agent percepted [].\n",
      "Agent decided to do Eat.\n",
      "Cat performace = 4\n",
      "\n",
      "Step 10\n",
      "State: | 1. [] | 2. [<Agent>] | 3. [<Dog>] | 4. [] | 5. [<Mouse>] |\n",
      "Agent percepted [].\n",
      "Agent decided to do Fight.\n",
      "Cat performace = 4\n",
      "\n",
      "Step 11\n",
      "State: | 1. [] | 2. [<Agent>] | 3. [<Dog>] | 4. [] | 5. [<Mouse>] |\n",
      "Agent percepted [].\n",
      "Agent decided to do Eat.\n",
      "Cat performace = 4\n",
      "\n",
      "Step 12\n",
      "State: | 1. [] | 2. [<Agent>] | 3. [<Dog>] | 4. [] | 5. [<Mouse>] |\n",
      "Agent percepted [].\n",
      "Agent decided to do Left.\n",
      "Cat performace = 3\n",
      "\n",
      "Step 13\n",
      "State: | 1. [<Agent>] | 2. [] | 3. [<Dog>] | 4. [] | 5. [<Mouse>] |\n",
      "Agent percepted [].\n",
      "Agent decided to do Eat.\n",
      "Cat performace = 3\n",
      "\n",
      "Step 14\n",
      "State: | 1. [<Agent>] | 2. [] | 3. [<Dog>] | 4. [] | 5. [<Mouse>] |\n",
      "Agent percepted [].\n",
      "Agent decided to do Right.\n",
      "Cat performace = 2\n",
      "\n",
      "Step 15\n",
      "State: | 1. [] | 2. [<Agent>] | 3. [<Dog>] | 4. [] | 5. [<Mouse>] |\n",
      "Agent percepted [].\n",
      "Agent decided to do Eat.\n",
      "Cat performace = 2\n",
      "\n",
      "Step 16\n",
      "State: | 1. [] | 2. [<Agent>] | 3. [<Dog>] | 4. [] | 5. [<Mouse>] |\n",
      "Agent percepted [].\n",
      "Agent decided to do Fight.\n",
      "Cat performace = 2\n",
      "\n",
      "Step 17\n",
      "State: | 1. [] | 2. [<Agent>] | 3. [<Dog>] | 4. [] | 5. [<Mouse>] |\n",
      "Agent percepted [].\n",
      "Agent decided to do Fight.\n",
      "Cat performace = 2\n",
      "\n",
      "Step 18\n",
      "State: | 1. [] | 2. [<Agent>] | 3. [<Dog>] | 4. [] | 5. [<Mouse>] |\n",
      "Agent percepted [].\n",
      "Agent decided to do Eat.\n",
      "Cat performace = 2\n",
      "\n",
      "Step 19\n",
      "State: | 1. [] | 2. [<Agent>] | 3. [<Dog>] | 4. [] | 5. [<Mouse>] |\n",
      "Agent percepted [].\n",
      "Agent decided to do Right.\n",
      "Cat performace = 1\n",
      "\n",
      "Step 20\n",
      "State: | 1. [] | 2. [] | 3. [<Agent>, <Dog>] | 4. [] | 5. [<Mouse>] |\n",
      "Agent percepted [<Dog>].\n",
      "Agent decided to do Fight.\n",
      "Agent <Agent> is dead.\n",
      "Cat performace = -9\n",
      "\n"
     ]
    }
   ],
   "source": [
    "print(f\"Initial cat performace = {cat_agent.performance}\\n\")\n",
    "step = 1\n",
    "while not house.is_done():\n",
    "  print(f\"Step {step}\")\n",
    "  print(f\"State: {house.get_status()}\")\n",
    "  house.step()\n",
    "  print(f\"Cat performace = {cat_agent.performance}\\n\")\n",
    "  step += 1"
   ]
  }
 ],
 "metadata": {
  "kernelspec": {
   "display_name": ".venv",
   "language": "python",
   "name": "python3"
  },
  "language_info": {
   "codemirror_mode": {
    "name": "ipython",
    "version": 3
   },
   "file_extension": ".py",
   "mimetype": "text/x-python",
   "name": "python",
   "nbconvert_exporter": "python",
   "pygments_lexer": "ipython3",
   "version": "3.13.2"
  }
 },
 "nbformat": 4,
 "nbformat_minor": 5
}

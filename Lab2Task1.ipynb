{
 "cells": [
  {
   "cell_type": "markdown",
   "id": "223b8aa1",
   "metadata": {},
   "source": [
    "# Lab 2 Task 1 - Random Cat Agent"
   ]
  },
  {
   "cell_type": "markdown",
   "id": "876ae4f3",
   "metadata": {},
   "source": [
    "### Create cat agent"
   ]
  },
  {
   "cell_type": "code",
   "execution_count": 559,
   "id": "3b159023",
   "metadata": {},
   "outputs": [],
   "source": [
    "from src.agentClass import Agent\n",
    "from src.rules import cat_actions\n",
    "from src.agentPrograms import RandomAgentProgram\n",
    "\n",
    "cat_program = RandomAgentProgram(cat_actions)\n",
    "\n",
    "cat_agent = Agent(cat_program)"
   ]
  },
  {
   "cell_type": "markdown",
   "id": "2093adfb",
   "metadata": {},
   "source": [
    "### Create house environment"
   ]
  },
  {
   "cell_type": "code",
   "execution_count": 560,
   "id": "a9b7dc04",
   "metadata": {},
   "outputs": [],
   "source": [
    "from src.task1.HouseEnvironment import HouseEnvironment\n",
    "\n",
    "house = HouseEnvironment()"
   ]
  },
  {
   "cell_type": "markdown",
   "id": "60dece3c",
   "metadata": {},
   "source": [
    "### Create other things"
   ]
  },
  {
   "cell_type": "code",
   "execution_count": 561,
   "id": "2b52355e",
   "metadata": {},
   "outputs": [],
   "source": [
    "from src.task1.Task1Classes import *\n",
    "\n",
    "dog = Dog()\n",
    "mouse = Mouse()\n",
    "milk = Milk()"
   ]
  },
  {
   "cell_type": "markdown",
   "id": "0d3ada4c",
   "metadata": {},
   "source": [
    "### Add Everything to house environment"
   ]
  },
  {
   "cell_type": "code",
   "execution_count": 562,
   "id": "88605d9f",
   "metadata": {},
   "outputs": [
    {
     "name": "stdout",
     "output_type": "stream",
     "text": [
      "Placed <Agent> in room 1\n",
      "Placed <Dog> in room 5\n",
      "Placed <Mouse> in room 1\n",
      "Placed <Milk> in room 5\n"
     ]
    }
   ],
   "source": [
    "house.add_thing(cat_agent)\n",
    "house.add_thing(dog)\n",
    "house.add_thing(mouse)\n",
    "house.add_thing(milk)"
   ]
  },
  {
   "cell_type": "code",
   "execution_count": 563,
   "id": "64009750",
   "metadata": {},
   "outputs": [
    {
     "name": "stdout",
     "output_type": "stream",
     "text": [
      "Cat is in room 1\n",
      "Dog: \n",
      "My location is 5, woof woof\n",
      "Mouse: \n",
      "My location is 1, squeak squeak\n",
      "Milk: \n",
      "My location is 5, swish swosh\n",
      "[<Dog>, <Mouse>, <Milk>]\n"
     ]
    }
   ],
   "source": [
    "print(f\"Cat is in room {cat_agent.location}\")\n",
    "print('Dog: ')\n",
    "dog.show_state()\n",
    "print('Mouse: ')\n",
    "mouse.show_state()\n",
    "print('Milk: ')\n",
    "milk.show_state()\n",
    "\n",
    "print(house.things)"
   ]
  },
  {
   "cell_type": "markdown",
   "id": "a7669df7",
   "metadata": {},
   "source": [
    "### Run the agent\n",
    "Agent will stop once it dies or it \n",
    "- eats the mouse,\n",
    "- drinks the milk, \n",
    "- and wins a fight against the dog\n",
    "\n",
    "This will remove all 3 from the house"
   ]
  },
  {
   "cell_type": "code",
   "execution_count": 564,
   "id": "9d0368de",
   "metadata": {},
   "outputs": [
    {
     "name": "stdout",
     "output_type": "stream",
     "text": [
      "Initial cat performace = 3\n",
      "\n",
      "Step 1\n",
      "Agent percepted [<Mouse>].\n",
      "Agent decided to do Fight.\n",
      "Cat performace = 3\n",
      "\n",
      "Step 2\n",
      "Agent percepted [<Mouse>].\n",
      "Agent decided to do Eat.\n",
      "<Mouse> was removed from the house\n",
      "Cat performace = 13\n",
      "\n",
      "Step 3\n",
      "Agent percepted [].\n",
      "Agent decided to do Right.\n",
      "Cat performace = 12\n",
      "\n",
      "Step 4\n",
      "Agent percepted [].\n",
      "Agent decided to do Drink.\n",
      "Cat performace = 12\n",
      "\n",
      "Step 5\n",
      "Agent percepted [].\n",
      "Agent decided to do Left.\n",
      "Cat performace = 11\n",
      "\n",
      "Step 6\n",
      "Agent percepted [].\n",
      "Agent decided to do Eat.\n",
      "Cat performace = 11\n",
      "\n",
      "Step 7\n",
      "Agent percepted [].\n",
      "Agent decided to do Right.\n",
      "Cat performace = 10\n",
      "\n",
      "Step 8\n",
      "Agent percepted [].\n",
      "Agent decided to do Left.\n",
      "Cat performace = 9\n",
      "\n",
      "Step 9\n",
      "Agent percepted [].\n",
      "Agent decided to do Left.\n",
      "Cat performace = 8\n",
      "\n",
      "Step 10\n",
      "Agent percepted [].\n",
      "Agent decided to do Left.\n",
      "Cat performace = 7\n",
      "\n",
      "Step 11\n",
      "Agent percepted [].\n",
      "Agent decided to do Drink.\n",
      "Cat performace = 7\n",
      "\n",
      "Step 12\n",
      "Agent percepted [].\n",
      "Agent decided to do Fight.\n",
      "Cat performace = 7\n",
      "\n",
      "Step 13\n",
      "Agent percepted [].\n",
      "Agent decided to do Left.\n",
      "Cat performace = 6\n",
      "\n",
      "Step 14\n",
      "Agent percepted [].\n",
      "Agent decided to do Right.\n",
      "Cat performace = 5\n",
      "\n",
      "Step 15\n",
      "Agent percepted [].\n",
      "Agent decided to do Eat.\n",
      "Cat performace = 5\n",
      "\n",
      "Step 16\n",
      "Agent percepted [].\n",
      "Agent decided to do Drink.\n",
      "Cat performace = 5\n",
      "\n",
      "Step 17\n",
      "Agent percepted [].\n",
      "Agent decided to do Fight.\n",
      "Cat performace = 5\n",
      "\n",
      "Step 18\n",
      "Agent percepted [].\n",
      "Agent decided to do Left.\n",
      "Cat performace = 4\n",
      "\n",
      "Step 19\n",
      "Agent percepted [].\n",
      "Agent decided to do Drink.\n",
      "Cat performace = 4\n",
      "\n",
      "Step 20\n",
      "Agent percepted [].\n",
      "Agent decided to do Drink.\n",
      "Cat performace = 4\n",
      "\n",
      "Step 21\n",
      "Agent percepted [].\n",
      "Agent decided to do Right.\n",
      "Cat performace = 3\n",
      "\n",
      "Step 22\n",
      "Agent percepted [].\n",
      "Agent decided to do Fight.\n",
      "Cat performace = 3\n",
      "\n",
      "Step 23\n",
      "Agent percepted [].\n",
      "Agent decided to do Drink.\n",
      "Cat performace = 3\n",
      "\n",
      "Step 24\n",
      "Agent percepted [].\n",
      "Agent decided to do Drink.\n",
      "Cat performace = 3\n",
      "\n",
      "Step 25\n",
      "Agent percepted [].\n",
      "Agent decided to do Drink.\n",
      "Cat performace = 3\n",
      "\n",
      "Step 26\n",
      "Agent percepted [].\n",
      "Agent decided to do Left.\n",
      "Cat performace = 2\n",
      "\n",
      "Step 27\n",
      "Agent percepted [].\n",
      "Agent decided to do Left.\n",
      "Cat performace = 1\n",
      "\n",
      "Step 28\n",
      "Agent percepted [].\n",
      "Agent decided to do Fight.\n",
      "Cat performace = 1\n",
      "\n",
      "Step 29\n",
      "Agent percepted [].\n",
      "Agent decided to do Eat.\n",
      "Cat performace = 1\n",
      "\n",
      "Step 30\n",
      "Agent percepted [].\n",
      "Agent decided to do Eat.\n",
      "Cat performace = 1\n",
      "\n",
      "Step 31\n",
      "Agent percepted [].\n",
      "Agent decided to do Drink.\n",
      "Cat performace = 1\n",
      "\n",
      "Step 32\n",
      "Agent percepted [].\n",
      "Agent decided to do Eat.\n",
      "Cat performace = 1\n",
      "\n",
      "Step 33\n",
      "Agent percepted [].\n",
      "Agent decided to do Left.\n",
      "Agent <Agent> is dead.\n",
      "Cat performace = 0\n",
      "\n"
     ]
    }
   ],
   "source": [
    "print(f\"Initial cat performace = {cat_agent.performance}\\n\")\n",
    "step = 1\n",
    "while not house.is_done():\n",
    "  print(f\"Step {step}\")\n",
    "  house.step()\n",
    "  print(f\"Cat performace = {cat_agent.performance}\\n\")\n",
    "  step += 1"
   ]
  }
 ],
 "metadata": {
  "kernelspec": {
   "display_name": ".venv",
   "language": "python",
   "name": "python3"
  },
  "language_info": {
   "codemirror_mode": {
    "name": "ipython",
    "version": 3
   },
   "file_extension": ".py",
   "mimetype": "text/x-python",
   "name": "python",
   "nbconvert_exporter": "python",
   "pygments_lexer": "ipython3",
   "version": "3.11.9"
  }
 },
 "nbformat": 4,
 "nbformat_minor": 5
}

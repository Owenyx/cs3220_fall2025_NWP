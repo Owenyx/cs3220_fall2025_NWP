{
 "cells": [
  {
   "cell_type": "markdown",
   "id": "223b8aa1",
   "metadata": {},
   "source": [
    "# Lab 2 Task 1 - Random Cat Agent"
   ]
  },
  {
   "cell_type": "markdown",
   "id": "876ae4f3",
   "metadata": {},
   "source": [
    "### Create cat agent"
   ]
  },
  {
   "cell_type": "code",
   "execution_count": null,
   "id": "3b159023",
   "metadata": {},
   "outputs": [],
   "source": [
    "from src.agentClass import Agent\n",
    "from src.rules import cat_actions\n",
    "from src.agentPrograms import RandomAgentProgram\n",
    "\n",
    "cat_program = RandomAgentProgram(cat_actions)\n",
    "\n",
    "cat_agent = Agent(cat_program)"
   ]
  },
  {
   "cell_type": "markdown",
   "id": "2093adfb",
   "metadata": {},
   "source": [
    "### Create house environment"
   ]
  },
  {
   "cell_type": "code",
   "execution_count": null,
   "id": "a9b7dc04",
   "metadata": {},
   "outputs": [
    {
     "ename": "ModuleNotFoundError",
     "evalue": "No module named 'task1'",
     "output_type": "error",
     "traceback": [
      "\u001b[31m---------------------------------------------------------------------------\u001b[39m",
      "\u001b[31mModuleNotFoundError\u001b[39m                       Traceback (most recent call last)",
      "\u001b[36mCell\u001b[39m\u001b[36m \u001b[39m\u001b[32mIn[14]\u001b[39m\u001b[32m, line 1\u001b[39m\n\u001b[32m----> \u001b[39m\u001b[32m1\u001b[39m \u001b[38;5;28;01mfrom\u001b[39;00m\u001b[38;5;250m \u001b[39m\u001b[34;01msrc\u001b[39;00m\u001b[34;01m.\u001b[39;00m\u001b[34;01mtask1\u001b[39;00m\u001b[34;01m.\u001b[39;00m\u001b[34;01mHouseEnvironment\u001b[39;00m\u001b[38;5;250m \u001b[39m\u001b[38;5;28;01mimport\u001b[39;00m HouseEnvironment\n\u001b[32m      3\u001b[39m house = HouseEnvironment()\n",
      "\u001b[36mFile \u001b[39m\u001b[32mc:\\Users\\Owner\\Documents\\GitHub\\cs3220_fall2025_NWP\\src\\task1\\HouseEnvironment.py:3\u001b[39m\n\u001b[32m      1\u001b[39m \u001b[38;5;28;01mfrom\u001b[39;00m\u001b[38;5;250m \u001b[39m\u001b[34;01msrc\u001b[39;00m\u001b[34;01m.\u001b[39;00m\u001b[34;01menvironmentClass\u001b[39;00m\u001b[38;5;250m \u001b[39m\u001b[38;5;28;01mimport\u001b[39;00m Environment\n\u001b[32m      2\u001b[39m \u001b[38;5;28;01mfrom\u001b[39;00m\u001b[38;5;250m \u001b[39m\u001b[34;01msrc\u001b[39;00m\u001b[34;01m.\u001b[39;00m\u001b[34;01mlocations\u001b[39;00m\u001b[38;5;250m \u001b[39m\u001b[38;5;28;01mimport\u001b[39;00m *\n\u001b[32m----> \u001b[39m\u001b[32m3\u001b[39m \u001b[38;5;28;01mfrom\u001b[39;00m\u001b[38;5;250m \u001b[39m\u001b[34;01mtask1\u001b[39;00m\u001b[34;01m.\u001b[39;00m\u001b[34;01mTask1Classes\u001b[39;00m\u001b[38;5;250m \u001b[39m\u001b[38;5;28;01mimport\u001b[39;00m *\n\u001b[32m      4\u001b[39m \u001b[38;5;28;01mfrom\u001b[39;00m\u001b[38;5;250m \u001b[39m\u001b[34;01msrc\u001b[39;00m\u001b[34;01m.\u001b[39;00m\u001b[34;01magentClass\u001b[39;00m\u001b[38;5;250m \u001b[39m\u001b[38;5;28;01mimport\u001b[39;00m Agent\n\u001b[32m      6\u001b[39m \u001b[38;5;28;01mimport\u001b[39;00m\u001b[38;5;250m \u001b[39m\u001b[34;01mrandom\u001b[39;00m\n",
      "\u001b[31mModuleNotFoundError\u001b[39m: No module named 'task1'"
     ]
    }
   ],
   "source": [
    "from src.task1.HouseEnvironment import HouseEnvironment\n",
    "\n",
    "house = HouseEnvironment()"
   ]
  },
  {
   "cell_type": "markdown",
   "id": "60dece3c",
   "metadata": {},
   "source": [
    "### Create other things"
   ]
  },
  {
   "cell_type": "code",
   "execution_count": null,
   "id": "2b52355e",
   "metadata": {},
   "outputs": [],
   "source": [
    "from src.task1.Task1Classes import *\n",
    "\n",
    "dog = Dog()\n",
    "mouse = Mouse()\n",
    "milk = Milk()"
   ]
  },
  {
   "cell_type": "markdown",
   "id": "0d3ada4c",
   "metadata": {},
   "source": [
    "### Add Everything to house environment"
   ]
  },
  {
   "cell_type": "code",
   "execution_count": null,
   "id": "88605d9f",
   "metadata": {},
   "outputs": [
    {
     "name": "stdout",
     "output_type": "stream",
     "text": [
      "Placed <Agent> in room 5\n",
      "Placed <Dog> in room 1\n",
      "Placed <Mouse> in room 2\n",
      "Placed <Milk> in room 4\n"
     ]
    }
   ],
   "source": [
    "house.add_thing(cat_agent)\n",
    "house.add_thing(dog)\n",
    "house.add_thing(mouse)\n",
    "house.add_thing(milk)"
   ]
  },
  {
   "cell_type": "code",
   "execution_count": null,
   "id": "64009750",
   "metadata": {},
   "outputs": [
    {
     "name": "stdout",
     "output_type": "stream",
     "text": [
      "Cat is in room 5\n",
      "Dog: \n",
      "My location is 1, woof woof\n",
      "Mouse: \n",
      "My location is 2, squeak squeak\n",
      "Milk: \n",
      "My location is 4, swish swosh\n",
      "[<Dog>, <Mouse>, <Milk>]\n"
     ]
    }
   ],
   "source": [
    "print(f\"Cat is in room {cat_agent.location}\")\n",
    "print('Dog: ')\n",
    "dog.show_state()\n",
    "print('Mouse: ')\n",
    "mouse.show_state()\n",
    "print('Milk: ')\n",
    "milk.show_state()\n",
    "\n",
    "print(house.things)"
   ]
  },
  {
   "cell_type": "markdown",
   "id": "a7669df7",
   "metadata": {},
   "source": [
    "### Run the agent until it dies"
   ]
  },
  {
   "cell_type": "code",
   "execution_count": null,
   "id": "9d0368de",
   "metadata": {},
   "outputs": [
    {
     "name": "stdout",
     "output_type": "stream",
     "text": [
      "Initial cat performace = 5\n",
      "\n",
      "Step 1\n",
      "Agent percepted [].\n",
      "Agent decided to do Eat.\n",
      "Cat performace = 5\n",
      "\n",
      "Step 2\n",
      "Agent percepted [].\n",
      "Agent decided to do Eat.\n",
      "Cat performace = 5\n",
      "\n",
      "Step 3\n",
      "Agent percepted [].\n",
      "Agent decided to do Eat.\n",
      "Cat performace = 5\n",
      "\n",
      "Step 4\n",
      "Agent percepted [].\n",
      "Agent decided to do Drink.\n",
      "Cat performace = 5\n",
      "\n",
      "Step 5\n",
      "Agent percepted [].\n",
      "Agent decided to do Drink.\n",
      "Cat performace = 5\n",
      "\n",
      "Step 6\n",
      "Agent percepted [].\n",
      "Agent decided to do Drink.\n",
      "Cat performace = 5\n",
      "\n",
      "Step 7\n",
      "Agent percepted [].\n",
      "Agent decided to do Right.\n",
      "Cat performace = 4\n",
      "\n",
      "Step 8\n",
      "Agent percepted [].\n",
      "Agent decided to do Drink.\n",
      "Cat performace = 4\n",
      "\n",
      "Step 9\n",
      "Agent percepted [].\n",
      "Agent decided to do Eat.\n",
      "Cat performace = 4\n",
      "\n",
      "Step 10\n",
      "Agent percepted [].\n",
      "Agent decided to do Drink.\n",
      "Cat performace = 4\n",
      "\n",
      "Step 11\n",
      "Agent percepted [].\n",
      "Agent decided to do Left.\n",
      "Cat performace = 3\n",
      "\n",
      "Step 12\n",
      "Agent percepted [<Milk>].\n",
      "Agent decided to do Right.\n",
      "Cat performace = 2\n",
      "\n",
      "Step 13\n",
      "Agent percepted [].\n",
      "Agent decided to do Left.\n",
      "Cat performace = 1\n",
      "\n",
      "Step 14\n",
      "Agent percepted [<Milk>].\n",
      "Agent decided to do Left.\n",
      "Agent <Agent> is dead.\n",
      "Cat performace = 0\n",
      "\n"
     ]
    }
   ],
   "source": [
    "print(f\"Initial cat performace = {cat_agent.performance}\\n\")\n",
    "step = 1\n",
    "while not house.is_done():\n",
    "  print(f\"Step {step}\")\n",
    "  house.step()\n",
    "  print(f\"Cat performace = {cat_agent.performance}\\n\")\n",
    "  step += 1"
   ]
  }
 ],
 "metadata": {
  "kernelspec": {
   "display_name": ".venv",
   "language": "python",
   "name": "python3"
  },
  "language_info": {
   "codemirror_mode": {
    "name": "ipython",
    "version": 3
   },
   "file_extension": ".py",
   "mimetype": "text/x-python",
   "name": "python",
   "nbconvert_exporter": "python",
   "pygments_lexer": "ipython3",
   "version": "3.13.2"
  }
 },
 "nbformat": 4,
 "nbformat_minor": 5
}

{
 "cells": [
  {
   "cell_type": "markdown",
   "id": "d45f0fef",
   "metadata": {},
   "source": [
    "# Lab 2 Task 2 - Table Driven Cat Agent"
   ]
  },
  {
   "cell_type": "markdown",
   "id": "1f334284",
   "metadata": {},
   "source": [
    "### Create Cat Agent Program"
   ]
  },
  {
   "cell_type": "code",
   "execution_count": 92,
   "id": "2303f7da",
   "metadata": {},
   "outputs": [],
   "source": [
    "from src.agentPrograms import TableDrivenAgentProgram\n",
    "from src.rules import cat_table\n",
    "\n",
    "td_catAP = TableDrivenAgentProgram(cat_table)"
   ]
  },
  {
   "cell_type": "markdown",
   "id": "276348c7",
   "metadata": {},
   "source": [
    "Check the AP"
   ]
  },
  {
   "cell_type": "code",
   "execution_count": 93,
   "id": "d77fae5c",
   "metadata": {},
   "outputs": [
    {
     "name": "stdout",
     "output_type": "stream",
     "text": [
      "Eat\n",
      "Right\n",
      "Drink\n",
      "\n",
      "Drink\n",
      "Left\n",
      "Eat\n"
     ]
    }
   ],
   "source": [
    "print(td_catAP((1, 'SausageHere')))\n",
    "print(td_catAP((1, 'Empty')))\n",
    "print(td_catAP((2, 'MilkHere')))\n",
    "\n",
    "print()\n",
    "\n",
    "# Refresh program to refresh percepts\n",
    "td_catAP = TableDrivenAgentProgram(cat_table)\n",
    "print(td_catAP((2, 'MilkHere')))\n",
    "print(td_catAP((2, 'Empty')))\n",
    "print(td_catAP((1, 'SausageHere')))\n"
   ]
  },
  {
   "cell_type": "markdown",
   "id": "4b4e175e",
   "metadata": {},
   "source": [
    "### Create Cat Agent"
   ]
  },
  {
   "cell_type": "code",
   "execution_count": 94,
   "id": "b4e1f542",
   "metadata": {},
   "outputs": [],
   "source": [
    "from src.task2.Task2Classes import *\n",
    "\n",
    "cat_agent = Agent_Cat(TableDrivenAgentProgram(cat_table))"
   ]
  },
  {
   "cell_type": "markdown",
   "id": "0804441e",
   "metadata": {},
   "source": [
    "### Create House Environment"
   ]
  },
  {
   "cell_type": "code",
   "execution_count": 95,
   "id": "e6ba7450",
   "metadata": {},
   "outputs": [],
   "source": [
    "from src.task2.CatFriendlyHouse import CatFriendlyHouse\n",
    "\n",
    "env = CatFriendlyHouse()"
   ]
  },
  {
   "cell_type": "markdown",
   "id": "9e1dbaeb",
   "metadata": {},
   "source": [
    "### Create Food Items"
   ]
  },
  {
   "cell_type": "code",
   "execution_count": 96,
   "id": "cb6e1adc",
   "metadata": {},
   "outputs": [
    {
     "name": "stdout",
     "output_type": "stream",
     "text": [
      "----------\n",
      "I am a <Milk>\n",
      "Weight: 6\n",
      "Caloric Density: 2\n",
      "Total Calories: 12\n",
      "----------\n",
      "\n",
      "----------\n",
      "I am a <Sausage>\n",
      "Weight: 2\n",
      "Caloric Density: 4\n",
      "Total Calories: 8\n",
      "----------\n"
     ]
    }
   ],
   "source": [
    "milk = Milk()\n",
    "sausage = Sausage()\n",
    "\n",
    "milk.show_state()\n",
    "print()\n",
    "sausage.show_state()"
   ]
  },
  {
   "cell_type": "markdown",
   "id": "ed3e5a2a",
   "metadata": {},
   "source": [
    "### Add Everything to Environment"
   ]
  },
  {
   "cell_type": "code",
   "execution_count": 97,
   "id": "c3f52997",
   "metadata": {},
   "outputs": [
    {
     "name": "stdout",
     "output_type": "stream",
     "text": [
      "Placed <Agent_Cat> in room 1\n",
      "Placed <Milk> in room 1\n",
      "Placed <Sausage> in room 2\n"
     ]
    }
   ],
   "source": [
    "env.add_thing(cat_agent)\n",
    "env.add_thing(milk)\n",
    "env.add_thing(sausage)"
   ]
  },
  {
   "cell_type": "markdown",
   "id": "d71c619d",
   "metadata": {},
   "source": [
    "### Run Agent\n",
    "- Agent will stop once it dies or eats both food items"
   ]
  },
  {
   "cell_type": "code",
   "execution_count": 98,
   "id": "ffaf7e95",
   "metadata": {},
   "outputs": [
    {
     "name": "stdout",
     "output_type": "stream",
     "text": [
      "Initial cat performace = 3\n",
      "\n",
      "Step 1\n",
      "Agent percepted (1, 'MilkHere').\n",
      "Agent decided to do Drink.\n",
      "<Milk> was removed from the house\n",
      "Cat performace = 15\n",
      "\n",
      "Step 2\n",
      "Agent percepted (1, 'Empty').\n",
      "Agent decided to do Right.\n",
      "Cat performace = 14\n",
      "\n",
      "Step 3\n",
      "Agent percepted (2, 'SausageHere').\n",
      "Agent decided to do Eat.\n",
      "<Sausage> was removed from the house\n",
      "Cat performace = 22\n",
      "\n",
      "Cat has ate all the food!\n"
     ]
    }
   ],
   "source": [
    "print(f\"Initial cat performace = {cat_agent.performance}\\n\")\n",
    "step = 1\n",
    "while not env.is_done():\n",
    "  print(f\"Step {step}\")\n",
    "  env.step()\n",
    "  print(f\"Cat performace = {cat_agent.performance}\\n\")\n",
    "  step += 1"
   ]
  }
 ],
 "metadata": {
  "kernelspec": {
   "display_name": ".venv",
   "language": "python",
   "name": "python3"
  },
  "language_info": {
   "codemirror_mode": {
    "name": "ipython",
    "version": 3
   },
   "file_extension": ".py",
   "mimetype": "text/x-python",
   "name": "python",
   "nbconvert_exporter": "python",
   "pygments_lexer": "ipython3",
   "version": "3.11.9"
  }
 },
 "nbformat": 4,
 "nbformat_minor": 5
}

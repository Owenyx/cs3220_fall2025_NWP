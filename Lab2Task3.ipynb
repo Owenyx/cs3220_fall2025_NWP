{
 "cells": [
  {
   "cell_type": "markdown",
   "id": "6c1bbb5c",
   "metadata": {},
   "source": [
    "# Assignment 2. Simple Agents"
   ]
  },
  {
   "cell_type": "markdown",
   "id": "787ac173",
   "metadata": {},
   "source": [
    "### Task3: Reflex Delivery Agent"
   ]
  },
  {
   "cell_type": "markdown",
   "id": "20e542e4",
   "metadata": {},
   "source": [
    "Let's try your code! (Don't change this)"
   ]
  },
  {
   "cell_type": "code",
   "execution_count": 37,
   "id": "e3fec285",
   "metadata": {},
   "outputs": [],
   "source": [
    "from src.task3.CompanyEnvironmentClass import CompanyEnvironment"
   ]
  },
  {
   "cell_type": "code",
   "execution_count": 38,
   "id": "288c3d96",
   "metadata": {},
   "outputs": [],
   "source": [
    "\n",
    "ce=CompanyEnvironment()"
   ]
  },
  {
   "cell_type": "code",
   "execution_count": 39,
   "id": "a8c49df7",
   "metadata": {},
   "outputs": [],
   "source": [
    "from src.task3.Task3Classes import Student, ITStaff, OfficeManager"
   ]
  },
  {
   "cell_type": "code",
   "execution_count": 40,
   "id": "393b78ca",
   "metadata": {},
   "outputs": [],
   "source": [
    "s=Student()\n",
    "i=ITStaff()\n",
    "o=OfficeManager()"
   ]
  },
  {
   "cell_type": "code",
   "execution_count": 41,
   "id": "4367ee6f",
   "metadata": {},
   "outputs": [
    {
     "name": "stdout",
     "output_type": "stream",
     "text": [
      "The item is starting in random location...\n",
      "IT is located at (0, 1).\n",
      "The item is starting in random location...\n",
      "Student is located at (1, 0).\n",
      "The item is starting in random location...\n",
      "OfficeManager is located at (1, 0).\n"
     ]
    }
   ],
   "source": [
    "ce.add_thing(i)\n",
    "print(\"IT is located at {}.\".format(i.location))\n",
    "\n",
    "ce.add_thing(s)\n",
    "print(\"Student is located at {}.\".format(s.location))\n",
    "\n",
    "ce.add_thing(o)\n",
    "print(\"OfficeManager is located at {}.\".format(o.location))"
   ]
  },
  {
   "cell_type": "code",
   "execution_count": 42,
   "id": "3f5e986c",
   "metadata": {},
   "outputs": [
    {
     "data": {
      "text/plain": [
       "[<ITStaff>, <Student>, <OfficeManager>]"
      ]
     },
     "execution_count": 42,
     "metadata": {},
     "output_type": "execute_result"
    }
   ],
   "source": [
    "ce.things"
   ]
  },
  {
   "cell_type": "code",
   "execution_count": 43,
   "id": "1129c149",
   "metadata": {},
   "outputs": [],
   "source": [
    "from src.agents import ReflexAgentA2pro"
   ]
  },
  {
   "cell_type": "code",
   "execution_count": 44,
   "id": "f820b2ec",
   "metadata": {},
   "outputs": [],
   "source": [
    "raTask3pro1=ReflexAgentA2pro()"
   ]
  },
  {
   "cell_type": "code",
   "execution_count": 45,
   "id": "65f6c781",
   "metadata": {},
   "outputs": [
    {
     "name": "stdout",
     "output_type": "stream",
     "text": [
      "Welcome!\n",
      "The item is starting in random location...\n"
     ]
    }
   ],
   "source": [
    "ce.add_thing(raTask3pro1)"
   ]
  },
  {
   "cell_type": "code",
   "execution_count": 46,
   "id": "d0f6e6ab",
   "metadata": {},
   "outputs": [
    {
     "name": "stdout",
     "output_type": "stream",
     "text": [
      "State of the Office Environment: [(0, 0), (0, 1), (1, 0), (1, 1)].\n",
      "Agent is located at (1, 0).\n"
     ]
    }
   ],
   "source": [
    "print(\"State of the Office Environment: {}.\".format(ce.locations))\n",
    "print(\"Agent is located at {}.\".format(raTask3pro1.location))"
   ]
  },
  {
   "cell_type": "code",
   "execution_count": 47,
   "id": "f0a8fce1",
   "metadata": {},
   "outputs": [
    {
     "name": "stdout",
     "output_type": "stream",
     "text": [
      "Agent percepted ((1, 0), [<Student>, <OfficeManager>]).\n",
      "Agent decided to do Give pizza.\n",
      "The Agent decided to Give pizza to <Student> at location: (1, 0)\n"
     ]
    },
    {
     "data": {
      "text/plain": [
       "['Give pizza']"
      ]
     },
     "execution_count": 47,
     "metadata": {},
     "output_type": "execute_result"
    }
   ],
   "source": [
    "ce.step()"
   ]
  },
  {
   "cell_type": "code",
   "execution_count": 48,
   "id": "ae7bd302",
   "metadata": {},
   "outputs": [
    {
     "name": "stdout",
     "output_type": "stream",
     "text": [
      "step 1:\n",
      "Agent percepted ((1, 0), [<OfficeManager>]).\n",
      "Agent decided to do Give mail.\n",
      "The Agent decided to Give mail to <OfficeManager> at location: (1, 0)\n",
      "step 2:\n",
      "Clear\n",
      "Agent percepted ((1, 0), []).\n",
      "Agent decided to do Go ahead.\n",
      "The Agent decided to Go ahead at location: (1, 1)\n",
      "step 3:\n",
      "Last room\n",
      "Agent percepted ((1, 1), []).\n",
      "Agent decided to do Stop.\n",
      "We can't find a live agent\n"
     ]
    }
   ],
   "source": [
    "ce.run()"
   ]
  }
 ],
 "metadata": {
  "kernelspec": {
   "display_name": ".venv",
   "language": "python",
   "name": "python3"
  },
  "language_info": {
   "codemirror_mode": {
    "name": "ipython",
    "version": 3
   },
   "file_extension": ".py",
   "mimetype": "text/x-python",
   "name": "python",
   "nbconvert_exporter": "python",
   "pygments_lexer": "ipython3",
   "version": "3.13.2"
  }
 },
 "nbformat": 4,
 "nbformat_minor": 5
}

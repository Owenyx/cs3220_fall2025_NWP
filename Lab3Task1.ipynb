{
 "cells": [
  {
   "cell_type": "markdown",
   "id": "da5a2aca",
   "metadata": {},
   "source": [
    "# Lab 3 Task 1 - Wolf, goat, and the cabbage puzzle"
   ]
  },
  {
   "cell_type": "markdown",
   "id": "8f63195a",
   "metadata": {},
   "source": [
    "### Retrieve data"
   ]
  },
  {
   "cell_type": "code",
   "execution_count": 1,
   "id": "d42819ff",
   "metadata": {},
   "outputs": [
    {
     "data": {
      "text/plain": [
       "{'LLLL': {'LLBL': 2, 'LBLL': 3, 'BLLL': 3},\n",
       " 'LLBL': {'LLLL': 2},\n",
       " 'LLRL': {'LBRL': 3, 'BLRL': 3},\n",
       " 'LBLL': {'LLLL': 3, 'LBLR': 1},\n",
       " 'LBLR': {'LRLR': 3, 'LBLL': 1},\n",
       " 'LBRL': {'LLRL': 3, 'LBRR': 1},\n",
       " 'LBRR': {'LRRR': 3, 'LBRL': 1},\n",
       " 'LRLL': {'LRLR': 1, 'LRBL': 2, 'BRLL': 3},\n",
       " 'LRLR': {'LBLR': 3, 'LRLL': 1},\n",
       " 'LRBL': {'LRLL': 2, 'LRBR': 1},\n",
       " 'LRBR': {'LRRR': 2, 'LRBL': 1},\n",
       " 'LRRR': {'LRBR': 2, 'LBRR': 3},\n",
       " 'BLLL': {'LLLL': 3},\n",
       " 'BLRL': {'LLRL': 3, 'BLRR': 1},\n",
       " 'BLRR': {'RLRR': 3, 'BLRL': 1},\n",
       " 'BRLL': {'LRLL': 3, 'BRLR': 1},\n",
       " 'BRLR': {'RRLR': 3, 'BRLL': 1},\n",
       " 'BRRR': {'RRRR': 3},\n",
       " 'RLLL': {'RLBL': 2, 'RBLL': 3},\n",
       " 'RLBL': {'RLBR': 1, 'RLLL': 2},\n",
       " 'RLBR': {'RLBL': 1, 'RLRR': 2},\n",
       " 'RLRL': {'RLRR': 1, 'RBRL': 3},\n",
       " 'RLRR': {'RLRL': 1, 'RLBR': 2, 'BLRR': 3},\n",
       " 'RBLL': {'RBLR': 1, 'RLLL': 3},\n",
       " 'RBLR': {'RBLL': 1, 'RRLR': 3},\n",
       " 'RBRL': {'RBRR': 1, 'RLRL': 3},\n",
       " 'RBRR': {'RBRL': 1, 'RRRR': 3},\n",
       " 'RRLR': {'RBLR': 3, 'BRLR': 3},\n",
       " 'RRBR': {'RRRR': 2},\n",
       " 'RRRR': {'RRBR': 2, 'RBRR': 3, 'BRRR': 3}}"
      ]
     },
     "execution_count": 1,
     "metadata": {},
     "output_type": "execute_result"
    }
   ],
   "source": [
    "from data.boatData import boat_data\n",
    "boat_data"
   ]
  },
  {
   "cell_type": "markdown",
   "id": "fca02e27",
   "metadata": {},
   "source": [
    "## Create Graph"
   ]
  },
  {
   "cell_type": "code",
   "execution_count": 2,
   "id": "0c25b342",
   "metadata": {},
   "outputs": [
    {
     "data": {
      "text/plain": [
       "['RRRR',\n",
       " 'LLLL',\n",
       " 'BLRR',\n",
       " 'RRLR',\n",
       " 'LBRR',\n",
       " 'BLRL',\n",
       " 'RLBL',\n",
       " 'LLBL',\n",
       " 'LRBL',\n",
       " 'BRLL',\n",
       " 'LRRR',\n",
       " 'RBLR',\n",
       " 'BRLR',\n",
       " 'RLRL',\n",
       " 'RBLL',\n",
       " 'LBLL',\n",
       " 'BLLL',\n",
       " 'RBRL',\n",
       " 'LRBR',\n",
       " 'RLRR',\n",
       " 'RRBR',\n",
       " 'LBLR',\n",
       " 'RLLL',\n",
       " 'LRLR',\n",
       " 'LLRL',\n",
       " 'BRRR',\n",
       " 'RBRR',\n",
       " 'LRLL',\n",
       " 'LBRL',\n",
       " 'RLBR']"
      ]
     },
     "execution_count": 2,
     "metadata": {},
     "output_type": "execute_result"
    }
   ],
   "source": [
    "from src.graphClass import Graph\n",
    "boat_graph = Graph(boat_data)\n",
    "boat_graph.nodes()"
   ]
  },
  {
   "cell_type": "code",
   "execution_count": 3,
   "id": "120cc1d3",
   "metadata": {},
   "outputs": [
    {
     "data": {
      "text/plain": [
       "{'LLBL': 2, 'LBLL': 3, 'BLLL': 3}"
      ]
     },
     "execution_count": 3,
     "metadata": {},
     "output_type": "execute_result"
    }
   ],
   "source": [
    "boat_graph.get('LLLL')"
   ]
  },
  {
   "cell_type": "code",
   "execution_count": 4,
   "id": "02a00fd1",
   "metadata": {},
   "outputs": [
    {
     "data": {
      "text/plain": [
       "2"
      ]
     },
     "execution_count": 4,
     "metadata": {},
     "output_type": "execute_result"
    }
   ],
   "source": [
    "boat_graph.get('LLLL', 'LLBL') # Loading cabbage costs 2"
   ]
  },
  {
   "cell_type": "markdown",
   "id": "fb3d3fb3",
   "metadata": {},
   "source": [
    "## Create Network"
   ]
  },
  {
   "cell_type": "code",
   "execution_count": 5,
   "id": "5c34d6bc",
   "metadata": {},
   "outputs": [],
   "source": [
    "from pyvis.network import Network\n",
    "\n",
    "net = Network( heading=\"Lab 3 - Task 1: Boat problem\",\n",
    "                bgcolor =\"#242020\",\n",
    "                font_color = \"white\",\n",
    "                height = \"750px\",\n",
    "                width = \"100%\"\n",
    ")"
   ]
  },
  {
   "cell_type": "code",
   "execution_count": 6,
   "id": "8d4d5968",
   "metadata": {},
   "outputs": [],
   "source": [
    "net.add_nodes(boat_graph.nodes(), title=[str(node) for node in boat_graph.nodes()])"
   ]
  },
  {
   "cell_type": "code",
   "execution_count": 7,
   "id": "6957818e",
   "metadata": {},
   "outputs": [],
   "source": [
    "nodeColors={\n",
    "    \"start\":\"red\",\n",
    "    \"goal\": \"green\",\n",
    "    \"frontier\": \"orange\",\n",
    "    \"expanded\":\"pink\"\n",
    "}"
   ]
  },
  {
   "cell_type": "code",
   "execution_count": 8,
   "id": "ada41c10",
   "metadata": {},
   "outputs": [],
   "source": [
    "for node in net.nodes:\n",
    "    if node['id']=='LLLL':\n",
    "        node[\"color\"]=nodeColors[\"start\"]\n",
    "    elif node['id']=='RRRR':\n",
    "        node[\"color\"]=nodeColors[\"goal\"]"
   ]
  },
  {
   "cell_type": "code",
   "execution_count": 9,
   "id": "89c6d974",
   "metadata": {},
   "outputs": [
    {
     "data": {
      "text/plain": [
       "{'LLLL': {'LLBL': 2, 'LBLL': 3, 'BLLL': 3},\n",
       " 'LLBL': {'LLLL': 2},\n",
       " 'LLRL': {'LBRL': 3, 'BLRL': 3},\n",
       " 'LBLL': {'LLLL': 3, 'LBLR': 1},\n",
       " 'LBLR': {'LRLR': 3, 'LBLL': 1},\n",
       " 'LBRL': {'LLRL': 3, 'LBRR': 1},\n",
       " 'LBRR': {'LRRR': 3, 'LBRL': 1},\n",
       " 'LRLL': {'LRLR': 1, 'LRBL': 2, 'BRLL': 3},\n",
       " 'LRLR': {'LBLR': 3, 'LRLL': 1},\n",
       " 'LRBL': {'LRLL': 2, 'LRBR': 1},\n",
       " 'LRBR': {'LRRR': 2, 'LRBL': 1},\n",
       " 'LRRR': {'LRBR': 2, 'LBRR': 3},\n",
       " 'BLLL': {'LLLL': 3},\n",
       " 'BLRL': {'LLRL': 3, 'BLRR': 1},\n",
       " 'BLRR': {'RLRR': 3, 'BLRL': 1},\n",
       " 'BRLL': {'LRLL': 3, 'BRLR': 1},\n",
       " 'BRLR': {'RRLR': 3, 'BRLL': 1},\n",
       " 'BRRR': {'RRRR': 3},\n",
       " 'RLLL': {'RLBL': 2, 'RBLL': 3},\n",
       " 'RLBL': {'RLBR': 1, 'RLLL': 2},\n",
       " 'RLBR': {'RLBL': 1, 'RLRR': 2},\n",
       " 'RLRL': {'RLRR': 1, 'RBRL': 3},\n",
       " 'RLRR': {'RLRL': 1, 'RLBR': 2, 'BLRR': 3},\n",
       " 'RBLL': {'RBLR': 1, 'RLLL': 3},\n",
       " 'RBLR': {'RBLL': 1, 'RRLR': 3},\n",
       " 'RBRL': {'RBRR': 1, 'RLRL': 3},\n",
       " 'RBRR': {'RBRL': 1, 'RRRR': 3},\n",
       " 'RRLR': {'RBLR': 3, 'BRLR': 3},\n",
       " 'RRBR': {'RRRR': 2},\n",
       " 'RRRR': {'RRBR': 2, 'RBRR': 3, 'BRRR': 3}}"
      ]
     },
     "execution_count": 9,
     "metadata": {},
     "output_type": "execute_result"
    }
   ],
   "source": [
    "boat_graph.graph_dict"
   ]
  },
  {
   "cell_type": "code",
   "execution_count": 10,
   "id": "ec976c48",
   "metadata": {},
   "outputs": [],
   "source": [
    "edges=[]\n",
    "edges_labels=[]\n",
    "\n",
    "for node_source in boat_graph.nodes():\n",
    "    for node_target, dist in boat_graph.get(node_source).items():\n",
    "        # We convert to set to avoid making a duplicate edge in either direction\n",
    "        # So (node_source, node_target) and (node_target, node_source) will not be added if either are\n",
    "        # This is just for the network, as one edge is enough\n",
    "        if set((node_source,node_target)) not in edges:\n",
    "            net.add_edge(node_source,node_target, label=str(dist))\n",
    "            edges.append(set((node_source,node_target))) # Convert for same reason as above\n",
    "            edges_labels.append(str(dist))"
   ]
  },
  {
   "cell_type": "code",
   "execution_count": 11,
   "id": "a576c0fe",
   "metadata": {},
   "outputs": [
    {
     "data": {
      "text/plain": [
       "['2', '3', '3', '2', '3']"
      ]
     },
     "execution_count": 11,
     "metadata": {},
     "output_type": "execute_result"
    }
   ],
   "source": [
    "edges_labels[:5]"
   ]
  },
  {
   "cell_type": "code",
   "execution_count": 12,
   "id": "757b7585",
   "metadata": {},
   "outputs": [
    {
     "data": {
      "text/plain": [
       "[{'RRBR', 'RRRR'},\n",
       " {'RBRR', 'RRRR'},\n",
       " {'BRRR', 'RRRR'},\n",
       " {'LLBL', 'LLLL'},\n",
       " {'LBLL', 'LLLL'}]"
      ]
     },
     "execution_count": 12,
     "metadata": {},
     "output_type": "execute_result"
    }
   ],
   "source": [
    "edges[:5]"
   ]
  },
  {
   "cell_type": "code",
   "execution_count": 13,
   "id": "6eee7252",
   "metadata": {},
   "outputs": [
    {
     "data": {
      "text/plain": [
       "[{'label': '2', 'from': 'RRRR', 'to': 'RRBR'},\n",
       " {'label': '3', 'from': 'RRRR', 'to': 'RBRR'},\n",
       " {'label': '3', 'from': 'RRRR', 'to': 'BRRR'},\n",
       " {'label': '2', 'from': 'LLLL', 'to': 'LLBL'},\n",
       " {'label': '3', 'from': 'LLLL', 'to': 'LBLL'},\n",
       " {'label': '3', 'from': 'LLLL', 'to': 'BLLL'},\n",
       " {'label': '3', 'from': 'BLRR', 'to': 'RLRR'},\n",
       " {'label': '1', 'from': 'BLRR', 'to': 'BLRL'},\n",
       " {'label': '3', 'from': 'RRLR', 'to': 'RBLR'},\n",
       " {'label': '3', 'from': 'RRLR', 'to': 'BRLR'},\n",
       " {'label': '3', 'from': 'LBRR', 'to': 'LRRR'},\n",
       " {'label': '1', 'from': 'LBRR', 'to': 'LBRL'},\n",
       " {'label': '3', 'from': 'BLRL', 'to': 'LLRL'},\n",
       " {'label': '1', 'from': 'RLBL', 'to': 'RLBR'},\n",
       " {'label': '2', 'from': 'RLBL', 'to': 'RLLL'},\n",
       " {'label': '2', 'from': 'LRBL', 'to': 'LRLL'},\n",
       " {'label': '1', 'from': 'LRBL', 'to': 'LRBR'},\n",
       " {'label': '3', 'from': 'BRLL', 'to': 'LRLL'},\n",
       " {'label': '1', 'from': 'BRLL', 'to': 'BRLR'},\n",
       " {'label': '2', 'from': 'LRRR', 'to': 'LRBR'},\n",
       " {'label': '1', 'from': 'RBLR', 'to': 'RBLL'},\n",
       " {'label': '1', 'from': 'RLRL', 'to': 'RLRR'},\n",
       " {'label': '3', 'from': 'RLRL', 'to': 'RBRL'},\n",
       " {'label': '3', 'from': 'RBLL', 'to': 'RLLL'},\n",
       " {'label': '1', 'from': 'LBLL', 'to': 'LBLR'},\n",
       " {'label': '1', 'from': 'RBRL', 'to': 'RBRR'},\n",
       " {'label': '2', 'from': 'RLRR', 'to': 'RLBR'},\n",
       " {'label': '3', 'from': 'LBLR', 'to': 'LRLR'},\n",
       " {'label': '1', 'from': 'LRLR', 'to': 'LRLL'},\n",
       " {'label': '3', 'from': 'LLRL', 'to': 'LBRL'}]"
      ]
     },
     "execution_count": 13,
     "metadata": {},
     "output_type": "execute_result"
    }
   ],
   "source": [
    "net.edges"
   ]
  },
  {
   "cell_type": "code",
   "execution_count": 14,
   "id": "29fd73a0",
   "metadata": {},
   "outputs": [
    {
     "name": "stdout",
     "output_type": "stream",
     "text": [
      "boatGraph.html\n"
     ]
    }
   ],
   "source": [
    "net.show(\"boatGraph.html\", notebook=False)"
   ]
  },
  {
   "cell_type": "markdown",
   "id": "d1b99eda",
   "metadata": {},
   "source": [
    "## Search Part"
   ]
  },
  {
   "cell_type": "code",
   "execution_count": 15,
   "id": "e037bfe9",
   "metadata": {},
   "outputs": [],
   "source": [
    "init_state = 'LLLL'\n",
    "goal_state = 'RRRR'"
   ]
  },
  {
   "cell_type": "code",
   "execution_count": 16,
   "id": "84bb3ef8",
   "metadata": {},
   "outputs": [],
   "source": [
    "from src.graphProblemClass import GraphProblem\n",
    "\n",
    "boat_problem = GraphProblem(init_state, goal_state, boat_data)"
   ]
  },
  {
   "cell_type": "markdown",
   "id": "cb1118f4",
   "metadata": {},
   "source": [
    "#### Test problem"
   ]
  },
  {
   "cell_type": "code",
   "execution_count": 17,
   "id": "561d03b8",
   "metadata": {},
   "outputs": [
    {
     "data": {
      "text/plain": [
       "['LLBL', 'LBLL', 'BLLL']"
      ]
     },
     "execution_count": 17,
     "metadata": {},
     "output_type": "execute_result"
    }
   ],
   "source": [
    "boat_problem.actions(init_state) # Can load any of the entities into the boat"
   ]
  },
  {
   "cell_type": "code",
   "execution_count": 18,
   "id": "1b7c7e43",
   "metadata": {},
   "outputs": [
    {
     "data": {
      "text/plain": [
       "'LBLL'"
      ]
     },
     "execution_count": 18,
     "metadata": {},
     "output_type": "execute_result"
    }
   ],
   "source": [
    "boat_problem.result(init_state, \"LBLL\") # If loading goat, we will reach the state where goat is loaded"
   ]
  },
  {
   "cell_type": "markdown",
   "id": "ae7c684d",
   "metadata": {},
   "source": [
    "## Create Agent"
   ]
  },
  {
   "cell_type": "code",
   "execution_count": 19,
   "id": "0dbabd6d",
   "metadata": {},
   "outputs": [
    {
     "data": {
      "text/plain": [
       "'LLLL'"
      ]
     },
     "execution_count": 19,
     "metadata": {},
     "output_type": "execute_result"
    }
   ],
   "source": [
    "from src.agents import ProblemSolvingBoatAgentBFS\n",
    "\n",
    "bfsBoatAgent = ProblemSolvingBoatAgentBFS(init_state, boat_graph, goal_state)\n",
    "bfsBoatAgent.state"
   ]
  },
  {
   "cell_type": "code",
   "execution_count": 20,
   "id": "8c24eaee",
   "metadata": {},
   "outputs": [
    {
     "data": {
      "text/plain": [
       "'RRRR'"
      ]
     },
     "execution_count": 20,
     "metadata": {},
     "output_type": "execute_result"
    }
   ],
   "source": [
    "bfsBoatAgent.formulate_goal(bfsBoatAgent.state)"
   ]
  },
  {
   "cell_type": "code",
   "execution_count": 21,
   "id": "fa564d5a",
   "metadata": {},
   "outputs": [
    {
     "name": "stdout",
     "output_type": "stream",
     "text": [
      "<Node LRLL>\n",
      "<Node BRLL>\n",
      "<Node BRLR>\n",
      "<Node LRBL>\n",
      "<Node LRBR>\n",
      "<Node LRLR>\n",
      "<Node LBLR>\n",
      "<Node LBLL>\n",
      "<Node LLLL>\n",
      "<Node BLLL>\n",
      "<Node LLBL>\n",
      "<Node LRRR>\n",
      "<Node LBRR>\n",
      "<Node LBRL>\n",
      "<Node LLRL>\n",
      "<Node BLRL>\n",
      "<Node BLRR>\n",
      "<Node RLRR>\n",
      "<Node RLBR>\n",
      "<Node RLBL>\n",
      "<Node RLLL>\n",
      "<Node RBLL>\n",
      "<Node RBLR>\n",
      "<Node RLRL>\n",
      "<Node RBRL>\n",
      "<Node RBRR>\n",
      "<Node RRLR>\n",
      "<Node RBLR>\n",
      "<Node RBLL>\n",
      "<Node RLLL>\n",
      "<Node RLBL>\n",
      "<Node RLBR>\n",
      "<Node RRRR>\n",
      "Solution (a sequence of actions) from the initial state to a goal: ['LRBL', 'LRBR', 'LRRR', 'LBRR', 'LBRL', 'LLRL', 'BLRL', 'BLRR', 'RLRR', 'RLRL', 'RBRL', 'RBRR', 'RRRR']\n"
     ]
    }
   ],
   "source": [
    "bfsBoatAgent('LRLL')"
   ]
  },
  {
   "cell_type": "code",
   "execution_count": 22,
   "id": "acaeabcc",
   "metadata": {},
   "outputs": [
    {
     "name": "stdout",
     "output_type": "stream",
     "text": [
      "goal list: RRRR\n",
      "I have the only goal = RRRR\n",
      "<Node LLLL>\n",
      "<Node BLLL>\n",
      "<Node LBLL>\n",
      "<Node LBLR>\n",
      "<Node LLBL>\n",
      "<Node LRLR>\n",
      "<Node LRLL>\n",
      "<Node BRLL>\n",
      "<Node BRLR>\n",
      "<Node LRBL>\n",
      "<Node LRBR>\n",
      "<Node LRRR>\n",
      "<Node LBRR>\n",
      "<Node LBRL>\n",
      "<Node LLRL>\n",
      "<Node BLRL>\n",
      "<Node BLRR>\n",
      "<Node RLRR>\n",
      "<Node RLBR>\n",
      "<Node RLBL>\n",
      "<Node RLLL>\n",
      "<Node RBLL>\n",
      "<Node RBLR>\n",
      "<Node RLRL>\n",
      "<Node RBRL>\n",
      "<Node RBRR>\n",
      "<Node RRLR>\n",
      "<Node RBLR>\n",
      "<Node RBLL>\n",
      "<Node RLLL>\n",
      "<Node RLBL>\n",
      "<Node RLBR>\n",
      "<Node RRRR>\n",
      "Solution (a sequence of actions) from the initial state to a goal: ['LBLL', 'LBLR', 'LRLR', 'LRLL', 'LRBL', 'LRBR', 'LRRR', 'LBRR', 'LBRL', 'LLRL', 'BLRL', 'BLRR', 'RLRR', 'RLRL', 'RBRL', 'RBRR', 'RRRR']\n"
     ]
    }
   ],
   "source": [
    "bfsBoatAgent = ProblemSolvingBoatAgentBFS(init_state, boat_graph, goal_state)\n",
    "bfsBoatAgent.run()"
   ]
  },
  {
   "cell_type": "markdown",
   "id": "82178494",
   "metadata": {},
   "source": [
    "## Add environment"
   ]
  },
  {
   "cell_type": "code",
   "execution_count": 23,
   "id": "81280adb",
   "metadata": {},
   "outputs": [
    {
     "data": {
      "text/plain": [
       "{'LLLL': {'LLBL': 2, 'LBLL': 3, 'BLLL': 3},\n",
       " 'LLBL': {'LLLL': 2},\n",
       " 'LLRL': {'LBRL': 3, 'BLRL': 3},\n",
       " 'LBLL': {'LLLL': 3, 'LBLR': 1},\n",
       " 'LBLR': {'LRLR': 3, 'LBLL': 1},\n",
       " 'LBRL': {'LLRL': 3, 'LBRR': 1},\n",
       " 'LBRR': {'LRRR': 3, 'LBRL': 1},\n",
       " 'LRLL': {'LRLR': 1, 'LRBL': 2, 'BRLL': 3},\n",
       " 'LRLR': {'LBLR': 3, 'LRLL': 1},\n",
       " 'LRBL': {'LRLL': 2, 'LRBR': 1},\n",
       " 'LRBR': {'LRRR': 2, 'LRBL': 1},\n",
       " 'LRRR': {'LRBR': 2, 'LBRR': 3},\n",
       " 'BLLL': {'LLLL': 3},\n",
       " 'BLRL': {'LLRL': 3, 'BLRR': 1},\n",
       " 'BLRR': {'RLRR': 3, 'BLRL': 1},\n",
       " 'BRLL': {'LRLL': 3, 'BRLR': 1},\n",
       " 'BRLR': {'RRLR': 3, 'BRLL': 1},\n",
       " 'BRRR': {'RRRR': 3},\n",
       " 'RLLL': {'RLBL': 2, 'RBLL': 3},\n",
       " 'RLBL': {'RLBR': 1, 'RLLL': 2},\n",
       " 'RLBR': {'RLBL': 1, 'RLRR': 2},\n",
       " 'RLRL': {'RLRR': 1, 'RBRL': 3},\n",
       " 'RLRR': {'RLRL': 1, 'RLBR': 2, 'BLRR': 3},\n",
       " 'RBLL': {'RBLR': 1, 'RLLL': 3},\n",
       " 'RBLR': {'RBLL': 1, 'RRLR': 3},\n",
       " 'RBRL': {'RBRR': 1, 'RLRL': 3},\n",
       " 'RBRR': {'RBRL': 1, 'RRRR': 3},\n",
       " 'RRLR': {'RBLR': 3, 'BRLR': 3},\n",
       " 'RRBR': {'RRRR': 2},\n",
       " 'RRRR': {'RRBR': 2, 'RBRR': 3, 'BRRR': 3}}"
      ]
     },
     "execution_count": 23,
     "metadata": {},
     "output_type": "execute_result"
    }
   ],
   "source": [
    "from src.task1.RiverEnvironment import RiverEnvironment\n",
    "\n",
    "environment = RiverEnvironment(boat_graph)\n",
    "\n",
    "environment.status.graph_dict"
   ]
  },
  {
   "cell_type": "code",
   "execution_count": 24,
   "id": "edbfcc1b",
   "metadata": {},
   "outputs": [
    {
     "name": "stdout",
     "output_type": "stream",
     "text": [
      "<Node LLLL>\n",
      "<Node BLLL>\n",
      "<Node LBLL>\n",
      "<Node LBLR>\n",
      "<Node LLBL>\n",
      "<Node LRLR>\n",
      "<Node LRLL>\n",
      "<Node BRLL>\n",
      "<Node BRLR>\n",
      "<Node LRBL>\n",
      "<Node LRBR>\n",
      "<Node LRRR>\n",
      "<Node LBRR>\n",
      "<Node LBRL>\n",
      "<Node LLRL>\n",
      "<Node BLRL>\n",
      "<Node BLRR>\n",
      "<Node RLRR>\n",
      "<Node RLBR>\n",
      "<Node RLBL>\n",
      "<Node RLLL>\n",
      "<Node RBLL>\n",
      "<Node RBLR>\n",
      "<Node RLRL>\n",
      "<Node RBRL>\n",
      "<Node RBRR>\n",
      "<Node RRLR>\n",
      "<Node RBLR>\n",
      "<Node RBLL>\n",
      "<Node RLLL>\n",
      "<Node RLBL>\n",
      "<Node RLBR>\n",
      "<Node RRRR>\n",
      "Solution (a sequence of actions) from the initial state to a goal: ['LBLL', 'LBLR', 'LRLR', 'LRLL', 'LRBL', 'LRBR', 'LRRR', 'LBRR', 'LBRL', 'LLRL', 'BLRL', 'BLRR', 'RLRR', 'RLRL', 'RBRL', 'RBRR', 'RRRR']\n",
      "The Agent in LLLL with performance 30\n"
     ]
    }
   ],
   "source": [
    "bfsBoatAgent = ProblemSolvingBoatAgentBFS(init_state, boat_graph, goal_state)\n",
    "\n",
    "environment.add_thing(bfsBoatAgent)"
   ]
  },
  {
   "cell_type": "code",
   "execution_count": 25,
   "id": "79a58455",
   "metadata": {},
   "outputs": [
    {
     "name": "stdout",
     "output_type": "stream",
     "text": [
      "step 1:\n",
      "Agent decided to do LBLL.\n",
      "Agent in LBLL with performance = 29\n",
      "step 2:\n",
      "Agent decided to do LBLR.\n",
      "Agent in LBLR with performance = 28\n",
      "step 3:\n",
      "Agent decided to do LRLR.\n",
      "Agent in LRLR with performance = 27\n",
      "step 4:\n",
      "Agent decided to do LRLL.\n",
      "Agent in LRLL with performance = 26\n",
      "step 5:\n",
      "Agent decided to do LRBL.\n",
      "Agent in LRBL with performance = 25\n",
      "step 6:\n",
      "Agent decided to do LRBR.\n",
      "Agent in LRBR with performance = 24\n",
      "step 7:\n",
      "Agent decided to do LRRR.\n",
      "Agent in LRRR with performance = 23\n",
      "step 8:\n",
      "Agent decided to do LBRR.\n",
      "Agent in LBRR with performance = 22\n",
      "step 9:\n",
      "Agent decided to do LBRL.\n",
      "Agent in LBRL with performance = 21\n",
      "step 10:\n",
      "Agent decided to do LLRL.\n",
      "Agent in LLRL with performance = 20\n",
      "step 11:\n",
      "Agent decided to do BLRL.\n",
      "Agent in BLRL with performance = 19\n",
      "step 12:\n",
      "Agent decided to do BLRR.\n",
      "Agent in BLRR with performance = 18\n",
      "step 13:\n",
      "Agent decided to do RLRR.\n",
      "Agent in RLRR with performance = 17\n",
      "step 14:\n",
      "Agent decided to do RLRL.\n",
      "Agent in RLRL with performance = 16\n",
      "step 15:\n",
      "Agent decided to do RBRL.\n",
      "Agent in RBRL with performance = 15\n",
      "step 16:\n",
      "Agent decided to do RBRR.\n",
      "Agent in RBRR with performance = 14\n",
      "step 17:\n",
      "Agent decided to do RRRR.\n",
      "Agent in RRRR with performance = 13\n",
      "Agent reached all goals\n"
     ]
    }
   ],
   "source": [
    "environment.run(50)"
   ]
  }
 ],
 "metadata": {
  "kernelspec": {
   "display_name": ".venv",
   "language": "python",
   "name": "python3"
  },
  "language_info": {
   "codemirror_mode": {
    "name": "ipython",
    "version": 3
   },
   "file_extension": ".py",
   "mimetype": "text/x-python",
   "name": "python",
   "nbconvert_exporter": "python",
   "pygments_lexer": "ipython3",
   "version": "3.13.8"
  }
 },
 "nbformat": 4,
 "nbformat_minor": 5
}

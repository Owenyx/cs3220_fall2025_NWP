{
 "cells": [
  {
   "cell_type": "markdown",
   "id": "da5a2aca",
   "metadata": {},
   "source": [
    "# Lab 3 Task 1 - Maze puzzle"
   ]
  },
  {
   "cell_type": "markdown",
   "id": "8f63195a",
   "metadata": {},
   "source": [
    "### Retrieve data"
   ]
  },
  {
   "cell_type": "code",
   "execution_count": 25,
   "id": "d42819ff",
   "metadata": {},
   "outputs": [
    {
     "data": {
      "text/plain": [
       "{'N1': {'Advance': 'N2'},\n",
       " 'N2': {'Advance': 'N3', 'Left': 'N6'},\n",
       " 'N3': {},\n",
       " 'N4': {},\n",
       " 'N5': {'Advance': 'N4', 'Right': 'N9'},\n",
       " 'N6': {'Left': 'N5', 'Right': 'N7'},\n",
       " 'N7': {'Advance': 'N8', 'Left': 'N12'},\n",
       " 'N8': {},\n",
       " 'N9': {'Right': 'N10', 'Advance': 'N13'},\n",
       " 'N10': {},\n",
       " 'N11': {},\n",
       " 'N12': {'Left': 'N11', 'Advance': 'N15'},\n",
       " 'N13': {'Right': 'N14', 'Advance': 'N16'},\n",
       " 'N14': {'Advance': 'N24'},\n",
       " 'N15': {'Left': 'N14', 'Advance': 'N19'},\n",
       " 'N16': {'Right': 'N17', 'Advance': 'N20'},\n",
       " 'N17': {'Left': 'N23'},\n",
       " 'N18': {'Right': 'N25'},\n",
       " 'N19': {'Left': 'N18', 'Advance': 'N21'},\n",
       " 'N20': {},\n",
       " 'N21': {},\n",
       " 'N22': {},\n",
       " 'N23': {'Left': 'N22', 'Right': 'N24'},\n",
       " 'N24': {'Advance': 'N25'},\n",
       " 'N25': {'Advance': 'N26'},\n",
       " 'N26': {}}"
      ]
     },
     "execution_count": 25,
     "metadata": {},
     "output_type": "execute_result"
    }
   ],
   "source": [
    "from data.mazeData import maze_data, maze_action_costs\n",
    "maze_data"
   ]
  },
  {
   "cell_type": "markdown",
   "id": "fca02e27",
   "metadata": {},
   "source": [
    "## Create Graph"
   ]
  },
  {
   "cell_type": "code",
   "execution_count": 26,
   "id": "0c25b342",
   "metadata": {},
   "outputs": [
    {
     "data": {
      "text/plain": [
       "['N1',\n",
       " 'N2',\n",
       " 'N3',\n",
       " 'N4',\n",
       " 'N5',\n",
       " 'N6',\n",
       " 'N7',\n",
       " 'N8',\n",
       " 'N9',\n",
       " 'N10',\n",
       " 'N11',\n",
       " 'N12',\n",
       " 'N13',\n",
       " 'N14',\n",
       " 'N15',\n",
       " 'N16',\n",
       " 'N17',\n",
       " 'N18',\n",
       " 'N19',\n",
       " 'N20',\n",
       " 'N21',\n",
       " 'N22',\n",
       " 'N23',\n",
       " 'N24',\n",
       " 'N25',\n",
       " 'N26']"
      ]
     },
     "execution_count": 26,
     "metadata": {},
     "output_type": "execute_result"
    }
   ],
   "source": [
    "from src.graphClass import Graph\n",
    "maze_graph = Graph(maze_data, maze_action_costs)\n",
    "maze_graph.nodes()"
   ]
  },
  {
   "cell_type": "code",
   "execution_count": 27,
   "id": "120cc1d3",
   "metadata": {},
   "outputs": [
    {
     "data": {
      "text/plain": [
       "{'N2': 1}"
      ]
     },
     "execution_count": 27,
     "metadata": {},
     "output_type": "execute_result"
    }
   ],
   "source": [
    "maze_graph.get('N1')"
   ]
  },
  {
   "cell_type": "code",
   "execution_count": 28,
   "id": "02a00fd1",
   "metadata": {},
   "outputs": [
    {
     "data": {
      "text/plain": [
       "1"
      ]
     },
     "execution_count": 28,
     "metadata": {},
     "output_type": "execute_result"
    }
   ],
   "source": [
    "maze_graph.get('N1', 'N2') # All actions cost 1"
   ]
  },
  {
   "cell_type": "markdown",
   "id": "fb3d3fb3",
   "metadata": {},
   "source": [
    "## Create Network"
   ]
  },
  {
   "cell_type": "code",
   "execution_count": 29,
   "id": "5c34d6bc",
   "metadata": {},
   "outputs": [],
   "source": [
    "from pyvis.network import Network\n",
    "\n",
    "net = Network( heading=\"Lab 3 - Task 2: Maze problem\",\n",
    "                bgcolor =\"#242020\",\n",
    "                font_color = \"white\",\n",
    "                height = \"750px\",\n",
    "                width = \"100%\",\n",
    "                directed=True\n",
    ")"
   ]
  },
  {
   "cell_type": "code",
   "execution_count": 30,
   "id": "8d4d5968",
   "metadata": {},
   "outputs": [],
   "source": [
    "node_coords = {\n",
    "  'N1': (-500, 500),\n",
    "  'N2': (0, 500),\n",
    "  'N3': (500, 500),\n",
    "  'N4': (-500, 350),\n",
    "  'N5': (-300, 350),\n",
    "  'N6': (0, 350),\n",
    "  'N7': (300, 350),\n",
    "  'N8': (500, 350),\n",
    "  'N9': (-300, 175),\n",
    "  'N10': (-100, 175),\n",
    "  'N11': (100, 175),\n",
    "  'N12': (300, 175),\n",
    "  'N13': (-300, 0),\n",
    "  'N14': (0, 0),\n",
    "  'N15': (300, 0),\n",
    "  'N16': (-300, -175),\n",
    "  'N17': (-150, -175),\n",
    "  'N18': (150, -175),\n",
    "  'N19': (300, -175),\n",
    "  'N20': (-300, -350),\n",
    "  'N21': (300, -350),\n",
    "  'N22': (-500, -500),\n",
    "  'N23': (-150, -500),\n",
    "  'N24': (0, -500),\n",
    "  'N25': (150, -500),\n",
    "  'N26': (500, -500),\n",
    "}\n",
    "\n",
    "for node in maze_graph.nodes():\n",
    "  x, y = node_coords[node]\n",
    "  net.add_node(node, str(node), x=x, y=y, fixed=True)"
   ]
  },
  {
   "cell_type": "code",
   "execution_count": 31,
   "id": "6957818e",
   "metadata": {},
   "outputs": [],
   "source": [
    "nodeColors={\n",
    "    \"start\":\"red\",\n",
    "    \"end\": \"green\",\n",
    "    \"frontier\": \"orange\",\n",
    "    \"expanded\":\"pink\"\n",
    "}"
   ]
  },
  {
   "cell_type": "code",
   "execution_count": 32,
   "id": "ada41c10",
   "metadata": {},
   "outputs": [],
   "source": [
    "for node in net.nodes:\n",
    "    if node['id']=='N1':\n",
    "        node[\"color\"]=nodeColors[\"start\"]\n",
    "    elif node['id']=='N26':\n",
    "        node[\"color\"]=nodeColors[\"end\"]"
   ]
  },
  {
   "cell_type": "code",
   "execution_count": 33,
   "id": "89c6d974",
   "metadata": {},
   "outputs": [
    {
     "data": {
      "text/plain": [
       "{'N1': {'N2': 1},\n",
       " 'N2': {'N3': 1, 'N6': 1},\n",
       " 'N3': {},\n",
       " 'N4': {},\n",
       " 'N5': {'N4': 1, 'N9': 1},\n",
       " 'N6': {'N5': 1, 'N7': 1},\n",
       " 'N7': {'N8': 1, 'N12': 1},\n",
       " 'N8': {},\n",
       " 'N9': {'N10': 1, 'N13': 1},\n",
       " 'N10': {},\n",
       " 'N11': {},\n",
       " 'N12': {'N11': 1, 'N15': 1},\n",
       " 'N13': {'N14': 1, 'N16': 1},\n",
       " 'N14': {'N24': 1},\n",
       " 'N15': {'N14': 1, 'N19': 1},\n",
       " 'N16': {'N17': 1, 'N20': 1},\n",
       " 'N17': {'N23': 1},\n",
       " 'N18': {'N25': 1},\n",
       " 'N19': {'N18': 1, 'N21': 1},\n",
       " 'N20': {},\n",
       " 'N21': {},\n",
       " 'N22': {},\n",
       " 'N23': {'N22': 1, 'N24': 1},\n",
       " 'N24': {'N25': 1},\n",
       " 'N25': {'N26': 1},\n",
       " 'N26': {}}"
      ]
     },
     "execution_count": 33,
     "metadata": {},
     "output_type": "execute_result"
    }
   ],
   "source": [
    "maze_graph.graph_dict"
   ]
  },
  {
   "cell_type": "code",
   "execution_count": 34,
   "id": "ec976c48",
   "metadata": {},
   "outputs": [],
   "source": [
    "edges=[]\n",
    "edges_labels=[]\n",
    "\n",
    "for node_source in maze_graph.nodes():\n",
    "    for node_target, dist in maze_graph.get(node_source).items():\n",
    "        if set((node_source,node_target)) not in edges:\n",
    "            net.add_edge(node_source,node_target, label=str(dist))\n",
    "            edges.append(set((node_source,node_target))) # Convert for same reason as above\n",
    "            edges_labels.append(str(dist))"
   ]
  },
  {
   "cell_type": "code",
   "execution_count": 35,
   "id": "a576c0fe",
   "metadata": {},
   "outputs": [
    {
     "data": {
      "text/plain": [
       "['1', '1', '1', '1', '1']"
      ]
     },
     "execution_count": 35,
     "metadata": {},
     "output_type": "execute_result"
    }
   ],
   "source": [
    "edges_labels[:5]"
   ]
  },
  {
   "cell_type": "code",
   "execution_count": 36,
   "id": "757b7585",
   "metadata": {},
   "outputs": [
    {
     "data": {
      "text/plain": [
       "[{'N1', 'N2'}, {'N2', 'N3'}, {'N2', 'N6'}, {'N4', 'N5'}, {'N5', 'N9'}]"
      ]
     },
     "execution_count": 36,
     "metadata": {},
     "output_type": "execute_result"
    }
   ],
   "source": [
    "edges[:5]"
   ]
  },
  {
   "cell_type": "code",
   "execution_count": 37,
   "id": "6eee7252",
   "metadata": {},
   "outputs": [
    {
     "data": {
      "text/plain": [
       "[{'label': '1', 'from': 'N1', 'to': 'N2', 'arrows': 'to'},\n",
       " {'label': '1', 'from': 'N2', 'to': 'N3', 'arrows': 'to'},\n",
       " {'label': '1', 'from': 'N2', 'to': 'N6', 'arrows': 'to'},\n",
       " {'label': '1', 'from': 'N5', 'to': 'N4', 'arrows': 'to'},\n",
       " {'label': '1', 'from': 'N5', 'to': 'N9', 'arrows': 'to'},\n",
       " {'label': '1', 'from': 'N6', 'to': 'N5', 'arrows': 'to'},\n",
       " {'label': '1', 'from': 'N6', 'to': 'N7', 'arrows': 'to'},\n",
       " {'label': '1', 'from': 'N7', 'to': 'N8', 'arrows': 'to'},\n",
       " {'label': '1', 'from': 'N7', 'to': 'N12', 'arrows': 'to'},\n",
       " {'label': '1', 'from': 'N9', 'to': 'N10', 'arrows': 'to'},\n",
       " {'label': '1', 'from': 'N9', 'to': 'N13', 'arrows': 'to'},\n",
       " {'label': '1', 'from': 'N12', 'to': 'N11', 'arrows': 'to'},\n",
       " {'label': '1', 'from': 'N12', 'to': 'N15', 'arrows': 'to'},\n",
       " {'label': '1', 'from': 'N13', 'to': 'N14', 'arrows': 'to'},\n",
       " {'label': '1', 'from': 'N13', 'to': 'N16', 'arrows': 'to'},\n",
       " {'label': '1', 'from': 'N14', 'to': 'N24', 'arrows': 'to'},\n",
       " {'label': '1', 'from': 'N15', 'to': 'N14', 'arrows': 'to'},\n",
       " {'label': '1', 'from': 'N15', 'to': 'N19', 'arrows': 'to'},\n",
       " {'label': '1', 'from': 'N16', 'to': 'N17', 'arrows': 'to'},\n",
       " {'label': '1', 'from': 'N16', 'to': 'N20', 'arrows': 'to'},\n",
       " {'label': '1', 'from': 'N17', 'to': 'N23', 'arrows': 'to'},\n",
       " {'label': '1', 'from': 'N18', 'to': 'N25', 'arrows': 'to'},\n",
       " {'label': '1', 'from': 'N19', 'to': 'N18', 'arrows': 'to'},\n",
       " {'label': '1', 'from': 'N19', 'to': 'N21', 'arrows': 'to'},\n",
       " {'label': '1', 'from': 'N23', 'to': 'N22', 'arrows': 'to'},\n",
       " {'label': '1', 'from': 'N23', 'to': 'N24', 'arrows': 'to'},\n",
       " {'label': '1', 'from': 'N24', 'to': 'N25', 'arrows': 'to'},\n",
       " {'label': '1', 'from': 'N25', 'to': 'N26', 'arrows': 'to'}]"
      ]
     },
     "execution_count": 37,
     "metadata": {},
     "output_type": "execute_result"
    }
   ],
   "source": [
    "net.edges"
   ]
  },
  {
   "cell_type": "code",
   "execution_count": 38,
   "id": "29fd73a0",
   "metadata": {},
   "outputs": [
    {
     "name": "stdout",
     "output_type": "stream",
     "text": [
      "mazeGraph.html\n"
     ]
    }
   ],
   "source": [
    "net.show(\"mazeGraph.html\", notebook=False)"
   ]
  },
  {
   "cell_type": "markdown",
   "id": "d1b99eda",
   "metadata": {},
   "source": [
    "## Search Part"
   ]
  },
  {
   "cell_type": "code",
   "execution_count": 39,
   "id": "e037bfe9",
   "metadata": {},
   "outputs": [],
   "source": [
    "init_state = 'N1'\n",
    "goal_state = 'N26'"
   ]
  },
  {
   "cell_type": "code",
   "execution_count": 40,
   "id": "84bb3ef8",
   "metadata": {},
   "outputs": [],
   "source": [
    "from src.graphProblemClass import GraphProblem\n",
    "\n",
    "maze_problem = GraphProblem(init_state, goal_state, maze_graph)"
   ]
  },
  {
   "cell_type": "markdown",
   "id": "cb1118f4",
   "metadata": {},
   "source": [
    "#### Test problem"
   ]
  },
  {
   "cell_type": "code",
   "execution_count": 41,
   "id": "561d03b8",
   "metadata": {},
   "outputs": [
    {
     "data": {
      "text/plain": [
       "['Advance']"
      ]
     },
     "execution_count": 41,
     "metadata": {},
     "output_type": "execute_result"
    }
   ],
   "source": [
    "maze_problem.actions(init_state)"
   ]
  },
  {
   "cell_type": "code",
   "execution_count": 42,
   "id": "1b7c7e43",
   "metadata": {},
   "outputs": [
    {
     "data": {
      "text/plain": [
       "'N2'"
      ]
     },
     "execution_count": 42,
     "metadata": {},
     "output_type": "execute_result"
    }
   ],
   "source": [
    "maze_problem.result(init_state, \"Advance\")"
   ]
  },
  {
   "cell_type": "markdown",
   "id": "ae7c684d",
   "metadata": {},
   "source": [
    "## Create Agent"
   ]
  },
  {
   "cell_type": "code",
   "execution_count": 43,
   "id": "0dbabd6d",
   "metadata": {},
   "outputs": [
    {
     "name": "stdout",
     "output_type": "stream",
     "text": [
      "['N7', 'N17', 'N15', 'N15']\n",
      "N1\n"
     ]
    }
   ],
   "source": [
    "from src.agents import ProblemSolvingMazeAgentBFS\n",
    "from data.mazeData import treasure_states\n",
    "import random\n",
    "\n",
    "# Choose 4 random treasure states as possible goals\n",
    "goals = random.choices(treasure_states, k=4)\n",
    "\n",
    "bfsMazeAgent = ProblemSolvingMazeAgentBFS(init_state, maze_graph, goals, goal_state)\n",
    "print(goals)\n",
    "print(bfsMazeAgent.state)"
   ]
  },
  {
   "cell_type": "code",
   "execution_count": 44,
   "id": "8c24eaee",
   "metadata": {},
   "outputs": [
    {
     "data": {
      "text/plain": [
       "['N15', 'N26']"
      ]
     },
     "execution_count": 44,
     "metadata": {},
     "output_type": "execute_result"
    }
   ],
   "source": [
    "bfsMazeAgent.formulate_goal(bfsMazeAgent.state) # Chooses a random treasure and the end as goals"
   ]
  },
  {
   "cell_type": "code",
   "execution_count": 45,
   "id": "acaeabcc",
   "metadata": {},
   "outputs": [
    {
     "name": "stdout",
     "output_type": "stream",
     "text": [
      "goal list: ['N15', 'N26']\n",
      "current goal: N15\n",
      "<Node N1>\n",
      "<Node N2>\n",
      "<Node N3>\n",
      "<Node N6>\n",
      "<Node N5>\n",
      "<Node N4>\n",
      "<Node N7>\n",
      "<Node N12>\n",
      "<Node N11>\n",
      "<Node N15>\n",
      "Solution (a sequence of actions) from the selected state to a goal: ['Advance', 'Left', 'Right', 'Left', 'Advance']\n",
      "goal list: ['N26']\n",
      "current goal: N26\n",
      "<Node N15>\n",
      "<Node N14>\n",
      "<Node N19>\n",
      "<Node N18>\n",
      "<Node N21>\n",
      "<Node N24>\n",
      "<Node N25>\n",
      "<Node N26>\n",
      "Solution (a sequence of actions) from the selected state to a goal: ['Advance', 'Left', 'Right', 'Advance']\n",
      "goal list: []\n"
     ]
    },
    {
     "data": {
      "text/plain": [
       "['Advance',\n",
       " 'Left',\n",
       " 'Right',\n",
       " 'Left',\n",
       " 'Advance',\n",
       " 'Advance',\n",
       " 'Left',\n",
       " 'Right',\n",
       " 'Advance']"
      ]
     },
     "execution_count": 45,
     "metadata": {},
     "output_type": "execute_result"
    }
   ],
   "source": [
    "bfsMazeAgent = ProblemSolvingMazeAgentBFS(init_state, maze_graph, goals, goal_state)\n",
    "bfsMazeAgent.run()"
   ]
  },
  {
   "cell_type": "markdown",
   "id": "82178494",
   "metadata": {},
   "source": [
    "## Add environment"
   ]
  },
  {
   "cell_type": "code",
   "execution_count": 46,
   "id": "81280adb",
   "metadata": {},
   "outputs": [
    {
     "data": {
      "text/plain": [
       "{'N1': {'N2': 1},\n",
       " 'N2': {'N3': 1, 'N6': 1},\n",
       " 'N3': {},\n",
       " 'N4': {},\n",
       " 'N5': {'N4': 1, 'N9': 1},\n",
       " 'N6': {'N5': 1, 'N7': 1},\n",
       " 'N7': {'N8': 1, 'N12': 1},\n",
       " 'N8': {},\n",
       " 'N9': {'N10': 1, 'N13': 1},\n",
       " 'N10': {},\n",
       " 'N11': {},\n",
       " 'N12': {'N11': 1, 'N15': 1},\n",
       " 'N13': {'N14': 1, 'N16': 1},\n",
       " 'N14': {'N24': 1},\n",
       " 'N15': {'N14': 1, 'N19': 1},\n",
       " 'N16': {'N17': 1, 'N20': 1},\n",
       " 'N17': {'N23': 1},\n",
       " 'N18': {'N25': 1},\n",
       " 'N19': {'N18': 1, 'N21': 1},\n",
       " 'N20': {},\n",
       " 'N21': {},\n",
       " 'N22': {},\n",
       " 'N23': {'N22': 1, 'N24': 1},\n",
       " 'N24': {'N25': 1},\n",
       " 'N25': {'N26': 1},\n",
       " 'N26': {}}"
      ]
     },
     "execution_count": 46,
     "metadata": {},
     "output_type": "execute_result"
    }
   ],
   "source": [
    "from src.task2.MazeEnvironment import MazeEnvironment\n",
    "\n",
    "environment = MazeEnvironment(maze_graph)\n",
    "\n",
    "environment.status.graph_dict"
   ]
  },
  {
   "cell_type": "code",
   "execution_count": 47,
   "id": "edbfcc1b",
   "metadata": {},
   "outputs": [
    {
     "name": "stdout",
     "output_type": "stream",
     "text": [
      "goal list: ['N15', 'N26']\n",
      "current goal: N15\n",
      "<Node N1>\n",
      "<Node N2>\n",
      "<Node N3>\n",
      "<Node N6>\n",
      "<Node N5>\n",
      "<Node N4>\n",
      "<Node N7>\n",
      "<Node N12>\n",
      "<Node N11>\n",
      "<Node N15>\n",
      "Solution (a sequence of actions) from the selected state to a goal: ['Advance', 'Left', 'Right', 'Left', 'Advance']\n",
      "goal list: ['N26']\n",
      "current goal: N26\n",
      "<Node N15>\n",
      "<Node N14>\n",
      "<Node N19>\n",
      "<Node N18>\n",
      "<Node N21>\n",
      "<Node N24>\n",
      "<Node N25>\n",
      "<Node N26>\n",
      "Solution (a sequence of actions) from the selected state to a goal: ['Advance', 'Left', 'Right', 'Advance']\n",
      "goal list: []\n",
      "The Agent in N1 with performance 13\n"
     ]
    }
   ],
   "source": [
    "bfsMazeAgent = ProblemSolvingMazeAgentBFS(init_state, maze_graph, goals, goal_state)\n",
    "\n",
    "environment.add_thing(bfsMazeAgent)"
   ]
  },
  {
   "cell_type": "code",
   "execution_count": 48,
   "id": "79a58455",
   "metadata": {},
   "outputs": [
    {
     "name": "stdout",
     "output_type": "stream",
     "text": [
      "step 1:\n",
      "Agent decided to do Advance.\n",
      "Agent in N2 with performance = 12\n",
      "step 2:\n",
      "Agent decided to do Left.\n",
      "Agent in N6 with performance = 11\n",
      "step 3:\n",
      "Agent decided to do Right.\n",
      "Agent in N7 with performance = 10\n",
      "step 4:\n",
      "Agent decided to do Left.\n",
      "Agent in N12 with performance = 9\n",
      "step 5:\n",
      "Agent decided to do Advance.\n",
      "Agent in N15 with performance = 8\n",
      "step 6:\n",
      "Agent decided to do Advance.\n",
      "Agent in N19 with performance = 7\n",
      "step 7:\n",
      "Agent decided to do Left.\n",
      "Agent in N18 with performance = 6\n",
      "step 8:\n",
      "Agent decided to do Right.\n",
      "Agent in N25 with performance = 5\n",
      "step 9:\n",
      "Agent decided to do Advance.\n",
      "Agent in N26 with performance = 4\n",
      "Agent reached all goals\n"
     ]
    }
   ],
   "source": [
    "environment.run(50)"
   ]
  }
 ],
 "metadata": {
  "kernelspec": {
   "display_name": ".venv",
   "language": "python",
   "name": "python3"
  },
  "language_info": {
   "codemirror_mode": {
    "name": "ipython",
    "version": 3
   },
   "file_extension": ".py",
   "mimetype": "text/x-python",
   "name": "python",
   "nbconvert_exporter": "python",
   "pygments_lexer": "ipython3",
   "version": "3.13.8"
  }
 },
 "nbformat": 4,
 "nbformat_minor": 5
}

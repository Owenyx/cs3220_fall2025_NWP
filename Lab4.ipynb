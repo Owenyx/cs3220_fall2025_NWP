{
 "cells": [
  {
   "cell_type": "markdown",
   "id": "00cec591",
   "metadata": {},
   "source": [
    "### Create Maze"
   ]
  },
  {
   "cell_type": "code",
   "execution_count": 10,
   "id": "9014c252",
   "metadata": {},
   "outputs": [
    {
     "data": {
      "text/plain": [
       "array([[0, 1, 0, 0, 0, 0, 0],\n",
       "       [1, 2, 0, 0, 0, 0, 0],\n",
       "       [0, 1, 0, 1, 2, 0, 1],\n",
       "       [2, 0, 0, 0, 0, 2, 2],\n",
       "       [2, 0, 0, 1, 2, 1, 1],\n",
       "       [0, 0, 1, 0, 0, 0, 1],\n",
       "       [2, 0, 0, 0, 0, 0, 1]])"
      ]
     },
     "execution_count": 10,
     "metadata": {},
     "output_type": "execute_result"
    }
   ],
   "source": [
    "from src.mazeData import makeMaze\n",
    "\n",
    "n=7\n",
    "\n",
    "maze=makeMaze(n)\n",
    "maze"
   ]
  },
  {
   "cell_type": "markdown",
   "id": "56ca283c",
   "metadata": {},
   "source": [
    "### Create Transition Model"
   ]
  },
  {
   "cell_type": "code",
   "execution_count": 11,
   "id": "dae0e86c",
   "metadata": {},
   "outputs": [
    {
     "data": {
      "text/plain": [
       "{(0, 0): {},\n",
       " (0, 1): {},\n",
       " (0, 2): {2: (0, 3), 3: (1, 2)},\n",
       " (0, 3): {0: (0, 2), 2: (0, 4), 3: (1, 3)},\n",
       " (0, 4): {0: (0, 3), 2: (0, 5), 3: (1, 4)},\n",
       " (0, 5): {0: (0, 4), 2: (0, 6), 3: (1, 5)},\n",
       " (0, 6): {0: (0, 5), 3: (1, 6)},\n",
       " (1, 0): {},\n",
       " (1, 1): {2: (1, 2)},\n",
       " (1, 2): {0: (1, 1), 1: (0, 2), 2: (1, 3), 3: (2, 2)},\n",
       " (1, 3): {0: (1, 2), 1: (0, 3), 2: (1, 4)},\n",
       " (1, 4): {0: (1, 3), 1: (0, 4), 2: (1, 5), 3: (2, 4)},\n",
       " (1, 5): {0: (1, 4), 1: (0, 5), 2: (1, 6), 3: (2, 5)},\n",
       " (1, 6): {0: (1, 5), 1: (0, 6)},\n",
       " (2, 0): {3: (3, 0)},\n",
       " (2, 1): {},\n",
       " (2, 2): {1: (1, 2), 3: (3, 2)},\n",
       " (2, 3): {},\n",
       " (2, 4): {1: (1, 4), 2: (2, 5), 3: (3, 4)},\n",
       " (2, 5): {0: (2, 4), 1: (1, 5), 3: (3, 5)},\n",
       " (2, 6): {},\n",
       " (3, 0): {1: (2, 0), 2: (3, 1), 3: (4, 0)},\n",
       " (3, 1): {0: (3, 0), 2: (3, 2), 3: (4, 1)},\n",
       " (3, 2): {0: (3, 1), 1: (2, 2), 2: (3, 3), 3: (4, 2)},\n",
       " (3, 3): {0: (3, 2), 2: (3, 4)},\n",
       " (3, 4): {0: (3, 3), 1: (2, 4), 2: (3, 5), 3: (4, 4)},\n",
       " (3, 5): {0: (3, 4), 1: (2, 5), 2: (3, 6)},\n",
       " (3, 6): {0: (3, 5)},\n",
       " (4, 0): {1: (3, 0), 2: (4, 1), 3: (5, 0)},\n",
       " (4, 1): {0: (4, 0), 1: (3, 1), 2: (4, 2), 3: (5, 1)},\n",
       " (4, 2): {0: (4, 1), 1: (3, 2)},\n",
       " (4, 3): {},\n",
       " (4, 4): {1: (3, 4), 3: (5, 4)},\n",
       " (4, 5): {},\n",
       " (4, 6): {},\n",
       " (5, 0): {1: (4, 0), 2: (5, 1), 3: (6, 0)},\n",
       " (5, 1): {0: (5, 0), 1: (4, 1), 3: (6, 1)},\n",
       " (5, 2): {},\n",
       " (5, 3): {2: (5, 4), 3: (6, 3)},\n",
       " (5, 4): {0: (5, 3), 1: (4, 4), 2: (5, 5), 3: (6, 4)},\n",
       " (5, 5): {0: (5, 4), 3: (6, 5)},\n",
       " (5, 6): {},\n",
       " (6, 0): {1: (5, 0), 2: (6, 1)},\n",
       " (6, 1): {0: (6, 0), 1: (5, 1), 2: (6, 2)},\n",
       " (6, 2): {0: (6, 1), 2: (6, 3)},\n",
       " (6, 3): {0: (6, 2), 1: (5, 3), 2: (6, 4)},\n",
       " (6, 4): {0: (6, 3), 1: (5, 4), 2: (6, 5)},\n",
       " (6, 5): {0: (6, 4), 1: (5, 5)},\n",
       " (6, 6): {}}"
      ]
     },
     "execution_count": 11,
     "metadata": {},
     "output_type": "execute_result"
    }
   ],
   "source": [
    "from src.mazeData import defineMazeAvailableActions\n",
    "from src.mazeData import makeMazeTransformationModel\n",
    "\n",
    "mazeAvalActs = defineMazeAvailableActions(maze)\n",
    "\n",
    "mazeTM = makeMazeTransformationModel(mazeAvalActs) \n",
    "mazeTM"
   ]
  },
  {
   "cell_type": "markdown",
   "id": "dfc4ce80",
   "metadata": {},
   "source": [
    "### Create Maze Graph"
   ]
  },
  {
   "cell_type": "code",
   "execution_count": 12,
   "id": "c09aa06f",
   "metadata": {},
   "outputs": [],
   "source": [
    "from src.maze2025GraphClass import mazeGraph\n",
    "from src.mazeData import mazeStatesLocations\n",
    "\n",
    "mazeWorldGraph = mazeGraph(mazeTM, mazeStatesLocations(list(mazeTM.keys())))"
   ]
  },
  {
   "cell_type": "markdown",
   "id": "74e81421",
   "metadata": {},
   "source": [
    "### Randomly Select Start and End nodes"
   ]
  },
  {
   "cell_type": "code",
   "execution_count": 13,
   "id": "53aaed78",
   "metadata": {},
   "outputs": [],
   "source": [
    "import random\n",
    "\n",
    "init = random.choice(mazeWorldGraph.nodes())\n",
    "goal = random.choice(mazeWorldGraph.nodes())\n",
    "\n",
    "# Choose goal again if same as init\n",
    "while init == goal:\n",
    "    goal = random.choice(mazeWorldGraph.nodes())"
   ]
  },
  {
   "cell_type": "markdown",
   "id": "372e0415",
   "metadata": {},
   "source": [
    "### Visualize Graph"
   ]
  },
  {
   "cell_type": "markdown",
   "id": "abd2c64c",
   "metadata": {},
   "source": [
    "Initialize Network"
   ]
  },
  {
   "cell_type": "code",
   "execution_count": 14,
   "id": "117673d5",
   "metadata": {},
   "outputs": [],
   "source": [
    "from pyvis.network import Network \n",
    "\n",
    "net_maze = Network( heading=\"Lab4. Examples of Maze World Problem\",\n",
    "                bgcolor =\"#242020\",\n",
    "                font_color = \"white\",\n",
    "                height = \"750px\",\n",
    "                width = \"100%\",\n",
    "                directed=True\n",
    ")\n",
    "\n",
    "# Disable physics\n",
    "net_maze.toggle_physics(False)"
   ]
  },
  {
   "cell_type": "markdown",
   "id": "2f4e2bac",
   "metadata": {},
   "source": [
    "Set up colours"
   ]
  },
  {
   "cell_type": "code",
   "execution_count": 15,
   "id": "eda89091",
   "metadata": {},
   "outputs": [],
   "source": [
    "nodeColors={\n",
    "    \"path\": \"white\",\n",
    "    \"wall\": \"red\",\n",
    "    \"enemy\": \"violet\",\n",
    "    \"init\": \"green\",\n",
    "    \"goal\": \"gold\"\n",
    "}\n",
    "\n",
    "nodeColorsList=[]\n",
    "\n",
    "for node in mazeWorldGraph.origin.keys():\n",
    "    if node == init:\n",
    "        nodeColorsList.append(nodeColors[\"init\"])\n",
    "    elif node == goal:\n",
    "        nodeColorsList.append(nodeColors[\"goal\"])\n",
    "    elif maze[node[0],node[1]] == 0:\n",
    "        nodeColorsList.append(nodeColors[\"path\"])\n",
    "    elif maze[node[0],node[1]] == 1:\n",
    "        nodeColorsList.append(nodeColors[\"wall\"])\n",
    "    else:\n",
    "        nodeColorsList.append(nodeColors[\"enemy\"])"
   ]
  },
  {
   "cell_type": "markdown",
   "id": "89a82e5b",
   "metadata": {},
   "source": [
    "Add nodes"
   ]
  },
  {
   "cell_type": "code",
   "execution_count": 16,
   "id": "5eb22a79",
   "metadata": {},
   "outputs": [
    {
     "name": "stdout",
     "output_type": "stream",
     "text": [
      "[0, 150, 300, 450, 600, 750, 900, 0, 150, 300, 450, 600, 750, 900, 0, 150, 300, 450, 600, 750, 900, 0, 150, 300, 450, 600, 750, 900, 0, 150, 300, 450, 600, 750, 900, 0, 150, 300, 450, 600, 750, 900, 0, 150, 300, 450, 600, 750, 900]\n",
      "[0, 0, 0, 0, 0, 0, 0, 150, 150, 150, 150, 150, 150, 150, 300, 300, 300, 300, 300, 300, 300, 450, 450, 450, 450, 450, 450, 450, 600, 600, 600, 600, 600, 600, 600, 750, 750, 750, 750, 750, 750, 750, 900, 900, 900, 900, 900, 900, 900]\n"
     ]
    }
   ],
   "source": [
    "# Needed since pyvis does not take tuples as dict keys\n",
    "nodes=[\"-\".join(str(item) for item in el) for el in mazeWorldGraph.origin.keys()]\n",
    "nodes\n",
    "\n",
    "x_coords = []\n",
    "y_coords = []\n",
    "\n",
    "for node in mazeWorldGraph.origin.keys():\n",
    "    x,y=mazeWorldGraph.getLocation(node)\n",
    "    x_coords.append(x)\n",
    "    y_coords.append(y)\n",
    "\n",
    "print(x_coords)   \n",
    "print(y_coords)\n",
    "\n",
    "sizes=[10]*len(nodes)\n",
    "sizes\n",
    "\n",
    "#hidden labels, and hover titles\n",
    "net_maze.add_nodes(nodes, color=nodeColorsList, x=x_coords, y=y_coords, size=sizes, title=nodes)\n",
    "\n",
    "for node in net_maze.nodes:\n",
    "    node['label']='' # Hide labels"
   ]
  },
  {
   "cell_type": "markdown",
   "id": "95ae684b",
   "metadata": {},
   "source": [
    "Add edges"
   ]
  },
  {
   "cell_type": "code",
   "execution_count": 17,
   "id": "635fa39d",
   "metadata": {},
   "outputs": [],
   "source": [
    "from src.mazeData import intTupleTostr\n",
    "\n",
    "actions_dict = {\n",
    "    0: \"Left\",\n",
    "    1: \"Up\",\n",
    "    2: \"Right\",\n",
    "    3: \"Down\"\n",
    "}\n",
    "\n",
    "edge_weights = {(intTupleTostr(k), intTupleTostr(v2)) : actions_dict[k2] for k, v in mazeWorldGraph.origin.items() for k2, v2 in v.items()} # actions\n",
    "\n",
    "edges=[]\n",
    "\n",
    "for node_source in mazeWorldGraph.nodes():\n",
    "    for node_target, action in mazeWorldGraph.get(node_source).items():\n",
    "        #node_target or node_source is a tuple -> convert to str\n",
    "        src = intTupleTostr(node_source)\n",
    "        tgt = intTupleTostr(node_target)\n",
    "\n",
    "        if (src,tgt) not in edges and (tgt, src):\n",
    "            net_maze.add_edge(\n",
    "                src,\n",
    "                tgt, \n",
    "                label=edge_weights[(src,tgt)],\n",
    "                smooth={\"type\": \"curvedCW\", \"roundness\": 0.2}  # Make edge curved\n",
    "            )\n",
    "\n",
    "            edges.append((src,tgt))"
   ]
  },
  {
   "cell_type": "markdown",
   "id": "5c465446",
   "metadata": {},
   "source": [
    "Show Graph"
   ]
  },
  {
   "cell_type": "code",
   "execution_count": 18,
   "id": "b26fe4a1",
   "metadata": {},
   "outputs": [
    {
     "name": "stdout",
     "output_type": "stream",
     "text": [
      "graphMaze1.html\n"
     ]
    }
   ],
   "source": [
    "net_maze.show(\"graphMaze1.html\", notebook=False)"
   ]
  },
  {
   "cell_type": "markdown",
   "id": "abe0e8f9",
   "metadata": {},
   "source": [
    "### Create Agents"
   ]
  },
  {
   "cell_type": "code",
   "execution_count": null,
   "id": "3a1980f8",
   "metadata": {},
   "outputs": [],
   "source": [
    "from src.agents import ProblemSolvingSatelliteAgentBFS\n",
    "\n",
    "BFS_MazeAgent=ProblemSolvingSatelliteAgentBFS(init, mazeWorldGraph, goal)\n"
   ]
  }
 ],
 "metadata": {
  "language_info": {
   "name": "python"
  }
 },
 "nbformat": 4,
 "nbformat_minor": 5
}

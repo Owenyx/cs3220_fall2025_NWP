{
 "cells": [
  {
   "cell_type": "markdown",
   "id": "974e6d1b",
   "metadata": {},
   "source": [
    "# L4. Uninformed Search Strategies "
   ]
  },
  {
   "cell_type": "markdown",
   "id": "b3539f15",
   "metadata": {},
   "source": [
    "OR you can develop your own simple Maze generator (as we are going to do).\n",
    "\n",
    "The `maze` can be represented as a `2D array`, where:\n",
    "* 0 represents a wall , \n",
    "* and 1 represents an open path.\n",
    "* We can change if want"
   ]
  },
  {
   "cell_type": "code",
   "execution_count": 8,
   "id": "f02afbf6",
   "metadata": {},
   "outputs": [],
   "source": [
    "n=7"
   ]
  },
  {
   "cell_type": "code",
   "execution_count": 9,
   "id": "5a687d58",
   "metadata": {},
   "outputs": [],
   "source": [
    "from src.mazeData import makeMaze"
   ]
  },
  {
   "cell_type": "code",
   "execution_count": 10,
   "id": "22f9a691",
   "metadata": {},
   "outputs": [
    {
     "data": {
      "text/plain": [
       "array([[1, 1, 1, 1, 0, 1, 0],\n",
       "       [1, 1, 0, 1, 0, 1, 1],\n",
       "       [1, 1, 1, 0, 0, 1, 1],\n",
       "       [1, 1, 1, 1, 0, 1, 1],\n",
       "       [0, 0, 0, 1, 1, 1, 1],\n",
       "       [1, 0, 1, 1, 1, 1, 1],\n",
       "       [1, 1, 1, 1, 1, 1, 0]])"
      ]
     },
     "execution_count": 10,
     "metadata": {},
     "output_type": "execute_result"
    }
   ],
   "source": [
    "maze1=makeMaze(n)\n",
    "maze1"
   ]
  },
  {
   "cell_type": "code",
   "execution_count": 64,
   "id": "9e5208a2",
   "metadata": {},
   "outputs": [],
   "source": [
    "from src.mazeData import defineMazeActions"
   ]
  },
  {
   "cell_type": "code",
   "execution_count": 65,
   "id": "bdb0341e",
   "metadata": {},
   "outputs": [
    {
     "data": {
      "text/plain": [
       "{(0, 0): ['right', 'down'],\n",
       " (0, 1): ['left', 'right', 'down'],\n",
       " (0, 2): ['left', 'right', 'down'],\n",
       " (0, 3): ['left', 'right', 'down'],\n",
       " (0, 4): ['left', 'right', 'down'],\n",
       " (0, 5): ['left', 'right', 'down'],\n",
       " (0, 6): ['left', 'down'],\n",
       " (1, 0): ['up', 'right', 'down'],\n",
       " (1, 1): ['left', 'up', 'right', 'down'],\n",
       " (1, 2): ['left', 'up', 'right', 'down'],\n",
       " (1, 3): ['left', 'up', 'right', 'down'],\n",
       " (1, 4): ['left', 'up', 'right', 'down'],\n",
       " (1, 5): ['left', 'up', 'right', 'down'],\n",
       " (1, 6): ['left', 'up', 'down'],\n",
       " (2, 0): ['up', 'right', 'down'],\n",
       " (2, 1): ['left', 'up', 'right', 'down'],\n",
       " (2, 2): ['left', 'up', 'right', 'down'],\n",
       " (2, 3): ['left', 'up', 'right', 'down'],\n",
       " (2, 4): ['left', 'up', 'right', 'down'],\n",
       " (2, 5): ['left', 'up', 'right', 'down'],\n",
       " (2, 6): ['left', 'up', 'down'],\n",
       " (3, 0): ['up', 'right', 'down'],\n",
       " (3, 1): ['left', 'up', 'right', 'down'],\n",
       " (3, 2): ['left', 'up', 'right', 'down'],\n",
       " (3, 3): ['left', 'up', 'right', 'down'],\n",
       " (3, 4): ['left', 'up', 'right', 'down'],\n",
       " (3, 5): ['left', 'up', 'right', 'down'],\n",
       " (3, 6): ['left', 'up', 'down'],\n",
       " (4, 0): ['up', 'right', 'down'],\n",
       " (4, 1): ['left', 'up', 'right', 'down'],\n",
       " (4, 2): ['left', 'up', 'right', 'down'],\n",
       " (4, 3): ['left', 'up', 'right', 'down'],\n",
       " (4, 4): ['left', 'up', 'right', 'down'],\n",
       " (4, 5): ['left', 'up', 'right', 'down'],\n",
       " (4, 6): ['left', 'up', 'down'],\n",
       " (5, 0): ['up', 'right', 'down'],\n",
       " (5, 1): ['left', 'up', 'right', 'down'],\n",
       " (5, 2): ['left', 'up', 'right', 'down'],\n",
       " (5, 3): ['left', 'up', 'right', 'down'],\n",
       " (5, 4): ['left', 'up', 'right', 'down'],\n",
       " (5, 5): ['left', 'up', 'right', 'down'],\n",
       " (5, 6): ['left', 'up', 'down'],\n",
       " (6, 0): ['up', 'right'],\n",
       " (6, 1): ['left', 'up', 'right'],\n",
       " (6, 2): ['left', 'up', 'right'],\n",
       " (6, 3): ['left', 'up', 'right'],\n",
       " (6, 4): ['left', 'up', 'right'],\n",
       " (6, 5): ['left', 'up', 'right'],\n",
       " (6, 6): []}"
      ]
     },
     "execution_count": 65,
     "metadata": {},
     "output_type": "execute_result"
    }
   ],
   "source": [
    "mazeALLActs=defineMazeActions(maze1) \n",
    "# All *possible* actions\n",
    "# - Not what we can actually do, which are *available* actions\n",
    "# - Assumes no walls, kind of a heuristic\n",
    "mazeALLActs"
   ]
  },
  {
   "cell_type": "code",
   "execution_count": 13,
   "id": "31803660",
   "metadata": {},
   "outputs": [],
   "source": [
    "from src.mazeData import defineMazeAvailableActions"
   ]
  },
  {
   "cell_type": "code",
   "execution_count": 14,
   "id": "ef8e15c3",
   "metadata": {},
   "outputs": [
    {
     "data": {
      "text/plain": [
       "{(0, 0): ['right', 'down'],\n",
       " (0, 1): ['left', 'right', 'down'],\n",
       " (0, 2): ['left', 'right'],\n",
       " (0, 3): ['left', 'down'],\n",
       " (0, 4): [],\n",
       " (0, 5): ['down'],\n",
       " (0, 6): [],\n",
       " (1, 0): ['up', 'right', 'down'],\n",
       " (1, 1): ['left', 'up', 'down'],\n",
       " (1, 2): [],\n",
       " (1, 3): ['up'],\n",
       " (1, 4): [],\n",
       " (1, 5): ['up', 'right', 'down'],\n",
       " (1, 6): ['left', 'down'],\n",
       " (2, 0): ['up', 'right', 'down'],\n",
       " (2, 1): ['left', 'up', 'right', 'down'],\n",
       " (2, 2): ['left', 'down'],\n",
       " (2, 3): [],\n",
       " (2, 4): [],\n",
       " (2, 5): ['up', 'right', 'down'],\n",
       " (2, 6): ['left', 'up', 'down'],\n",
       " (3, 0): ['up', 'right'],\n",
       " (3, 1): ['left', 'up', 'right'],\n",
       " (3, 2): ['left', 'up', 'right'],\n",
       " (3, 3): ['left', 'down'],\n",
       " (3, 4): [],\n",
       " (3, 5): ['up', 'right', 'down'],\n",
       " (3, 6): ['left', 'up', 'down'],\n",
       " (4, 0): [],\n",
       " (4, 1): [],\n",
       " (4, 2): [],\n",
       " (4, 3): ['up', 'right', 'down'],\n",
       " (4, 4): ['left', 'right', 'down'],\n",
       " (4, 5): ['left', 'up', 'right', 'down'],\n",
       " (4, 6): ['left', 'up', 'down'],\n",
       " (5, 0): ['down'],\n",
       " (5, 1): [],\n",
       " (5, 2): ['right', 'down'],\n",
       " (5, 3): ['left', 'up', 'right', 'down'],\n",
       " (5, 4): ['left', 'up', 'right', 'down'],\n",
       " (5, 5): ['left', 'up', 'right', 'down'],\n",
       " (5, 6): ['left', 'up'],\n",
       " (6, 0): ['up', 'right'],\n",
       " (6, 1): ['left', 'right'],\n",
       " (6, 2): ['left', 'up', 'right'],\n",
       " (6, 3): ['left', 'up', 'right'],\n",
       " (6, 4): ['left', 'up', 'right'],\n",
       " (6, 5): ['left', 'up'],\n",
       " (6, 6): []}"
      ]
     },
     "execution_count": 14,
     "metadata": {},
     "output_type": "execute_result"
    }
   ],
   "source": [
    "mazeAvalActs=defineMazeAvailableActions(maze1)\n",
    "# These actions take walls into account\n",
    "# They are the actions we *can* actually do from each state\n",
    "mazeAvalActs\n",
    "\n",
    "# Can't move if in a wall cell, since it's not possible to even be there\n",
    "# Can't move into a wall cell obviously"
   ]
  },
  {
   "cell_type": "code",
   "execution_count": 15,
   "id": "b9996511",
   "metadata": {},
   "outputs": [
    {
     "data": {
      "text/plain": [
       "array([[1, 1, 1, 1, 0, 1, 0],\n",
       "       [1, 1, 0, 1, 0, 1, 1],\n",
       "       [1, 1, 1, 0, 0, 1, 1],\n",
       "       [1, 1, 1, 1, 0, 1, 1],\n",
       "       [0, 0, 0, 1, 1, 1, 1],\n",
       "       [1, 0, 1, 1, 1, 1, 1],\n",
       "       [1, 1, 1, 1, 1, 1, 0]])"
      ]
     },
     "execution_count": 15,
     "metadata": {},
     "output_type": "execute_result"
    }
   ],
   "source": [
    "maze1"
   ]
  },
  {
   "cell_type": "markdown",
   "id": "34bcb418",
   "metadata": {},
   "source": [
    "Next we need to define the **Transition (Transformation) Model (TM)**\n",
    "\n",
    "Transition Model: Describes what each action does. RESULT(s, a) returns the state that results from performing action \"a\" in state \"s\"."
   ]
  },
  {
   "cell_type": "code",
   "execution_count": 16,
   "id": "96c10f36",
   "metadata": {},
   "outputs": [],
   "source": [
    "from src.mazeData import makeMazeTransformationModel"
   ]
  },
  {
   "cell_type": "markdown",
   "id": "a4984f33",
   "metadata": {},
   "source": [
    "Since the TM describes what each action does the set of available actions is used as a input for it."
   ]
  },
  {
   "cell_type": "code",
   "execution_count": 17,
   "id": "960dd423",
   "metadata": {},
   "outputs": [
    {
     "data": {
      "text/plain": [
       "{(0, 0): {'right': (0, 1), 'down': (1, 0)},\n",
       " (0, 1): {'left': (0, 0), 'right': (0, 2), 'down': (1, 1)},\n",
       " (0, 2): {'left': (0, 1), 'right': (0, 3)},\n",
       " (0, 3): {'left': (0, 2), 'down': (1, 3)},\n",
       " (0, 4): {},\n",
       " (0, 5): {'down': (1, 5)},\n",
       " (0, 6): {},\n",
       " (1, 0): {'up': (0, 0), 'right': (1, 1), 'down': (2, 0)},\n",
       " (1, 1): {'left': (1, 0), 'up': (0, 1), 'down': (2, 1)},\n",
       " (1, 2): {},\n",
       " (1, 3): {'up': (0, 3)},\n",
       " (1, 4): {},\n",
       " (1, 5): {'up': (0, 5), 'right': (1, 6), 'down': (2, 5)},\n",
       " (1, 6): {'left': (1, 5), 'down': (2, 6)},\n",
       " (2, 0): {'up': (1, 0), 'right': (2, 1), 'down': (3, 0)},\n",
       " (2, 1): {'left': (2, 0), 'up': (1, 1), 'right': (2, 2), 'down': (3, 1)},\n",
       " (2, 2): {'left': (2, 1), 'down': (3, 2)},\n",
       " (2, 3): {},\n",
       " (2, 4): {},\n",
       " (2, 5): {'up': (1, 5), 'right': (2, 6), 'down': (3, 5)},\n",
       " (2, 6): {'left': (2, 5), 'up': (1, 6), 'down': (3, 6)},\n",
       " (3, 0): {'up': (2, 0), 'right': (3, 1)},\n",
       " (3, 1): {'left': (3, 0), 'up': (2, 1), 'right': (3, 2)},\n",
       " (3, 2): {'left': (3, 1), 'up': (2, 2), 'right': (3, 3)},\n",
       " (3, 3): {'left': (3, 2), 'down': (4, 3)},\n",
       " (3, 4): {},\n",
       " (3, 5): {'up': (2, 5), 'right': (3, 6), 'down': (4, 5)},\n",
       " (3, 6): {'left': (3, 5), 'up': (2, 6), 'down': (4, 6)},\n",
       " (4, 0): {},\n",
       " (4, 1): {},\n",
       " (4, 2): {},\n",
       " (4, 3): {'up': (3, 3), 'right': (4, 4), 'down': (5, 3)},\n",
       " (4, 4): {'left': (4, 3), 'right': (4, 5), 'down': (5, 4)},\n",
       " (4, 5): {'left': (4, 4), 'up': (3, 5), 'right': (4, 6), 'down': (5, 5)},\n",
       " (4, 6): {'left': (4, 5), 'up': (3, 6), 'down': (5, 6)},\n",
       " (5, 0): {'down': (6, 0)},\n",
       " (5, 1): {},\n",
       " (5, 2): {'right': (5, 3), 'down': (6, 2)},\n",
       " (5, 3): {'left': (5, 2), 'up': (4, 3), 'right': (5, 4), 'down': (6, 3)},\n",
       " (5, 4): {'left': (5, 3), 'up': (4, 4), 'right': (5, 5), 'down': (6, 4)},\n",
       " (5, 5): {'left': (5, 4), 'up': (4, 5), 'right': (5, 6), 'down': (6, 5)},\n",
       " (5, 6): {'left': (5, 5), 'up': (4, 6)},\n",
       " (6, 0): {'up': (5, 0), 'right': (6, 1)},\n",
       " (6, 1): {'left': (6, 0), 'right': (6, 2)},\n",
       " (6, 2): {'left': (6, 1), 'up': (5, 2), 'right': (6, 3)},\n",
       " (6, 3): {'left': (6, 2), 'up': (5, 3), 'right': (6, 4)},\n",
       " (6, 4): {'left': (6, 3), 'up': (5, 4), 'right': (6, 5)},\n",
       " (6, 5): {'left': (6, 4), 'up': (5, 5)},\n",
       " (6, 6): {}}"
      ]
     },
     "execution_count": 17,
     "metadata": {},
     "output_type": "execute_result"
    }
   ],
   "source": [
    "maze1TM=makeMazeTransformationModel(mazeAvalActs) # Still using *available* actions\n",
    "maze1TM"
   ]
  },
  {
   "cell_type": "markdown",
   "id": "716f0388",
   "metadata": {},
   "source": [
    "### Maze Graph"
   ]
  },
  {
   "cell_type": "code",
   "execution_count": 18,
   "id": "09d6663f",
   "metadata": {},
   "outputs": [],
   "source": [
    "from src.graphProblemClass import GraphProblem"
   ]
  },
  {
   "cell_type": "code",
   "execution_count": 19,
   "id": "1fe9ba1e",
   "metadata": {},
   "outputs": [],
   "source": [
    "from src.maze2025GraphClass import mazeGraph"
   ]
  },
  {
   "cell_type": "code",
   "execution_count": 20,
   "id": "2ed8534e",
   "metadata": {},
   "outputs": [],
   "source": [
    "from src.mazeData import mazeStatesLocations"
   ]
  },
  {
   "cell_type": "code",
   "execution_count": 21,
   "id": "5bfec48b",
   "metadata": {},
   "outputs": [
    {
     "data": {
      "text/plain": [
       "[(0, 0),\n",
       " (0, 1),\n",
       " (0, 2),\n",
       " (0, 3),\n",
       " (0, 4),\n",
       " (0, 5),\n",
       " (0, 6),\n",
       " (1, 0),\n",
       " (1, 1),\n",
       " (1, 2),\n",
       " (1, 3),\n",
       " (1, 4),\n",
       " (1, 5),\n",
       " (1, 6),\n",
       " (2, 0),\n",
       " (2, 1),\n",
       " (2, 2),\n",
       " (2, 3),\n",
       " (2, 4),\n",
       " (2, 5),\n",
       " (2, 6),\n",
       " (3, 0),\n",
       " (3, 1),\n",
       " (3, 2),\n",
       " (3, 3),\n",
       " (3, 4),\n",
       " (3, 5),\n",
       " (3, 6),\n",
       " (4, 0),\n",
       " (4, 1),\n",
       " (4, 2),\n",
       " (4, 3),\n",
       " (4, 4),\n",
       " (4, 5),\n",
       " (4, 6),\n",
       " (5, 0),\n",
       " (5, 1),\n",
       " (5, 2),\n",
       " (5, 3),\n",
       " (5, 4),\n",
       " (5, 5),\n",
       " (5, 6),\n",
       " (6, 0),\n",
       " (6, 1),\n",
       " (6, 2),\n",
       " (6, 3),\n",
       " (6, 4),\n",
       " (6, 5),\n",
       " (6, 6)]"
      ]
     },
     "execution_count": 21,
     "metadata": {},
     "output_type": "execute_result"
    }
   ],
   "source": [
    "list(maze1TM.keys())"
   ]
  },
  {
   "cell_type": "code",
   "execution_count": 22,
   "id": "205cd6b6",
   "metadata": {},
   "outputs": [],
   "source": [
    "mazeWorldGraph = mazeGraph(maze1TM, mazeStatesLocations(list(maze1TM.keys())))"
   ]
  },
  {
   "cell_type": "code",
   "execution_count": 23,
   "id": "ec4dc934",
   "metadata": {},
   "outputs": [
    {
     "data": {
      "text/plain": [
       "[(4, 3),\n",
       " (3, 1),\n",
       " (5, 4),\n",
       " (4, 6),\n",
       " (0, 2),\n",
       " (0, 5),\n",
       " (2, 2),\n",
       " (1, 0),\n",
       " (1, 6),\n",
       " (2, 5),\n",
       " (1, 3),\n",
       " (6, 2),\n",
       " (6, 5),\n",
       " (3, 0),\n",
       " (4, 5),\n",
       " (3, 3),\n",
       " (5, 0),\n",
       " (5, 6),\n",
       " (3, 6),\n",
       " (5, 3),\n",
       " (0, 1),\n",
       " (2, 1),\n",
       " (1, 5),\n",
       " (6, 1),\n",
       " (6, 4),\n",
       " (3, 2),\n",
       " (3, 5),\n",
       " (5, 2),\n",
       " (4, 4),\n",
       " (5, 5),\n",
       " (0, 0),\n",
       " (1, 1),\n",
       " (0, 3),\n",
       " (2, 0),\n",
       " (2, 6),\n",
       " (6, 0),\n",
       " (6, 3)]"
      ]
     },
     "execution_count": 23,
     "metadata": {},
     "output_type": "execute_result"
    }
   ],
   "source": [
    "mazeWorldGraph.nodes()\n",
    "# Only includes states where an action is available\n",
    "# - Does not include cells occupied by a wall\n",
    "# - Does not include open cells that are surrounded by walls - as no action available"
   ]
  },
  {
   "cell_type": "code",
   "execution_count": 24,
   "id": "b7887b5f",
   "metadata": {},
   "outputs": [
    {
     "data": {
      "text/plain": [
       "{(0, 0): {(0, 1): 1, (1, 0): 1},\n",
       " (0, 1): {(0, 0): 1, (0, 2): 1, (1, 1): 1},\n",
       " (0, 2): {(0, 1): 1, (0, 3): 1},\n",
       " (0, 3): {(0, 2): 1, (1, 3): 1},\n",
       " (0, 5): {(1, 5): 1},\n",
       " (1, 0): {(0, 0): 1, (1, 1): 1, (2, 0): 1},\n",
       " (1, 1): {(1, 0): 1, (0, 1): 1, (2, 1): 1},\n",
       " (1, 3): {(0, 3): 1},\n",
       " (1, 5): {(0, 5): 1, (1, 6): 1, (2, 5): 1},\n",
       " (1, 6): {(1, 5): 1, (2, 6): 1},\n",
       " (2, 0): {(1, 0): 1, (2, 1): 1, (3, 0): 1},\n",
       " (2, 1): {(2, 0): 1, (1, 1): 1, (2, 2): 1, (3, 1): 1},\n",
       " (2, 2): {(2, 1): 1, (3, 2): 1},\n",
       " (2, 5): {(1, 5): 1, (2, 6): 1, (3, 5): 1},\n",
       " (2, 6): {(2, 5): 1, (1, 6): 1, (3, 6): 1},\n",
       " (3, 0): {(2, 0): 1, (3, 1): 1},\n",
       " (3, 1): {(3, 0): 1, (2, 1): 1, (3, 2): 1},\n",
       " (3, 2): {(3, 1): 1, (2, 2): 1, (3, 3): 1},\n",
       " (3, 3): {(3, 2): 1, (4, 3): 1},\n",
       " (3, 5): {(2, 5): 1, (3, 6): 1, (4, 5): 1},\n",
       " (3, 6): {(3, 5): 1, (2, 6): 1, (4, 6): 1},\n",
       " (4, 3): {(3, 3): 1, (4, 4): 1, (5, 3): 1},\n",
       " (4, 4): {(4, 3): 1, (4, 5): 1, (5, 4): 1},\n",
       " (4, 5): {(4, 4): 1, (3, 5): 1, (4, 6): 1, (5, 5): 1},\n",
       " (4, 6): {(4, 5): 1, (3, 6): 1, (5, 6): 1},\n",
       " (5, 0): {(6, 0): 1},\n",
       " (5, 2): {(5, 3): 1, (6, 2): 1},\n",
       " (5, 3): {(5, 2): 1, (4, 3): 1, (5, 4): 1, (6, 3): 1},\n",
       " (5, 4): {(5, 3): 1, (4, 4): 1, (5, 5): 1, (6, 4): 1},\n",
       " (5, 5): {(5, 4): 1, (4, 5): 1, (5, 6): 1, (6, 5): 1},\n",
       " (5, 6): {(5, 5): 1, (4, 6): 1},\n",
       " (6, 0): {(5, 0): 1, (6, 1): 1},\n",
       " (6, 1): {(6, 0): 1, (6, 2): 1},\n",
       " (6, 2): {(6, 1): 1, (5, 2): 1, (6, 3): 1},\n",
       " (6, 3): {(6, 2): 1, (5, 3): 1, (6, 4): 1},\n",
       " (6, 4): {(6, 3): 1, (5, 4): 1, (6, 5): 1},\n",
       " (6, 5): {(6, 4): 1, (5, 5): 1}}"
      ]
     },
     "execution_count": 24,
     "metadata": {},
     "output_type": "execute_result"
    }
   ],
   "source": [
    "mazeWorldGraph.graph_dict"
   ]
  },
  {
   "cell_type": "code",
   "execution_count": 25,
   "id": "e3b18f3a",
   "metadata": {},
   "outputs": [
    {
     "data": {
      "text/plain": [
       "{(0, 0): {'right': (0, 1), 'down': (1, 0)},\n",
       " (0, 1): {'left': (0, 0), 'right': (0, 2), 'down': (1, 1)},\n",
       " (0, 2): {'left': (0, 1), 'right': (0, 3)},\n",
       " (0, 3): {'left': (0, 2), 'down': (1, 3)},\n",
       " (0, 4): {},\n",
       " (0, 5): {'down': (1, 5)},\n",
       " (0, 6): {},\n",
       " (1, 0): {'up': (0, 0), 'right': (1, 1), 'down': (2, 0)},\n",
       " (1, 1): {'left': (1, 0), 'up': (0, 1), 'down': (2, 1)},\n",
       " (1, 2): {},\n",
       " (1, 3): {'up': (0, 3)},\n",
       " (1, 4): {},\n",
       " (1, 5): {'up': (0, 5), 'right': (1, 6), 'down': (2, 5)},\n",
       " (1, 6): {'left': (1, 5), 'down': (2, 6)},\n",
       " (2, 0): {'up': (1, 0), 'right': (2, 1), 'down': (3, 0)},\n",
       " (2, 1): {'left': (2, 0), 'up': (1, 1), 'right': (2, 2), 'down': (3, 1)},\n",
       " (2, 2): {'left': (2, 1), 'down': (3, 2)},\n",
       " (2, 3): {},\n",
       " (2, 4): {},\n",
       " (2, 5): {'up': (1, 5), 'right': (2, 6), 'down': (3, 5)},\n",
       " (2, 6): {'left': (2, 5), 'up': (1, 6), 'down': (3, 6)},\n",
       " (3, 0): {'up': (2, 0), 'right': (3, 1)},\n",
       " (3, 1): {'left': (3, 0), 'up': (2, 1), 'right': (3, 2)},\n",
       " (3, 2): {'left': (3, 1), 'up': (2, 2), 'right': (3, 3)},\n",
       " (3, 3): {'left': (3, 2), 'down': (4, 3)},\n",
       " (3, 4): {},\n",
       " (3, 5): {'up': (2, 5), 'right': (3, 6), 'down': (4, 5)},\n",
       " (3, 6): {'left': (3, 5), 'up': (2, 6), 'down': (4, 6)},\n",
       " (4, 0): {},\n",
       " (4, 1): {},\n",
       " (4, 2): {},\n",
       " (4, 3): {'up': (3, 3), 'right': (4, 4), 'down': (5, 3)},\n",
       " (4, 4): {'left': (4, 3), 'right': (4, 5), 'down': (5, 4)},\n",
       " (4, 5): {'left': (4, 4), 'up': (3, 5), 'right': (4, 6), 'down': (5, 5)},\n",
       " (4, 6): {'left': (4, 5), 'up': (3, 6), 'down': (5, 6)},\n",
       " (5, 0): {'down': (6, 0)},\n",
       " (5, 1): {},\n",
       " (5, 2): {'right': (5, 3), 'down': (6, 2)},\n",
       " (5, 3): {'left': (5, 2), 'up': (4, 3), 'right': (5, 4), 'down': (6, 3)},\n",
       " (5, 4): {'left': (5, 3), 'up': (4, 4), 'right': (5, 5), 'down': (6, 4)},\n",
       " (5, 5): {'left': (5, 4), 'up': (4, 5), 'right': (5, 6), 'down': (6, 5)},\n",
       " (5, 6): {'left': (5, 5), 'up': (4, 6)},\n",
       " (6, 0): {'up': (5, 0), 'right': (6, 1)},\n",
       " (6, 1): {'left': (6, 0), 'right': (6, 2)},\n",
       " (6, 2): {'left': (6, 1), 'up': (5, 2), 'right': (6, 3)},\n",
       " (6, 3): {'left': (6, 2), 'up': (5, 3), 'right': (6, 4)},\n",
       " (6, 4): {'left': (6, 3), 'up': (5, 4), 'right': (6, 5)},\n",
       " (6, 5): {'left': (6, 4), 'up': (5, 5)},\n",
       " (6, 6): {}}"
      ]
     },
     "execution_count": 25,
     "metadata": {},
     "output_type": "execute_result"
    }
   ],
   "source": [
    "mazeWorldGraph.origin # Retains nodes with no available actions - good for visualization"
   ]
  },
  {
   "cell_type": "code",
   "execution_count": 26,
   "id": "4b059e4f",
   "metadata": {},
   "outputs": [
    {
     "data": {
      "text/plain": [
       "{(0, 0): (0, 0),\n",
       " (0, 1): (50, 0),\n",
       " (0, 2): (100, 0),\n",
       " (0, 3): (150, 0),\n",
       " (0, 4): (200, 0),\n",
       " (0, 5): (250, 0),\n",
       " (0, 6): (300, 0),\n",
       " (1, 0): (0, 50),\n",
       " (1, 1): (50, 50),\n",
       " (1, 2): (100, 50),\n",
       " (1, 3): (150, 50),\n",
       " (1, 4): (200, 50),\n",
       " (1, 5): (250, 50),\n",
       " (1, 6): (300, 50),\n",
       " (2, 0): (0, 100),\n",
       " (2, 1): (50, 100),\n",
       " (2, 2): (100, 100),\n",
       " (2, 3): (150, 100),\n",
       " (2, 4): (200, 100),\n",
       " (2, 5): (250, 100),\n",
       " (2, 6): (300, 100),\n",
       " (3, 0): (0, 150),\n",
       " (3, 1): (50, 150),\n",
       " (3, 2): (100, 150),\n",
       " (3, 3): (150, 150),\n",
       " (3, 4): (200, 150),\n",
       " (3, 5): (250, 150),\n",
       " (3, 6): (300, 150),\n",
       " (4, 0): (0, 200),\n",
       " (4, 1): (50, 200),\n",
       " (4, 2): (100, 200),\n",
       " (4, 3): (150, 200),\n",
       " (4, 4): (200, 200),\n",
       " (4, 5): (250, 200),\n",
       " (4, 6): (300, 200),\n",
       " (5, 0): (0, 250),\n",
       " (5, 1): (50, 250),\n",
       " (5, 2): (100, 250),\n",
       " (5, 3): (150, 250),\n",
       " (5, 4): (200, 250),\n",
       " (5, 5): (250, 250),\n",
       " (5, 6): (300, 250),\n",
       " (6, 0): (0, 300),\n",
       " (6, 1): (50, 300),\n",
       " (6, 2): (100, 300),\n",
       " (6, 3): (150, 300),\n",
       " (6, 4): (200, 300),\n",
       " (6, 5): (250, 300),\n",
       " (6, 6): (300, 300)}"
      ]
     },
     "execution_count": 26,
     "metadata": {},
     "output_type": "execute_result"
    }
   ],
   "source": [
    "mazeWorldGraph.locations"
   ]
  },
  {
   "cell_type": "code",
   "execution_count": 27,
   "id": "f6c3f328",
   "metadata": {},
   "outputs": [
    {
     "data": {
      "text/plain": [
       "1"
      ]
     },
     "execution_count": 27,
     "metadata": {},
     "output_type": "execute_result"
    }
   ],
   "source": [
    "mazeWorldGraph.get((0, 1), (0,2))"
   ]
  },
  {
   "cell_type": "markdown",
   "id": "4863ce9d",
   "metadata": {},
   "source": [
    "Let's try to show the graph of our Maze"
   ]
  },
  {
   "cell_type": "code",
   "execution_count": 28,
   "id": "eeabe247",
   "metadata": {},
   "outputs": [],
   "source": [
    "from pyvis.network import Network "
   ]
  },
  {
   "cell_type": "code",
   "execution_count": 29,
   "id": "9c5bf19f",
   "metadata": {},
   "outputs": [],
   "source": [
    "net_maze = Network( heading=\"Lab4. Examples of Maze World Problem\",\n",
    "                bgcolor =\"#242020\",\n",
    "                font_color = \"white\",\n",
    "                height = \"750px\",\n",
    "                width = \"100%\",\n",
    "                directed=True # I added\n",
    ") # do this\n"
   ]
  },
  {
   "cell_type": "code",
   "execution_count": 30,
   "id": "c9b43b74",
   "metadata": {},
   "outputs": [
    {
     "data": {
      "text/plain": [
       "{(0, 0): {'right': (0, 1), 'down': (1, 0)},\n",
       " (0, 1): {'left': (0, 0), 'right': (0, 2), 'down': (1, 1)},\n",
       " (0, 2): {'left': (0, 1), 'right': (0, 3)},\n",
       " (0, 3): {'left': (0, 2), 'down': (1, 3)},\n",
       " (0, 4): {},\n",
       " (0, 5): {'down': (1, 5)},\n",
       " (0, 6): {},\n",
       " (1, 0): {'up': (0, 0), 'right': (1, 1), 'down': (2, 0)},\n",
       " (1, 1): {'left': (1, 0), 'up': (0, 1), 'down': (2, 1)},\n",
       " (1, 2): {},\n",
       " (1, 3): {'up': (0, 3)},\n",
       " (1, 4): {},\n",
       " (1, 5): {'up': (0, 5), 'right': (1, 6), 'down': (2, 5)},\n",
       " (1, 6): {'left': (1, 5), 'down': (2, 6)},\n",
       " (2, 0): {'up': (1, 0), 'right': (2, 1), 'down': (3, 0)},\n",
       " (2, 1): {'left': (2, 0), 'up': (1, 1), 'right': (2, 2), 'down': (3, 1)},\n",
       " (2, 2): {'left': (2, 1), 'down': (3, 2)},\n",
       " (2, 3): {},\n",
       " (2, 4): {},\n",
       " (2, 5): {'up': (1, 5), 'right': (2, 6), 'down': (3, 5)},\n",
       " (2, 6): {'left': (2, 5), 'up': (1, 6), 'down': (3, 6)},\n",
       " (3, 0): {'up': (2, 0), 'right': (3, 1)},\n",
       " (3, 1): {'left': (3, 0), 'up': (2, 1), 'right': (3, 2)},\n",
       " (3, 2): {'left': (3, 1), 'up': (2, 2), 'right': (3, 3)},\n",
       " (3, 3): {'left': (3, 2), 'down': (4, 3)},\n",
       " (3, 4): {},\n",
       " (3, 5): {'up': (2, 5), 'right': (3, 6), 'down': (4, 5)},\n",
       " (3, 6): {'left': (3, 5), 'up': (2, 6), 'down': (4, 6)},\n",
       " (4, 0): {},\n",
       " (4, 1): {},\n",
       " (4, 2): {},\n",
       " (4, 3): {'up': (3, 3), 'right': (4, 4), 'down': (5, 3)},\n",
       " (4, 4): {'left': (4, 3), 'right': (4, 5), 'down': (5, 4)},\n",
       " (4, 5): {'left': (4, 4), 'up': (3, 5), 'right': (4, 6), 'down': (5, 5)},\n",
       " (4, 6): {'left': (4, 5), 'up': (3, 6), 'down': (5, 6)},\n",
       " (5, 0): {'down': (6, 0)},\n",
       " (5, 1): {},\n",
       " (5, 2): {'right': (5, 3), 'down': (6, 2)},\n",
       " (5, 3): {'left': (5, 2), 'up': (4, 3), 'right': (5, 4), 'down': (6, 3)},\n",
       " (5, 4): {'left': (5, 3), 'up': (4, 4), 'right': (5, 5), 'down': (6, 4)},\n",
       " (5, 5): {'left': (5, 4), 'up': (4, 5), 'right': (5, 6), 'down': (6, 5)},\n",
       " (5, 6): {'left': (5, 5), 'up': (4, 6)},\n",
       " (6, 0): {'up': (5, 0), 'right': (6, 1)},\n",
       " (6, 1): {'left': (6, 0), 'right': (6, 2)},\n",
       " (6, 2): {'left': (6, 1), 'up': (5, 2), 'right': (6, 3)},\n",
       " (6, 3): {'left': (6, 2), 'up': (5, 3), 'right': (6, 4)},\n",
       " (6, 4): {'left': (6, 3), 'up': (5, 4), 'right': (6, 5)},\n",
       " (6, 5): {'left': (6, 4), 'up': (5, 5)},\n",
       " (6, 6): {}}"
      ]
     },
     "execution_count": 30,
     "metadata": {},
     "output_type": "execute_result"
    }
   ],
   "source": [
    "mazeWorldGraph.origin"
   ]
  },
  {
   "cell_type": "code",
   "execution_count": 31,
   "id": "9b912c95",
   "metadata": {},
   "outputs": [
    {
     "data": {
      "text/plain": [
       "array([[1, 1, 1, 1, 0, 1, 0],\n",
       "       [1, 1, 0, 1, 0, 1, 1],\n",
       "       [1, 1, 1, 0, 0, 1, 1],\n",
       "       [1, 1, 1, 1, 0, 1, 1],\n",
       "       [0, 0, 0, 1, 1, 1, 1],\n",
       "       [1, 0, 1, 1, 1, 1, 1],\n",
       "       [1, 1, 1, 1, 1, 1, 0]])"
      ]
     },
     "execution_count": 31,
     "metadata": {},
     "output_type": "execute_result"
    }
   ],
   "source": [
    "maze1"
   ]
  },
  {
   "cell_type": "code",
   "execution_count": 32,
   "id": "f5a40125",
   "metadata": {},
   "outputs": [
    {
     "data": {
      "text/plain": [
       "np.int64(1)"
      ]
     },
     "execution_count": 32,
     "metadata": {},
     "output_type": "execute_result"
    }
   ],
   "source": [
    "maze1[0,1]"
   ]
  },
  {
   "cell_type": "code",
   "execution_count": 33,
   "id": "4b01a362",
   "metadata": {},
   "outputs": [],
   "source": [
    "nodeColors={\n",
    "    \"wall\":\"red\",\n",
    "    \"path\": \"white\"\n",
    "}"
   ]
  },
  {
   "cell_type": "code",
   "execution_count": 34,
   "id": "e8fb3ed3",
   "metadata": {},
   "outputs": [
    {
     "data": {
      "text/plain": [
       "['white',\n",
       " 'white',\n",
       " 'white',\n",
       " 'white',\n",
       " 'red',\n",
       " 'white',\n",
       " 'red',\n",
       " 'white',\n",
       " 'white',\n",
       " 'red',\n",
       " 'white',\n",
       " 'red',\n",
       " 'white',\n",
       " 'white',\n",
       " 'white',\n",
       " 'white',\n",
       " 'white',\n",
       " 'red',\n",
       " 'red',\n",
       " 'white',\n",
       " 'white',\n",
       " 'white',\n",
       " 'white',\n",
       " 'white',\n",
       " 'white',\n",
       " 'red',\n",
       " 'white',\n",
       " 'white',\n",
       " 'red',\n",
       " 'red',\n",
       " 'red',\n",
       " 'white',\n",
       " 'white',\n",
       " 'white',\n",
       " 'white',\n",
       " 'white',\n",
       " 'red',\n",
       " 'white',\n",
       " 'white',\n",
       " 'white',\n",
       " 'white',\n",
       " 'white',\n",
       " 'white',\n",
       " 'white',\n",
       " 'white',\n",
       " 'white',\n",
       " 'white',\n",
       " 'white',\n",
       " 'red']"
      ]
     },
     "execution_count": 34,
     "metadata": {},
     "output_type": "execute_result"
    }
   ],
   "source": [
    "nodeColorsList=[]\n",
    "\n",
    "for node in mazeWorldGraph.origin.keys():\n",
    "    if maze1[node[0],node[1]]==1:\n",
    "        nodeColorsList.append(nodeColors[\"path\"])\n",
    "    else:\n",
    "        nodeColorsList.append(nodeColors[\"wall\"])\n",
    "nodeColorsList"
   ]
  },
  {
   "cell_type": "code",
   "execution_count": 35,
   "id": "c61cd997",
   "metadata": {},
   "outputs": [
    {
     "data": {
      "text/plain": [
       "['0-0',\n",
       " '0-1',\n",
       " '0-2',\n",
       " '0-3',\n",
       " '0-4',\n",
       " '0-5',\n",
       " '0-6',\n",
       " '1-0',\n",
       " '1-1',\n",
       " '1-2',\n",
       " '1-3',\n",
       " '1-4',\n",
       " '1-5',\n",
       " '1-6',\n",
       " '2-0',\n",
       " '2-1',\n",
       " '2-2',\n",
       " '2-3',\n",
       " '2-4',\n",
       " '2-5',\n",
       " '2-6',\n",
       " '3-0',\n",
       " '3-1',\n",
       " '3-2',\n",
       " '3-3',\n",
       " '3-4',\n",
       " '3-5',\n",
       " '3-6',\n",
       " '4-0',\n",
       " '4-1',\n",
       " '4-2',\n",
       " '4-3',\n",
       " '4-4',\n",
       " '4-5',\n",
       " '4-6',\n",
       " '5-0',\n",
       " '5-1',\n",
       " '5-2',\n",
       " '5-3',\n",
       " '5-4',\n",
       " '5-5',\n",
       " '5-6',\n",
       " '6-0',\n",
       " '6-1',\n",
       " '6-2',\n",
       " '6-3',\n",
       " '6-4',\n",
       " '6-5',\n",
       " '6-6']"
      ]
     },
     "execution_count": 35,
     "metadata": {},
     "output_type": "execute_result"
    }
   ],
   "source": [
    "# Needed since pyvis does not take tuples as dict keys\n",
    "nodes=[\"-\".join(str(item) for item in el) for el in mazeWorldGraph.origin.keys()]\n",
    "nodes"
   ]
  },
  {
   "cell_type": "code",
   "execution_count": 36,
   "id": "1e4a9f27",
   "metadata": {},
   "outputs": [
    {
     "name": "stdout",
     "output_type": "stream",
     "text": [
      "[0, 50, 100, 150, 200, 250, 300, 0, 50, 100, 150, 200, 250, 300, 0, 50, 100, 150, 200, 250, 300, 0, 50, 100, 150, 200, 250, 300, 0, 50, 100, 150, 200, 250, 300, 0, 50, 100, 150, 200, 250, 300, 0, 50, 100, 150, 200, 250, 300]\n",
      "[0, 0, 0, 0, 0, 0, 0, 50, 50, 50, 50, 50, 50, 50, 100, 100, 100, 100, 100, 100, 100, 150, 150, 150, 150, 150, 150, 150, 200, 200, 200, 200, 200, 200, 200, 250, 250, 250, 250, 250, 250, 250, 300, 300, 300, 300, 300, 300, 300]\n"
     ]
    }
   ],
   "source": [
    "x_coords = []\n",
    "y_coords = []\n",
    "\n",
    "for node in mazeWorldGraph.origin.keys():\n",
    "    x,y=mazeWorldGraph.getLocation(node)\n",
    "    x_coords.append(x)\n",
    "    y_coords.append(y)\n",
    "\n",
    "print(x_coords)   \n",
    "print(y_coords)\n"
   ]
  },
  {
   "cell_type": "code",
   "execution_count": 37,
   "id": "62e38808",
   "metadata": {},
   "outputs": [
    {
     "data": {
      "text/plain": [
       "[10,\n",
       " 10,\n",
       " 10,\n",
       " 10,\n",
       " 10,\n",
       " 10,\n",
       " 10,\n",
       " 10,\n",
       " 10,\n",
       " 10,\n",
       " 10,\n",
       " 10,\n",
       " 10,\n",
       " 10,\n",
       " 10,\n",
       " 10,\n",
       " 10,\n",
       " 10,\n",
       " 10,\n",
       " 10,\n",
       " 10,\n",
       " 10,\n",
       " 10,\n",
       " 10,\n",
       " 10,\n",
       " 10,\n",
       " 10,\n",
       " 10,\n",
       " 10,\n",
       " 10,\n",
       " 10,\n",
       " 10,\n",
       " 10,\n",
       " 10,\n",
       " 10,\n",
       " 10,\n",
       " 10,\n",
       " 10,\n",
       " 10,\n",
       " 10,\n",
       " 10,\n",
       " 10,\n",
       " 10,\n",
       " 10,\n",
       " 10,\n",
       " 10,\n",
       " 10,\n",
       " 10,\n",
       " 10]"
      ]
     },
     "execution_count": 37,
     "metadata": {},
     "output_type": "execute_result"
    }
   ],
   "source": [
    "sizes=[10]*len(nodes)\n",
    "sizes"
   ]
  },
  {
   "cell_type": "code",
   "execution_count": 38,
   "id": "cce23d98",
   "metadata": {},
   "outputs": [],
   "source": [
    "#hidden labels, and hover titles\n",
    "net_maze.add_nodes(nodes, color=nodeColorsList, x=x_coords, y=y_coords, size=sizes, title=nodes)"
   ]
  },
  {
   "cell_type": "code",
   "execution_count": 39,
   "id": "160b003a",
   "metadata": {},
   "outputs": [],
   "source": [
    "for node in net_maze.nodes:\n",
    "    node['label']='' # She said labels looked bad so got rid of them this way"
   ]
  },
  {
   "cell_type": "code",
   "execution_count": 40,
   "id": "9930aae4",
   "metadata": {},
   "outputs": [
    {
     "data": {
      "text/plain": [
       "[{'color': 'white',\n",
       "  'x': 0,\n",
       "  'y': 0,\n",
       "  'size': 10,\n",
       "  'title': '0-0',\n",
       "  'id': '0-0',\n",
       "  'label': '',\n",
       "  'shape': 'dot',\n",
       "  'font': {'color': 'white'}},\n",
       " {'color': 'white',\n",
       "  'x': 50,\n",
       "  'y': 0,\n",
       "  'size': 10,\n",
       "  'title': '0-1',\n",
       "  'id': '0-1',\n",
       "  'label': '',\n",
       "  'shape': 'dot',\n",
       "  'font': {'color': 'white'}},\n",
       " {'color': 'white',\n",
       "  'x': 100,\n",
       "  'y': 0,\n",
       "  'size': 10,\n",
       "  'title': '0-2',\n",
       "  'id': '0-2',\n",
       "  'label': '',\n",
       "  'shape': 'dot',\n",
       "  'font': {'color': 'white'}},\n",
       " {'color': 'white',\n",
       "  'x': 150,\n",
       "  'y': 0,\n",
       "  'size': 10,\n",
       "  'title': '0-3',\n",
       "  'id': '0-3',\n",
       "  'label': '',\n",
       "  'shape': 'dot',\n",
       "  'font': {'color': 'white'}},\n",
       " {'color': 'red',\n",
       "  'x': 200,\n",
       "  'y': 0,\n",
       "  'size': 10,\n",
       "  'title': '0-4',\n",
       "  'id': '0-4',\n",
       "  'label': '',\n",
       "  'shape': 'dot',\n",
       "  'font': {'color': 'white'}},\n",
       " {'color': 'white',\n",
       "  'x': 250,\n",
       "  'y': 0,\n",
       "  'size': 10,\n",
       "  'title': '0-5',\n",
       "  'id': '0-5',\n",
       "  'label': '',\n",
       "  'shape': 'dot',\n",
       "  'font': {'color': 'white'}},\n",
       " {'color': 'red',\n",
       "  'x': 300,\n",
       "  'y': 0,\n",
       "  'size': 10,\n",
       "  'title': '0-6',\n",
       "  'id': '0-6',\n",
       "  'label': '',\n",
       "  'shape': 'dot',\n",
       "  'font': {'color': 'white'}},\n",
       " {'color': 'white',\n",
       "  'x': 0,\n",
       "  'y': 50,\n",
       "  'size': 10,\n",
       "  'title': '1-0',\n",
       "  'id': '1-0',\n",
       "  'label': '',\n",
       "  'shape': 'dot',\n",
       "  'font': {'color': 'white'}},\n",
       " {'color': 'white',\n",
       "  'x': 50,\n",
       "  'y': 50,\n",
       "  'size': 10,\n",
       "  'title': '1-1',\n",
       "  'id': '1-1',\n",
       "  'label': '',\n",
       "  'shape': 'dot',\n",
       "  'font': {'color': 'white'}},\n",
       " {'color': 'red',\n",
       "  'x': 100,\n",
       "  'y': 50,\n",
       "  'size': 10,\n",
       "  'title': '1-2',\n",
       "  'id': '1-2',\n",
       "  'label': '',\n",
       "  'shape': 'dot',\n",
       "  'font': {'color': 'white'}},\n",
       " {'color': 'white',\n",
       "  'x': 150,\n",
       "  'y': 50,\n",
       "  'size': 10,\n",
       "  'title': '1-3',\n",
       "  'id': '1-3',\n",
       "  'label': '',\n",
       "  'shape': 'dot',\n",
       "  'font': {'color': 'white'}},\n",
       " {'color': 'red',\n",
       "  'x': 200,\n",
       "  'y': 50,\n",
       "  'size': 10,\n",
       "  'title': '1-4',\n",
       "  'id': '1-4',\n",
       "  'label': '',\n",
       "  'shape': 'dot',\n",
       "  'font': {'color': 'white'}},\n",
       " {'color': 'white',\n",
       "  'x': 250,\n",
       "  'y': 50,\n",
       "  'size': 10,\n",
       "  'title': '1-5',\n",
       "  'id': '1-5',\n",
       "  'label': '',\n",
       "  'shape': 'dot',\n",
       "  'font': {'color': 'white'}},\n",
       " {'color': 'white',\n",
       "  'x': 300,\n",
       "  'y': 50,\n",
       "  'size': 10,\n",
       "  'title': '1-6',\n",
       "  'id': '1-6',\n",
       "  'label': '',\n",
       "  'shape': 'dot',\n",
       "  'font': {'color': 'white'}},\n",
       " {'color': 'white',\n",
       "  'x': 0,\n",
       "  'y': 100,\n",
       "  'size': 10,\n",
       "  'title': '2-0',\n",
       "  'id': '2-0',\n",
       "  'label': '',\n",
       "  'shape': 'dot',\n",
       "  'font': {'color': 'white'}},\n",
       " {'color': 'white',\n",
       "  'x': 50,\n",
       "  'y': 100,\n",
       "  'size': 10,\n",
       "  'title': '2-1',\n",
       "  'id': '2-1',\n",
       "  'label': '',\n",
       "  'shape': 'dot',\n",
       "  'font': {'color': 'white'}},\n",
       " {'color': 'white',\n",
       "  'x': 100,\n",
       "  'y': 100,\n",
       "  'size': 10,\n",
       "  'title': '2-2',\n",
       "  'id': '2-2',\n",
       "  'label': '',\n",
       "  'shape': 'dot',\n",
       "  'font': {'color': 'white'}},\n",
       " {'color': 'red',\n",
       "  'x': 150,\n",
       "  'y': 100,\n",
       "  'size': 10,\n",
       "  'title': '2-3',\n",
       "  'id': '2-3',\n",
       "  'label': '',\n",
       "  'shape': 'dot',\n",
       "  'font': {'color': 'white'}},\n",
       " {'color': 'red',\n",
       "  'x': 200,\n",
       "  'y': 100,\n",
       "  'size': 10,\n",
       "  'title': '2-4',\n",
       "  'id': '2-4',\n",
       "  'label': '',\n",
       "  'shape': 'dot',\n",
       "  'font': {'color': 'white'}},\n",
       " {'color': 'white',\n",
       "  'x': 250,\n",
       "  'y': 100,\n",
       "  'size': 10,\n",
       "  'title': '2-5',\n",
       "  'id': '2-5',\n",
       "  'label': '',\n",
       "  'shape': 'dot',\n",
       "  'font': {'color': 'white'}},\n",
       " {'color': 'white',\n",
       "  'x': 300,\n",
       "  'y': 100,\n",
       "  'size': 10,\n",
       "  'title': '2-6',\n",
       "  'id': '2-6',\n",
       "  'label': '',\n",
       "  'shape': 'dot',\n",
       "  'font': {'color': 'white'}},\n",
       " {'color': 'white',\n",
       "  'x': 0,\n",
       "  'y': 150,\n",
       "  'size': 10,\n",
       "  'title': '3-0',\n",
       "  'id': '3-0',\n",
       "  'label': '',\n",
       "  'shape': 'dot',\n",
       "  'font': {'color': 'white'}},\n",
       " {'color': 'white',\n",
       "  'x': 50,\n",
       "  'y': 150,\n",
       "  'size': 10,\n",
       "  'title': '3-1',\n",
       "  'id': '3-1',\n",
       "  'label': '',\n",
       "  'shape': 'dot',\n",
       "  'font': {'color': 'white'}},\n",
       " {'color': 'white',\n",
       "  'x': 100,\n",
       "  'y': 150,\n",
       "  'size': 10,\n",
       "  'title': '3-2',\n",
       "  'id': '3-2',\n",
       "  'label': '',\n",
       "  'shape': 'dot',\n",
       "  'font': {'color': 'white'}},\n",
       " {'color': 'white',\n",
       "  'x': 150,\n",
       "  'y': 150,\n",
       "  'size': 10,\n",
       "  'title': '3-3',\n",
       "  'id': '3-3',\n",
       "  'label': '',\n",
       "  'shape': 'dot',\n",
       "  'font': {'color': 'white'}},\n",
       " {'color': 'red',\n",
       "  'x': 200,\n",
       "  'y': 150,\n",
       "  'size': 10,\n",
       "  'title': '3-4',\n",
       "  'id': '3-4',\n",
       "  'label': '',\n",
       "  'shape': 'dot',\n",
       "  'font': {'color': 'white'}},\n",
       " {'color': 'white',\n",
       "  'x': 250,\n",
       "  'y': 150,\n",
       "  'size': 10,\n",
       "  'title': '3-5',\n",
       "  'id': '3-5',\n",
       "  'label': '',\n",
       "  'shape': 'dot',\n",
       "  'font': {'color': 'white'}},\n",
       " {'color': 'white',\n",
       "  'x': 300,\n",
       "  'y': 150,\n",
       "  'size': 10,\n",
       "  'title': '3-6',\n",
       "  'id': '3-6',\n",
       "  'label': '',\n",
       "  'shape': 'dot',\n",
       "  'font': {'color': 'white'}},\n",
       " {'color': 'red',\n",
       "  'x': 0,\n",
       "  'y': 200,\n",
       "  'size': 10,\n",
       "  'title': '4-0',\n",
       "  'id': '4-0',\n",
       "  'label': '',\n",
       "  'shape': 'dot',\n",
       "  'font': {'color': 'white'}},\n",
       " {'color': 'red',\n",
       "  'x': 50,\n",
       "  'y': 200,\n",
       "  'size': 10,\n",
       "  'title': '4-1',\n",
       "  'id': '4-1',\n",
       "  'label': '',\n",
       "  'shape': 'dot',\n",
       "  'font': {'color': 'white'}},\n",
       " {'color': 'red',\n",
       "  'x': 100,\n",
       "  'y': 200,\n",
       "  'size': 10,\n",
       "  'title': '4-2',\n",
       "  'id': '4-2',\n",
       "  'label': '',\n",
       "  'shape': 'dot',\n",
       "  'font': {'color': 'white'}},\n",
       " {'color': 'white',\n",
       "  'x': 150,\n",
       "  'y': 200,\n",
       "  'size': 10,\n",
       "  'title': '4-3',\n",
       "  'id': '4-3',\n",
       "  'label': '',\n",
       "  'shape': 'dot',\n",
       "  'font': {'color': 'white'}},\n",
       " {'color': 'white',\n",
       "  'x': 200,\n",
       "  'y': 200,\n",
       "  'size': 10,\n",
       "  'title': '4-4',\n",
       "  'id': '4-4',\n",
       "  'label': '',\n",
       "  'shape': 'dot',\n",
       "  'font': {'color': 'white'}},\n",
       " {'color': 'white',\n",
       "  'x': 250,\n",
       "  'y': 200,\n",
       "  'size': 10,\n",
       "  'title': '4-5',\n",
       "  'id': '4-5',\n",
       "  'label': '',\n",
       "  'shape': 'dot',\n",
       "  'font': {'color': 'white'}},\n",
       " {'color': 'white',\n",
       "  'x': 300,\n",
       "  'y': 200,\n",
       "  'size': 10,\n",
       "  'title': '4-6',\n",
       "  'id': '4-6',\n",
       "  'label': '',\n",
       "  'shape': 'dot',\n",
       "  'font': {'color': 'white'}},\n",
       " {'color': 'white',\n",
       "  'x': 0,\n",
       "  'y': 250,\n",
       "  'size': 10,\n",
       "  'title': '5-0',\n",
       "  'id': '5-0',\n",
       "  'label': '',\n",
       "  'shape': 'dot',\n",
       "  'font': {'color': 'white'}},\n",
       " {'color': 'red',\n",
       "  'x': 50,\n",
       "  'y': 250,\n",
       "  'size': 10,\n",
       "  'title': '5-1',\n",
       "  'id': '5-1',\n",
       "  'label': '',\n",
       "  'shape': 'dot',\n",
       "  'font': {'color': 'white'}},\n",
       " {'color': 'white',\n",
       "  'x': 100,\n",
       "  'y': 250,\n",
       "  'size': 10,\n",
       "  'title': '5-2',\n",
       "  'id': '5-2',\n",
       "  'label': '',\n",
       "  'shape': 'dot',\n",
       "  'font': {'color': 'white'}},\n",
       " {'color': 'white',\n",
       "  'x': 150,\n",
       "  'y': 250,\n",
       "  'size': 10,\n",
       "  'title': '5-3',\n",
       "  'id': '5-3',\n",
       "  'label': '',\n",
       "  'shape': 'dot',\n",
       "  'font': {'color': 'white'}},\n",
       " {'color': 'white',\n",
       "  'x': 200,\n",
       "  'y': 250,\n",
       "  'size': 10,\n",
       "  'title': '5-4',\n",
       "  'id': '5-4',\n",
       "  'label': '',\n",
       "  'shape': 'dot',\n",
       "  'font': {'color': 'white'}},\n",
       " {'color': 'white',\n",
       "  'x': 250,\n",
       "  'y': 250,\n",
       "  'size': 10,\n",
       "  'title': '5-5',\n",
       "  'id': '5-5',\n",
       "  'label': '',\n",
       "  'shape': 'dot',\n",
       "  'font': {'color': 'white'}},\n",
       " {'color': 'white',\n",
       "  'x': 300,\n",
       "  'y': 250,\n",
       "  'size': 10,\n",
       "  'title': '5-6',\n",
       "  'id': '5-6',\n",
       "  'label': '',\n",
       "  'shape': 'dot',\n",
       "  'font': {'color': 'white'}},\n",
       " {'color': 'white',\n",
       "  'x': 0,\n",
       "  'y': 300,\n",
       "  'size': 10,\n",
       "  'title': '6-0',\n",
       "  'id': '6-0',\n",
       "  'label': '',\n",
       "  'shape': 'dot',\n",
       "  'font': {'color': 'white'}},\n",
       " {'color': 'white',\n",
       "  'x': 50,\n",
       "  'y': 300,\n",
       "  'size': 10,\n",
       "  'title': '6-1',\n",
       "  'id': '6-1',\n",
       "  'label': '',\n",
       "  'shape': 'dot',\n",
       "  'font': {'color': 'white'}},\n",
       " {'color': 'white',\n",
       "  'x': 100,\n",
       "  'y': 300,\n",
       "  'size': 10,\n",
       "  'title': '6-2',\n",
       "  'id': '6-2',\n",
       "  'label': '',\n",
       "  'shape': 'dot',\n",
       "  'font': {'color': 'white'}},\n",
       " {'color': 'white',\n",
       "  'x': 150,\n",
       "  'y': 300,\n",
       "  'size': 10,\n",
       "  'title': '6-3',\n",
       "  'id': '6-3',\n",
       "  'label': '',\n",
       "  'shape': 'dot',\n",
       "  'font': {'color': 'white'}},\n",
       " {'color': 'white',\n",
       "  'x': 200,\n",
       "  'y': 300,\n",
       "  'size': 10,\n",
       "  'title': '6-4',\n",
       "  'id': '6-4',\n",
       "  'label': '',\n",
       "  'shape': 'dot',\n",
       "  'font': {'color': 'white'}},\n",
       " {'color': 'white',\n",
       "  'x': 250,\n",
       "  'y': 300,\n",
       "  'size': 10,\n",
       "  'title': '6-5',\n",
       "  'id': '6-5',\n",
       "  'label': '',\n",
       "  'shape': 'dot',\n",
       "  'font': {'color': 'white'}},\n",
       " {'color': 'red',\n",
       "  'x': 300,\n",
       "  'y': 300,\n",
       "  'size': 10,\n",
       "  'title': '6-6',\n",
       "  'id': '6-6',\n",
       "  'label': '',\n",
       "  'shape': 'dot',\n",
       "  'font': {'color': 'white'}}]"
      ]
     },
     "execution_count": 40,
     "metadata": {},
     "output_type": "execute_result"
    }
   ],
   "source": [
    "net_maze.nodes"
   ]
  },
  {
   "cell_type": "code",
   "execution_count": 41,
   "id": "c653b22e",
   "metadata": {},
   "outputs": [
    {
     "data": {
      "text/plain": [
       "{'right': (0, 1), 'down': (1, 0)}"
      ]
     },
     "execution_count": 41,
     "metadata": {},
     "output_type": "execute_result"
    }
   ],
   "source": [
    "mazeWorldGraph.origin[(0,0)]"
   ]
  },
  {
   "cell_type": "code",
   "execution_count": 42,
   "id": "098b320b",
   "metadata": {},
   "outputs": [],
   "source": [
    "from src.mazeData import intTupleTostr"
   ]
  },
  {
   "cell_type": "code",
   "execution_count": 43,
   "id": "cd99df70",
   "metadata": {},
   "outputs": [
    {
     "data": {
      "text/plain": [
       "'0-0'"
      ]
     },
     "execution_count": 43,
     "metadata": {},
     "output_type": "execute_result"
    }
   ],
   "source": [
    "intTupleTostr((0,0))"
   ]
  },
  {
   "cell_type": "code",
   "execution_count": 44,
   "id": "9b2fdefa",
   "metadata": {},
   "outputs": [
    {
     "data": {
      "text/plain": [
       "{('0-0', '0-1'): 'right',\n",
       " ('0-0', '1-0'): 'down',\n",
       " ('0-1', '0-0'): 'left',\n",
       " ('0-1', '0-2'): 'right',\n",
       " ('0-1', '1-1'): 'down',\n",
       " ('0-2', '0-1'): 'left',\n",
       " ('0-2', '0-3'): 'right',\n",
       " ('0-3', '0-2'): 'left',\n",
       " ('0-3', '1-3'): 'down',\n",
       " ('0-5', '1-5'): 'down',\n",
       " ('1-0', '0-0'): 'up',\n",
       " ('1-0', '1-1'): 'right',\n",
       " ('1-0', '2-0'): 'down',\n",
       " ('1-1', '1-0'): 'left',\n",
       " ('1-1', '0-1'): 'up',\n",
       " ('1-1', '2-1'): 'down',\n",
       " ('1-3', '0-3'): 'up',\n",
       " ('1-5', '0-5'): 'up',\n",
       " ('1-5', '1-6'): 'right',\n",
       " ('1-5', '2-5'): 'down',\n",
       " ('1-6', '1-5'): 'left',\n",
       " ('1-6', '2-6'): 'down',\n",
       " ('2-0', '1-0'): 'up',\n",
       " ('2-0', '2-1'): 'right',\n",
       " ('2-0', '3-0'): 'down',\n",
       " ('2-1', '2-0'): 'left',\n",
       " ('2-1', '1-1'): 'up',\n",
       " ('2-1', '2-2'): 'right',\n",
       " ('2-1', '3-1'): 'down',\n",
       " ('2-2', '2-1'): 'left',\n",
       " ('2-2', '3-2'): 'down',\n",
       " ('2-5', '1-5'): 'up',\n",
       " ('2-5', '2-6'): 'right',\n",
       " ('2-5', '3-5'): 'down',\n",
       " ('2-6', '2-5'): 'left',\n",
       " ('2-6', '1-6'): 'up',\n",
       " ('2-6', '3-6'): 'down',\n",
       " ('3-0', '2-0'): 'up',\n",
       " ('3-0', '3-1'): 'right',\n",
       " ('3-1', '3-0'): 'left',\n",
       " ('3-1', '2-1'): 'up',\n",
       " ('3-1', '3-2'): 'right',\n",
       " ('3-2', '3-1'): 'left',\n",
       " ('3-2', '2-2'): 'up',\n",
       " ('3-2', '3-3'): 'right',\n",
       " ('3-3', '3-2'): 'left',\n",
       " ('3-3', '4-3'): 'down',\n",
       " ('3-5', '2-5'): 'up',\n",
       " ('3-5', '3-6'): 'right',\n",
       " ('3-5', '4-5'): 'down',\n",
       " ('3-6', '3-5'): 'left',\n",
       " ('3-6', '2-6'): 'up',\n",
       " ('3-6', '4-6'): 'down',\n",
       " ('4-3', '3-3'): 'up',\n",
       " ('4-3', '4-4'): 'right',\n",
       " ('4-3', '5-3'): 'down',\n",
       " ('4-4', '4-3'): 'left',\n",
       " ('4-4', '4-5'): 'right',\n",
       " ('4-4', '5-4'): 'down',\n",
       " ('4-5', '4-4'): 'left',\n",
       " ('4-5', '3-5'): 'up',\n",
       " ('4-5', '4-6'): 'right',\n",
       " ('4-5', '5-5'): 'down',\n",
       " ('4-6', '4-5'): 'left',\n",
       " ('4-6', '3-6'): 'up',\n",
       " ('4-6', '5-6'): 'down',\n",
       " ('5-0', '6-0'): 'down',\n",
       " ('5-2', '5-3'): 'right',\n",
       " ('5-2', '6-2'): 'down',\n",
       " ('5-3', '5-2'): 'left',\n",
       " ('5-3', '4-3'): 'up',\n",
       " ('5-3', '5-4'): 'right',\n",
       " ('5-3', '6-3'): 'down',\n",
       " ('5-4', '5-3'): 'left',\n",
       " ('5-4', '4-4'): 'up',\n",
       " ('5-4', '5-5'): 'right',\n",
       " ('5-4', '6-4'): 'down',\n",
       " ('5-5', '5-4'): 'left',\n",
       " ('5-5', '4-5'): 'up',\n",
       " ('5-5', '5-6'): 'right',\n",
       " ('5-5', '6-5'): 'down',\n",
       " ('5-6', '5-5'): 'left',\n",
       " ('5-6', '4-6'): 'up',\n",
       " ('6-0', '5-0'): 'up',\n",
       " ('6-0', '6-1'): 'right',\n",
       " ('6-1', '6-0'): 'left',\n",
       " ('6-1', '6-2'): 'right',\n",
       " ('6-2', '6-1'): 'left',\n",
       " ('6-2', '5-2'): 'up',\n",
       " ('6-2', '6-3'): 'right',\n",
       " ('6-3', '6-2'): 'left',\n",
       " ('6-3', '5-3'): 'up',\n",
       " ('6-3', '6-4'): 'right',\n",
       " ('6-4', '6-3'): 'left',\n",
       " ('6-4', '5-4'): 'up',\n",
       " ('6-4', '6-5'): 'right',\n",
       " ('6-5', '6-4'): 'left',\n",
       " ('6-5', '5-5'): 'up'}"
      ]
     },
     "execution_count": 44,
     "metadata": {},
     "output_type": "execute_result"
    }
   ],
   "source": [
    "edge_weights = {(intTupleTostr(k), intTupleTostr(v2)) : k2 for k, v in mazeWorldGraph.origin.items() for k2, v2 in v.items()}#actions\n",
    "edge_weights"
   ]
  },
  {
   "cell_type": "code",
   "execution_count": 45,
   "id": "5ce9f58f",
   "metadata": {},
   "outputs": [
    {
     "data": {
      "text/plain": [
       "[(4, 3),\n",
       " (3, 1),\n",
       " (5, 4),\n",
       " (4, 6),\n",
       " (0, 2),\n",
       " (0, 5),\n",
       " (2, 2),\n",
       " (1, 0),\n",
       " (1, 6),\n",
       " (2, 5),\n",
       " (1, 3),\n",
       " (6, 2),\n",
       " (6, 5),\n",
       " (3, 0),\n",
       " (4, 5),\n",
       " (3, 3),\n",
       " (5, 0),\n",
       " (5, 6),\n",
       " (3, 6),\n",
       " (5, 3),\n",
       " (0, 1),\n",
       " (2, 1),\n",
       " (1, 5),\n",
       " (6, 1),\n",
       " (6, 4),\n",
       " (3, 2),\n",
       " (3, 5),\n",
       " (5, 2),\n",
       " (4, 4),\n",
       " (5, 5),\n",
       " (0, 0),\n",
       " (1, 1),\n",
       " (0, 3),\n",
       " (2, 0),\n",
       " (2, 6),\n",
       " (6, 0),\n",
       " (6, 3)]"
      ]
     },
     "execution_count": 45,
     "metadata": {},
     "output_type": "execute_result"
    }
   ],
   "source": [
    "mazeWorldGraph.nodes()"
   ]
  },
  {
   "cell_type": "code",
   "execution_count": 46,
   "id": "6862a989",
   "metadata": {},
   "outputs": [],
   "source": [
    "edges=[]\n",
    "\n",
    "for node_source in mazeWorldGraph.nodes():\n",
    "    for node_target, action in mazeWorldGraph.get(node_source).items():\n",
    "        #node_target or node_source is a tuple -> convert to str\n",
    "        if (intTupleTostr(node_source),intTupleTostr(node_target)) not in edges and (intTupleTostr(node_target), intTupleTostr(node_source)):\n",
    "            net_maze.add_edge(intTupleTostr(node_source),intTupleTostr(node_target), label=edge_weights[(intTupleTostr(node_source),intTupleTostr(node_target))])\n",
    "            edges.append((intTupleTostr(node_source),intTupleTostr(node_target)))\n",
    "            \n",
    "\n"
   ]
  },
  {
   "cell_type": "code",
   "execution_count": 47,
   "id": "bc5d65d8",
   "metadata": {},
   "outputs": [
    {
     "name": "stdout",
     "output_type": "stream",
     "text": [
      "graph1.html\n"
     ]
    }
   ],
   "source": [
    "# Disable physics\n",
    "net_maze.toggle_physics(False)\n",
    "net_maze.show(\"graph1.html\", notebook=False)"
   ]
  },
  {
   "cell_type": "code",
   "execution_count": 48,
   "id": "8efcc110",
   "metadata": {},
   "outputs": [
    {
     "data": {
      "text/plain": [
       "array([[1, 1, 1, 1, 0, 1, 0],\n",
       "       [1, 1, 0, 1, 0, 1, 1],\n",
       "       [1, 1, 1, 0, 0, 1, 1],\n",
       "       [1, 1, 1, 1, 0, 1, 1],\n",
       "       [0, 0, 0, 1, 1, 1, 1],\n",
       "       [1, 0, 1, 1, 1, 1, 1],\n",
       "       [1, 1, 1, 1, 1, 1, 0]])"
      ]
     },
     "execution_count": 48,
     "metadata": {},
     "output_type": "execute_result"
    }
   ],
   "source": [
    "maze1"
   ]
  },
  {
   "attachments": {
    "image.png": {
     "image/png": "[encoded data removed]"
    }
   },
   "cell_type": "markdown",
   "id": "f55f294e",
   "metadata": {},
   "source": [
    "![image.png](attachment:image.png)"
   ]
  },
  {
   "cell_type": "markdown",
   "id": "d913d4c6",
   "metadata": {},
   "source": [
    "- Her graph only shows action in *one direction*, we want it both ways\n",
    "- I added directed=True above"
   ]
  },
  {
   "cell_type": "markdown",
   "id": "863c2019",
   "metadata": {},
   "source": [
    "### Maze Problem formulation"
   ]
  },
  {
   "cell_type": "markdown",
   "id": "1e271f50",
   "metadata": {},
   "source": [
    "Explore the derived *class MazeProblem(Problem)* for our Maze World example"
   ]
  },
  {
   "cell_type": "code",
   "execution_count": 49,
   "id": "9afe5edb",
   "metadata": {},
   "outputs": [],
   "source": [
    "from src.mazeProblemClass import MazeProblem"
   ]
  },
  {
   "cell_type": "code",
   "execution_count": 50,
   "id": "cc6f1f7f",
   "metadata": {},
   "outputs": [],
   "source": [
    "initState, goalState=(0,1),(0,3)"
   ]
  },
  {
   "cell_type": "code",
   "execution_count": 51,
   "id": "3b6df5e5",
   "metadata": {},
   "outputs": [],
   "source": [
    "mp1=MazeProblem(initState,goalState,mazeWorldGraph)"
   ]
  },
  {
   "cell_type": "code",
   "execution_count": 52,
   "id": "89378db3",
   "metadata": {},
   "outputs": [],
   "source": [
    "testState=(0,2)"
   ]
  },
  {
   "cell_type": "code",
   "execution_count": 53,
   "id": "46ea682a",
   "metadata": {},
   "outputs": [
    {
     "data": {
      "text/plain": [
       "['left', 'right']"
      ]
     },
     "execution_count": 53,
     "metadata": {},
     "output_type": "execute_result"
    }
   ],
   "source": [
    "mp1.actions(testState)"
   ]
  },
  {
   "cell_type": "markdown",
   "id": "6c269fa4",
   "metadata": {},
   "source": [
    "## Problem Solving Agent in Maze"
   ]
  },
  {
   "cell_type": "markdown",
   "id": "39913d99",
   "metadata": {},
   "source": [
    "Now we are ready to consider `MazeProblemSolvingAgent class`"
   ]
  },
  {
   "cell_type": "markdown",
   "id": "f5e75558",
   "metadata": {},
   "source": [
    "Explore the derived class `VacuumProblem(Problem)` for our Vacuum World example"
   ]
  },
  {
   "cell_type": "markdown",
   "id": "98a53beb",
   "metadata": {},
   "source": [
    "However, we also need to check how our `BestFirstSearchAgentProgram` is able to process Maze World"
   ]
  },
  {
   "cell_type": "code",
   "execution_count": 54,
   "id": "d0fb5a98",
   "metadata": {},
   "outputs": [],
   "source": [
    "from src.PS_agentPrograms import BestFirstSearchAgentProgram"
   ]
  },
  {
   "cell_type": "code",
   "execution_count": 55,
   "id": "5b6a2700",
   "metadata": {},
   "outputs": [],
   "source": [
    "BFSAP1=BestFirstSearchAgentProgram()"
   ]
  },
  {
   "cell_type": "code",
   "execution_count": 56,
   "id": "31a477d8",
   "metadata": {},
   "outputs": [
    {
     "data": {
      "text/plain": [
       "(0, 1)"
      ]
     },
     "execution_count": 56,
     "metadata": {},
     "output_type": "execute_result"
    }
   ],
   "source": [
    "mp1.initial #mp1 instance of Maze Problem"
   ]
  },
  {
   "cell_type": "code",
   "execution_count": 57,
   "id": "871d0571",
   "metadata": {},
   "outputs": [
    {
     "name": "stdout",
     "output_type": "stream",
     "text": [
      "The <Node (0, 1)> is being pushed to frontier ...\n",
      "The <Node (0, 1)> is being extracted from frontier ...\n",
      "The child <Node (0, 0)> is being pushed to frontier ...\n",
      "The child <Node (0, 2)> is being pushed to frontier ...\n",
      "The child <Node (1, 1)> is being pushed to frontier ...\n",
      "The <Node (0, 0)> is being extracted from frontier ...\n",
      "The child <Node (1, 0)> is being pushed to frontier ...\n",
      "The <Node (0, 2)> is being extracted from frontier ...\n",
      "The child <Node (0, 3)> is being pushed to frontier ...\n",
      "The <Node (0, 3)> is being extracted from frontier ...\n",
      "We have found our goal:  <Node (0, 3)>!\n"
     ]
    }
   ],
   "source": [
    "seq=BFSAP1(mp1)"
   ]
  },
  {
   "cell_type": "code",
   "execution_count": 58,
   "id": "dc923060",
   "metadata": {},
   "outputs": [],
   "source": [
    "from src.agents import ProblemSolvingMazeAgentBFS"
   ]
  },
  {
   "cell_type": "code",
   "execution_count": 59,
   "id": "2a884fef",
   "metadata": {},
   "outputs": [],
   "source": [
    "BFS_MazeAgent1=ProblemSolvingMazeAgentBFS(initState,mazeWorldGraph,goalState)"
   ]
  },
  {
   "cell_type": "code",
   "execution_count": 60,
   "id": "143685b2",
   "metadata": {},
   "outputs": [
    {
     "data": {
      "text/plain": [
       "(0, 3)"
      ]
     },
     "execution_count": 60,
     "metadata": {},
     "output_type": "execute_result"
    }
   ],
   "source": [
    "BFS_MazeAgent1.goal"
   ]
  },
  {
   "cell_type": "code",
   "execution_count": 61,
   "id": "13a7df00",
   "metadata": {},
   "outputs": [],
   "source": [
    "testNode=(0,2)"
   ]
  },
  {
   "cell_type": "code",
   "execution_count": 62,
   "id": "6c791e46",
   "metadata": {},
   "outputs": [
    {
     "name": "stdout",
     "output_type": "stream",
     "text": [
      "The <Node (0, 2)> is being pushed to frontier ...\n",
      "The <Node (0, 2)> is being extracted from frontier ...\n",
      "The child <Node (0, 1)> is being pushed to frontier ...\n",
      "The child <Node (0, 3)> is being pushed to frontier ...\n",
      "The <Node (0, 1)> is being extracted from frontier ...\n",
      "The child <Node (0, 0)> is being pushed to frontier ...\n",
      "The child <Node (1, 1)> is being pushed to frontier ...\n",
      "The <Node (0, 0)> is being extracted from frontier ...\n",
      "The child <Node (1, 0)> is being pushed to frontier ...\n",
      "The <Node (0, 3)> is being extracted from frontier ...\n",
      "We have found our goal:  <Node (0, 3)>!\n",
      "Solution (a sequence of actions) from the initial state to a goal: ['right']\n"
     ]
    }
   ],
   "source": [
    "BFS_MazeAgent1(testNode)"
   ]
  },
  {
   "cell_type": "markdown",
   "id": "f2bdfcea",
   "metadata": {},
   "source": [
    "!!!!!!!!!!!!!!!!!!!!!"
   ]
  },
  {
   "cell_type": "markdown",
   "id": "f0d88c18",
   "metadata": {},
   "source": [
    "Our Agent uses BFS as a search algorithm "
   ]
  },
  {
   "cell_type": "markdown",
   "id": "9176734f",
   "metadata": {},
   "source": [
    "With **BFS** we choose a node, n, with minimum value of some evaluation function, f(n)."
   ]
  },
  {
   "attachments": {
    "image.png": {
     "image/png": "[encoded data removed]"
    }
   },
   "cell_type": "markdown",
   "id": "a0606876",
   "metadata": {},
   "source": [
    "![image.png](attachment:image.png)"
   ]
  },
  {
   "cell_type": "markdown",
   "id": "64eee0a7",
   "metadata": {},
   "source": [
    "Let's create the environment for our Maze"
   ]
  },
  {
   "cell_type": "code",
   "execution_count": 67,
   "id": "6aec7ac5",
   "metadata": {},
   "outputs": [],
   "source": [
    "from src.navigationEnvironmentClass import MazeNavigationEnvironment"
   ]
  },
  {
   "cell_type": "code",
   "execution_count": 68,
   "id": "25e8d051",
   "metadata": {},
   "outputs": [],
   "source": [
    "maze_Env1=MazeNavigationEnvironment(mazeWorldGraph)"
   ]
  },
  {
   "cell_type": "code",
   "execution_count": 69,
   "id": "d7b9f3ac",
   "metadata": {},
   "outputs": [
    {
     "data": {
      "text/plain": [
       "{(0, 0): {(0, 1): 1, (1, 0): 1},\n",
       " (0, 1): {(0, 0): 1, (0, 2): 1, (1, 1): 1},\n",
       " (0, 2): {(0, 1): 1, (0, 3): 1},\n",
       " (0, 3): {(0, 2): 1, (1, 3): 1},\n",
       " (0, 5): {(1, 5): 1},\n",
       " (1, 0): {(0, 0): 1, (1, 1): 1, (2, 0): 1},\n",
       " (1, 1): {(1, 0): 1, (0, 1): 1, (2, 1): 1},\n",
       " (1, 3): {(0, 3): 1},\n",
       " (1, 5): {(0, 5): 1, (1, 6): 1, (2, 5): 1},\n",
       " (1, 6): {(1, 5): 1, (2, 6): 1},\n",
       " (2, 0): {(1, 0): 1, (2, 1): 1, (3, 0): 1},\n",
       " (2, 1): {(2, 0): 1, (1, 1): 1, (2, 2): 1, (3, 1): 1},\n",
       " (2, 2): {(2, 1): 1, (3, 2): 1},\n",
       " (2, 5): {(1, 5): 1, (2, 6): 1, (3, 5): 1},\n",
       " (2, 6): {(2, 5): 1, (1, 6): 1, (3, 6): 1},\n",
       " (3, 0): {(2, 0): 1, (3, 1): 1},\n",
       " (3, 1): {(3, 0): 1, (2, 1): 1, (3, 2): 1},\n",
       " (3, 2): {(3, 1): 1, (2, 2): 1, (3, 3): 1},\n",
       " (3, 3): {(3, 2): 1, (4, 3): 1},\n",
       " (3, 5): {(2, 5): 1, (3, 6): 1, (4, 5): 1},\n",
       " (3, 6): {(3, 5): 1, (2, 6): 1, (4, 6): 1},\n",
       " (4, 3): {(3, 3): 1, (4, 4): 1, (5, 3): 1},\n",
       " (4, 4): {(4, 3): 1, (4, 5): 1, (5, 4): 1},\n",
       " (4, 5): {(4, 4): 1, (3, 5): 1, (4, 6): 1, (5, 5): 1},\n",
       " (4, 6): {(4, 5): 1, (3, 6): 1, (5, 6): 1},\n",
       " (5, 0): {(6, 0): 1},\n",
       " (5, 2): {(5, 3): 1, (6, 2): 1},\n",
       " (5, 3): {(5, 2): 1, (4, 3): 1, (5, 4): 1, (6, 3): 1},\n",
       " (5, 4): {(5, 3): 1, (4, 4): 1, (5, 5): 1, (6, 4): 1},\n",
       " (5, 5): {(5, 4): 1, (4, 5): 1, (5, 6): 1, (6, 5): 1},\n",
       " (5, 6): {(5, 5): 1, (4, 6): 1},\n",
       " (6, 0): {(5, 0): 1, (6, 1): 1},\n",
       " (6, 1): {(6, 0): 1, (6, 2): 1},\n",
       " (6, 2): {(6, 1): 1, (5, 2): 1, (6, 3): 1},\n",
       " (6, 3): {(6, 2): 1, (5, 3): 1, (6, 4): 1},\n",
       " (6, 4): {(6, 3): 1, (5, 4): 1, (6, 5): 1},\n",
       " (6, 5): {(6, 4): 1, (5, 5): 1}}"
      ]
     },
     "execution_count": 69,
     "metadata": {},
     "output_type": "execute_result"
    }
   ],
   "source": [
    "maze_Env1.status.graph_dict"
   ]
  },
  {
   "cell_type": "code",
   "execution_count": 70,
   "id": "e561828a",
   "metadata": {},
   "outputs": [],
   "source": [
    "BFS_MazeAgent2=ProblemSolvingMazeAgentBFS(initState,mazeWorldGraph,goalState)"
   ]
  },
  {
   "cell_type": "code",
   "execution_count": 71,
   "id": "92429d7f",
   "metadata": {},
   "outputs": [
    {
     "data": {
      "text/plain": [
       "37"
      ]
     },
     "execution_count": 71,
     "metadata": {},
     "output_type": "execute_result"
    }
   ],
   "source": [
    "BFS_MazeAgent2.performance # Is # of valid nodes"
   ]
  },
  {
   "cell_type": "code",
   "execution_count": 72,
   "id": "5be76394",
   "metadata": {},
   "outputs": [
    {
     "name": "stdout",
     "output_type": "stream",
     "text": [
      "(0, 1) (0, 3)\n"
     ]
    }
   ],
   "source": [
    "print(initState,goalState)"
   ]
  },
  {
   "cell_type": "code",
   "execution_count": 73,
   "id": "3b2d4c65",
   "metadata": {},
   "outputs": [
    {
     "data": {
      "text/plain": [
       "'0-3'"
      ]
     },
     "execution_count": 73,
     "metadata": {},
     "output_type": "execute_result"
    }
   ],
   "source": [
    "intTupleTostr(goalState)"
   ]
  },
  {
   "cell_type": "code",
   "execution_count": 74,
   "id": "c05d4459",
   "metadata": {},
   "outputs": [
    {
     "data": {
      "text/plain": [
       "{'wall': 'red', 'path': 'white'}"
      ]
     },
     "execution_count": 74,
     "metadata": {},
     "output_type": "execute_result"
    }
   ],
   "source": [
    "nodeColors"
   ]
  },
  {
   "cell_type": "code",
   "execution_count": null,
   "id": "a63ae7a7",
   "metadata": {},
   "outputs": [
    {
     "data": {
      "text/plain": [
       "{'wall': 'red', 'path': 'white', 'goal': 'green', 'init': 'gold'}"
      ]
     },
     "execution_count": 64,
     "metadata": {},
     "output_type": "execute_result"
    }
   ],
   "source": [
    "nodeColors.setdefault('goal', \"green\")\n",
    "nodeColors.setdefault('init', \"gold\")\n",
    "nodeColors"
   ]
  },
  {
   "cell_type": "code",
   "execution_count": null,
   "id": "a83c1582",
   "metadata": {},
   "outputs": [],
   "source": [
    "for node in net_maze.nodes:\n",
    "    if node['id']==intTupleTostr(goalState):\n",
    "        node['color']=nodeColors['goal']\n",
    "    elif node['id']==intTupleTostr(initState):\n",
    "        node['color']=nodeColors['init']"
   ]
  },
  {
   "cell_type": "code",
   "execution_count": null,
   "id": "dc94f609",
   "metadata": {},
   "outputs": [
    {
     "name": "stdout",
     "output_type": "stream",
     "text": [
      "graphMaze1.html\n"
     ]
    }
   ],
   "source": [
    "net_maze.show(\"graphMaze1.html\", notebook=False)"
   ]
  },
  {
   "attachments": {
    "image-2.png": {
     "image/png": "[encoded data removed]"
    },
    "image.png": {
     "image/png": "[encoded data removed]"
    }
   },
   "cell_type": "markdown",
   "id": "8c66bbd7",
   "metadata": {},
   "source": [
    "![image.png](attachment:image.png)  ![image-2.png](attachment:image-2.png)"
   ]
  },
  {
   "cell_type": "markdown",
   "id": "340c9fc6",
   "metadata": {},
   "source": [
    "**!!!** As you can see the visualization of our Maze (above) is not complete enough (not all available actions are visible).\n",
    "**You need to resolve this in your implementation.**"
   ]
  },
  {
   "cell_type": "markdown",
   "id": "0ea8813c",
   "metadata": {},
   "source": [
    "When we add the PS Agent into the Nav.Env. it should run its call() method "
   ]
  },
  {
   "cell_type": "code",
   "execution_count": null,
   "id": "f5a7fa1f",
   "metadata": {},
   "outputs": [
    {
     "name": "stdout",
     "output_type": "stream",
     "text": [
      "The <Node (0, 1)> is being pushed to frontier ...\n",
      "The <Node (0, 1)> is being extracted from frontier ...\n",
      "The child <Node (0, 2)> is being pushed to frontier ...\n",
      "The child <Node (1, 1)> is being pushed to frontier ...\n",
      "The <Node (0, 2)> is being extracted from frontier ...\n",
      "The child <Node (0, 3)> is being pushed to frontier ...\n",
      "The child <Node (1, 2)> is being pushed to frontier ...\n",
      "The <Node (0, 3)> is being extracted from frontier ...\n",
      "We have found our goal:  <Node (0, 3)>!\n",
      "Solution (a sequence of actions) from the initial state to a goal: ['right', 'right']\n",
      "The Agent in (0, 1) with performance 10\n"
     ]
    }
   ],
   "source": [
    "maze_Env1.add_thing(BFS_MazeAgent2) # Agent finds sequence to goal upon being added"
   ]
  },
  {
   "cell_type": "code",
   "execution_count": null,
   "id": "19b789a2",
   "metadata": {},
   "outputs": [
    {
     "name": "stdout",
     "output_type": "stream",
     "text": [
      "Agent decided to do right.\n",
      "Agent in right with performance = 9\n"
     ]
    }
   ],
   "source": [
    "maze_Env1.step()"
   ]
  },
  {
   "cell_type": "code",
   "execution_count": null,
   "id": "5c7fc9ba",
   "metadata": {},
   "outputs": [
    {
     "name": "stdout",
     "output_type": "stream",
     "text": [
      "Agent decided to do right.\n",
      "Agent in right with performance = 8\n",
      "Agent reached all goals\n"
     ]
    }
   ],
   "source": [
    "maze_Env1.step()"
   ]
  },
  {
   "cell_type": "code",
   "execution_count": null,
   "id": "7380ea84",
   "metadata": {},
   "outputs": [
    {
     "name": "stdout",
     "output_type": "stream",
     "text": [
      "There is no one here who could work...\n"
     ]
    }
   ],
   "source": [
    "maze_Env1.step() # Her Agent dies upon reaching goal, we can change if we want for ours but don't need to"
   ]
  },
  {
   "cell_type": "code",
   "execution_count": null,
   "id": "51cd5101",
   "metadata": {},
   "outputs": [
    {
     "name": "stdout",
     "output_type": "stream",
     "text": [
      "step 1:\n",
      "Agent decided to do up.\n",
      "Agent in up with performance = 13\n",
      "step 2:\n",
      "Agent decided to do up.\n",
      "Agent in up with performance = 12\n",
      "step 3:\n",
      "Agent decided to do right.\n",
      "Agent in right with performance = 11\n",
      "Agent reached all goals\n"
     ]
    }
   ],
   "source": [
    "maze_Env1.run() # Runs until it reaches goals"
   ]
  }
 ],
 "metadata": {
  "kernelspec": {
   "display_name": ".venv",
   "language": "python",
   "name": "python3"
  },
  "language_info": {
   "codemirror_mode": {
    "name": "ipython",
    "version": 3
   },
   "file_extension": ".py",
   "mimetype": "text/x-python",
   "name": "python",
   "nbconvert_exporter": "python",
   "pygments_lexer": "ipython3",
   "version": "3.13.8"
  }
 },
 "nbformat": 4,
 "nbformat_minor": 5
}
